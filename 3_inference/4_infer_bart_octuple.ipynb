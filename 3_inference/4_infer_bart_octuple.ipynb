{
 "cells": [
  {
   "cell_type": "code",
   "execution_count": 54,
   "id": "54616499-4aa6-4106-b05f-5b2f8e508329",
   "metadata": {
    "tags": []
   },
   "outputs": [],
   "source": [
    "import os, sys\n",
    "os.environ['PYTHONPATH'] = '/home/qihao/MelodyBot'\n",
    "sys.path.append('/home/qihao/MelodyBot')\n",
    "import pickle\n",
    "import random\n",
    "import subprocess\n",
    "import torch.cuda\n",
    "import torch\n",
    "import numpy as np\n",
    "from torch.utils.tensorboard import SummaryWriter\n",
    "from utils.earlystopping.protocols import EarlyStopping\n",
    "from utils.test_dataloder import *\n",
    "import datetime\n",
    "from utils.get_time import get_time\n",
    "import gc\n",
    "from tqdm import tqdm\n",
    "from utils.warmup import *\n",
    "import torch.nn.functional as F\n",
    "from models.bartmodel_octuple import Bart\n",
    "from transformers import get_linear_schedule_with_warmup"
   ]
  },
  {
   "cell_type": "code",
   "execution_count": 55,
   "id": "4e696daa-1c57-4b35-8aad-3c65bde8fbb9",
   "metadata": {},
   "outputs": [],
   "source": [
    "device = torch.device(\"cuda:3\" if torch.cuda.is_available() else \"cpu\")"
   ]
  },
  {
   "cell_type": "code",
   "execution_count": 56,
   "id": "7b52e9a3-3226-4ca6-982b-c357a3e23789",
   "metadata": {},
   "outputs": [],
   "source": [
    "ckpt_name = 'checkpoint_20240406:190014_lr_5e-05'\n",
    "# ckpt_dir = f'/home/qihao/CS6207/octuple/checkpoints/{ckpt_name}'\n",
    "ckpt_dir = f'/data1/qihao/cs6207/octuple/checkpoints/{ckpt_name}'"
   ]
  },
  {
   "cell_type": "code",
   "execution_count": 57,
   "id": "da90aa88-dabb-44e9-8df1-6215d474e968",
   "metadata": {},
   "outputs": [],
   "source": [
    "src_keys = ['strength', 'length', 'phrase']\n",
    "tgt_keys = ['bar', 'pos', 'token', 'dur', 'phrase']\n",
    "\n",
    "binary_dir = '/data1/qihao/cs6207/octuple/binary_909'\n",
    "# words_dir = '/data1/qihao/cs6207/octuple/binary/words' ## pretrain\n",
    "words_dir = '/data1/qihao/cs6207/octuple/binary_909/words' ## 909\n",
    "hparams = {\n",
    "    'batch_size': 1,\n",
    "    'word_data_dir': words_dir,\n",
    "    'sentence_maxlen': 512,\n",
    "    'hidden_size': 768,\n",
    "    'n_layers': 6,\n",
    "    'n_head': 8,\n",
    "    'pretrain': '',\n",
    "    'lr': 5.0e-5,\n",
    "    'optimizer_adam_beta1': 0.9,\n",
    "    'optimizer_adam_beta2': 0.98,\n",
    "    'weight_decay': 0.001,\n",
    "    'patience': 5,\n",
    "    'warmup': 2500,\n",
    "    'lr': 5.0e-5,\n",
    "    'checkpoint_dir': '/home/qihao/MelodyBot/octuple/checkpoints',\n",
    "    'drop_prob': 0.2,\n",
    "    'total_epoch': 1000,\n",
    "    'infer_batch_size': 1,\n",
    "    'temperature': 1.5,\n",
    "    'topk': 5,\n",
    "    'prompt_step': 1,\n",
    "    'infer_max_step': 1024,\n",
    "    'output_dir': \"/home/qihao/MelodyBot/octuple/output\",\n",
    "}"
   ]
  },
  {
   "cell_type": "code",
   "execution_count": 58,
   "id": "9f197dd9-a209-46c7-96e8-664a52ed6176",
   "metadata": {},
   "outputs": [],
   "source": [
    "def set_seed(seed=1234):  # seed setting\n",
    "    random.seed(seed)\n",
    "    np.random.seed(seed)\n",
    "    torch.manual_seed(seed)\n",
    "    torch.cuda.manual_seed(seed)\n",
    "    torch.cuda.manual_seed_all(seed)\n",
    "    # cuDNN在使用deterministic模式时（下面两行），可能会造成性能下降（取决于model）\n",
    "    torch.backends.cudnn.deterministic = True\n",
    "    torch.backends.cudnn.benchmark = False"
   ]
  },
  {
   "cell_type": "code",
   "execution_count": 59,
   "id": "5601fb7c-9c8f-4808-8180-c3ba34201b7b",
   "metadata": {},
   "outputs": [],
   "source": [
    "def load_model(checkpoint_path, device):\n",
    "    model = Bart(event2word_dict=event2word_dict, \n",
    "                 word2event_dict=word2event_dict, \n",
    "                 model_pth='',\n",
    "                 hidden_size=hparams['hidden_size'], \n",
    "                 num_layers=hparams['n_layers'], \n",
    "                 num_heads=hparams['n_head'], \n",
    "                 dropout=hparams['drop_prob'],).to(device)\n",
    "\n",
    "    model.load_state_dict(torch.load(checkpoint_path, map_location=device), strict=True)\n",
    "    model.eval()\n",
    "    print(f\"| Successfully loaded bart ckpt from {checkpoint_path}.\")\n",
    "    return model"
   ]
  },
  {
   "cell_type": "code",
   "execution_count": 60,
   "id": "ab05e2b0-a7ec-4d65-96be-87178a053308",
   "metadata": {},
   "outputs": [],
   "source": [
    "def xe_loss(outputs, targets):\n",
    "    outputs = outputs.transpose(1, 2)\n",
    "    return F.cross_entropy(outputs, targets, ignore_index=0, reduction='mean')"
   ]
  },
  {
   "cell_type": "code",
   "execution_count": 61,
   "id": "86b780a0-a2b8-4ae8-b51d-d8d3bd5d391d",
   "metadata": {},
   "outputs": [],
   "source": [
    "def infer_l2m():\n",
    "    ## -------------------\n",
    "    ##     Bart Model\n",
    "    ## -------------------\n",
    "    set_seed()\n",
    "    print(f\"Using device: {device} for inferences custom samples\")\n",
    "    \n",
    "    # training conditions (for naming the ckpt)\n",
    "    lr = hparams['lr']\n",
    "    \n",
    "    ckpt_path = os.path.join(ckpt_dir, 'best.pt')\n",
    "\n",
    "    # load dictionary\n",
    "    event2word_dict, word2event_dict = pickle.load(open(f\"{binary_dir}/music_dict.pkl\", 'rb'))\n",
    "    \n",
    "    test_dataset = L2MDataset('test', event2word_dict, hparams, shuffle=True)\n",
    "    test_loader = build_dataloader(dataset=test_dataset, shuffle=True, batch_size=hparams['infer_batch_size'], endless=False)\n",
    "    \n",
    "    print(f\"Test Datalodaer = {len(test_loader)} Songs\")\n",
    "\n",
    "    # load melody generation model based on skeleton framework\n",
    "    model = Bart(event2word_dict=event2word_dict, \n",
    "                 word2event_dict=word2event_dict, \n",
    "                 model_pth='',\n",
    "                 hidden_size=hparams['hidden_size'], \n",
    "                 num_layers=hparams['n_layers'], \n",
    "                 num_heads=hparams['n_head'], \n",
    "                 dropout=hparams['drop_prob'],).to(device)\n",
    "    model.load_state_dict(torch.load(ckpt_path, map_location=device), strict=True)\n",
    "    model.eval()\n",
    "    print(f\"| Successfully loaded bart ckpt from {ckpt_path}.\")\n",
    "\n",
    "    # -------------------------------------------------------------------------------------------\n",
    "    # Inference file path\n",
    "    # -------------------------------------------------------------------------------------------\n",
    "    exp_date = get_time()\n",
    "    melody_output_dir = os.path.join(hparams['output_dir'], f'melody_{exp_date}')\n",
    "    if not os.path.exists(melody_output_dir):\n",
    "        os.mkdir(melody_output_dir)\n",
    "    \n",
    "    ### randomly sample from test data\n",
    "    import random\n",
    "\n",
    "    num_sample = 50\n",
    "    random_integers = random.sample(range(0, len(test_loader)-1), num_sample)\n",
    "    \n",
    "    # prompt_step = hparams['prompt_step']\n",
    "    \n",
    "    for data_idx, data in enumerate(test_loader):\n",
    "        # print(data)\n",
    "        # if data_idx not in random_integers:\n",
    "            # continue\n",
    "        try:\n",
    "            data_name = data['item_name'][0] if '.mid' not in data['item_name'][0] else data['item_name'][0][:-4]\n",
    "\n",
    "            enc_inputs = {k: data[f'src_{k}'].to(device) for k in src_keys}\n",
    "            dec_inputs = {k: data[f'tgt_{k}'].to(device) for k in tgt_keys}\n",
    "            \n",
    "            # print(enc_inputs['strength'].shape)\n",
    "            \n",
    "            # prompt_step = dec_inputs['token'].shape[-1]  ## output gt\n",
    "            prompt_step = hparams['prompt_step']\n",
    "            \n",
    "            dec_inputs_selected = {\n",
    "                'bar': dec_inputs['bar'][:, :prompt_step],\n",
    "                'pos': dec_inputs['pos'][:, :prompt_step],\n",
    "                'token': dec_inputs['token'][:, :prompt_step],\n",
    "                'dur': dec_inputs['dur'][:, :prompt_step],\n",
    "                'phrase': dec_inputs['phrase'][:, :prompt_step],\n",
    "            }\n",
    "            # print(enc_inputs)\n",
    "            # print(dec_inputs_selected)\n",
    "            \n",
    "            decode_length = dec_inputs['token'].shape[-1]\n",
    "            max_sent_len = 1024\n",
    "            \n",
    "            print(f\"Expected decode length: {decode_length}\")\n",
    "            _ = model.infer(enc_inputs=enc_inputs, \n",
    "                            dec_inputs_gt=dec_inputs_selected, \n",
    "                            decode_length=decode_length,\n",
    "                            sentence_maxlen=max_sent_len, \n",
    "                            temperature=hparams['temperature'], \n",
    "                            topk=hparams['topk'], \n",
    "                            device=device, \n",
    "                            output_dir=melody_output_dir, \n",
    "                            midi_name=data_name)\n",
    "            \n",
    "            print(f\"Generating {data_idx+1}/{len(test_loader)}, Name: {data_name}\")\n",
    "        except Exception as e:\n",
    "            traceback.print_exc()\n",
    "            print(f\"-!-!-!-!-!-!-!-!-!-!-!-!-!-!-!-!-!-!-!-!-!-!-!-!-!-!-!-!-!-!-!-!-!-!-!-!-!-!-\\nBad Item: {data_name}\")"
   ]
  },
  {
   "cell_type": "code",
   "execution_count": 62,
   "id": "cdca57e4-ea82-46a9-93b3-85c50395b3e4",
   "metadata": {},
   "outputs": [
    {
     "name": "stdout",
     "output_type": "stream",
     "text": [
      "Using device: cuda:3 for inferences custom samples\n",
      "Test Datalodaer = 387 Songs\n",
      "| Successfully loaded bart ckpt from /data1/qihao/cs6207/octuple/checkpoints/checkpoint_20240406:190014_lr_5e-05/best.pt.\n"
     ]
    },
    {
     "name": "stderr",
     "output_type": "stream",
     "text": [
      "  1%|          | 9/1024 [00:00<00:11, 86.60it/s]"
     ]
    },
    {
     "name": "stdout",
     "output_type": "stream",
     "text": [
      "Expected decode length: 109\n",
      "Sampling strategy: temperature-1.5, top-5\n"
     ]
    },
    {
     "name": "stderr",
     "output_type": "stream",
     "text": [
      " 10%|█         | 107/1024 [00:01<00:10, 86.73it/s]\n",
      "  1%|          | 9/1024 [00:00<00:12, 83.19it/s]"
     ]
    },
    {
     "name": "stdout",
     "output_type": "stream",
     "text": [
      "Decode ends at step 107\n",
      "/home/qihao/MelodyBot/octuple/output/melody_20250519:121116/在深秋_seg0_1_Seg3.mid\n",
      "Generating 1/387, Name: 在深秋_seg0_1_Seg3\n",
      "Expected decode length: 433\n",
      "Sampling strategy: temperature-1.5, top-5\n"
     ]
    },
    {
     "name": "stderr",
     "output_type": "stream",
     "text": [
      " 42%|████▏     | 431/1024 [00:05<00:07, 79.28it/s]\n",
      "  1%|          | 9/1024 [00:00<00:11, 89.83it/s]"
     ]
    },
    {
     "name": "stdout",
     "output_type": "stream",
     "text": [
      "Decode ends at step 431\n",
      "/home/qihao/MelodyBot/octuple/output/melody_20250519:121116/wikifonia_1300_seg0_1_Seg1.mid\n",
      "Generating 2/387, Name: wikifonia_1300_seg0_1_Seg1\n",
      "Expected decode length: 70\n",
      "Sampling strategy: temperature-1.5, top-5\n"
     ]
    },
    {
     "name": "stderr",
     "output_type": "stream",
     "text": [
      "  7%|▋         | 68/1024 [00:00<00:11, 86.28it/s]\n",
      "  1%|          | 10/1024 [00:00<00:11, 91.01it/s]"
     ]
    },
    {
     "name": "stdout",
     "output_type": "stream",
     "text": [
      "Decode ends at step 68\n",
      "/home/qihao/MelodyBot/octuple/output/melody_20250519:121116/wikifonia_2176_seg0_1_Seg1.mid\n",
      "Generating 3/387, Name: wikifonia_2176_seg0_1_Seg1\n",
      "Expected decode length: 60\n",
      "Sampling strategy: temperature-1.5, top-5\n"
     ]
    },
    {
     "name": "stderr",
     "output_type": "stream",
     "text": [
      "  6%|▌         | 58/1024 [00:00<00:11, 87.49it/s]\n",
      "  1%|          | 10/1024 [00:00<00:11, 90.91it/s]"
     ]
    },
    {
     "name": "stdout",
     "output_type": "stream",
     "text": [
      "Decode ends at step 58\n",
      "/home/qihao/MelodyBot/octuple/output/melody_20250519:121116/wikifonia_3126_seg0_1_Seg1.mid\n",
      "Generating 4/387, Name: wikifonia_3126_seg0_1_Seg1\n",
      "Expected decode length: 161\n",
      "Sampling strategy: temperature-1.5, top-5\n"
     ]
    },
    {
     "name": "stderr",
     "output_type": "stream",
     "text": [
      " 16%|█▌        | 159/1024 [00:01<00:09, 87.74it/s]\n",
      "  1%|          | 10/1024 [00:00<00:11, 90.30it/s]"
     ]
    },
    {
     "name": "stdout",
     "output_type": "stream",
     "text": [
      "Decode ends at step 159\n",
      "/home/qihao/MelodyBot/octuple/output/melody_20250519:121116/wikifonia_2349_seg0_1_Seg1.mid\n",
      "Generating 5/387, Name: wikifonia_2349_seg0_1_Seg1\n",
      "Expected decode length: 249\n",
      "Sampling strategy: temperature-1.5, top-5\n"
     ]
    },
    {
     "name": "stderr",
     "output_type": "stream",
     "text": [
      " 24%|██▍       | 247/1024 [00:02<00:08, 87.56it/s]\n",
      "  1%|          | 10/1024 [00:00<00:11, 90.44it/s]"
     ]
    },
    {
     "name": "stdout",
     "output_type": "stream",
     "text": [
      "Decode ends at step 247\n",
      "/home/qihao/MelodyBot/octuple/output/melody_20250519:121116/wikifonia_1031_seg0_1_Seg1.mid\n",
      "Generating 6/387, Name: wikifonia_1031_seg0_1_Seg1\n",
      "Expected decode length: 91\n",
      "Sampling strategy: temperature-1.5, top-5\n"
     ]
    },
    {
     "name": "stderr",
     "output_type": "stream",
     "text": [
      "  9%|▊         | 89/1024 [00:01<00:10, 87.47it/s]\n",
      "  1%|          | 10/1024 [00:00<00:11, 90.37it/s]"
     ]
    },
    {
     "name": "stdout",
     "output_type": "stream",
     "text": [
      "Decode ends at step 89\n",
      "/home/qihao/MelodyBot/octuple/output/melody_20250519:121116/wikifonia_146_seg0_1_Seg1.mid\n",
      "Generating 7/387, Name: wikifonia_146_seg0_1_Seg1\n",
      "Expected decode length: 124\n",
      "Sampling strategy: temperature-1.5, top-5\n"
     ]
    },
    {
     "name": "stderr",
     "output_type": "stream",
     "text": [
      " 12%|█▏        | 122/1024 [00:01<00:10, 86.74it/s]\n",
      "  1%|          | 9/1024 [00:00<00:11, 89.83it/s]"
     ]
    },
    {
     "name": "stdout",
     "output_type": "stream",
     "text": [
      "Decode ends at step 122\n",
      "/home/qihao/MelodyBot/octuple/output/melody_20250519:121116/wikifonia_2466_seg0_1_Seg1.mid\n",
      "Generating 8/387, Name: wikifonia_2466_seg0_1_Seg1\n",
      "Expected decode length: 71\n",
      "Sampling strategy: temperature-1.5, top-5\n"
     ]
    },
    {
     "name": "stderr",
     "output_type": "stream",
     "text": [
      "  7%|▋         | 69/1024 [00:00<00:11, 86.29it/s]\n",
      "  1%|          | 10/1024 [00:00<00:11, 91.00it/s]"
     ]
    },
    {
     "name": "stdout",
     "output_type": "stream",
     "text": [
      "Decode ends at step 69\n",
      "/home/qihao/MelodyBot/octuple/output/melody_20250519:121116/wikifonia_3130_seg0_1_Seg1.mid\n",
      "Generating 9/387, Name: wikifonia_3130_seg0_1_Seg1\n",
      "Expected decode length: 153\n",
      "Sampling strategy: temperature-1.5, top-5\n"
     ]
    },
    {
     "name": "stderr",
     "output_type": "stream",
     "text": [
      " 15%|█▍        | 151/1024 [00:01<00:09, 87.96it/s]\n",
      "  1%|          | 9/1024 [00:00<00:12, 84.04it/s]"
     ]
    },
    {
     "name": "stdout",
     "output_type": "stream",
     "text": [
      "Decode ends at step 151\n",
      "/home/qihao/MelodyBot/octuple/output/melody_20250519:121116/wikifonia_1838_seg0_1_Seg1.mid\n",
      "Generating 10/387, Name: wikifonia_1838_seg0_1_Seg1\n",
      "Expected decode length: 389\n",
      "Sampling strategy: temperature-1.5, top-5\n"
     ]
    },
    {
     "name": "stderr",
     "output_type": "stream",
     "text": [
      " 38%|███▊      | 387/1024 [00:04<00:07, 80.09it/s]\n",
      "  1%|          | 9/1024 [00:00<00:11, 89.80it/s]"
     ]
    },
    {
     "name": "stdout",
     "output_type": "stream",
     "text": [
      "Decode ends at step 387\n",
      "/home/qihao/MelodyBot/octuple/output/melody_20250519:121116/弱点_seg0_1_Seg1.mid\n",
      "Generating 11/387, Name: 弱点_seg0_1_Seg1\n",
      "Expected decode length: 117\n",
      "Sampling strategy: temperature-1.5, top-5\n"
     ]
    },
    {
     "name": "stderr",
     "output_type": "stream",
     "text": [
      " 11%|█         | 115/1024 [00:01<00:10, 86.49it/s]\n",
      "  1%|          | 9/1024 [00:00<00:11, 87.67it/s]"
     ]
    },
    {
     "name": "stdout",
     "output_type": "stream",
     "text": [
      "Decode ends at step 115\n",
      "/home/qihao/MelodyBot/octuple/output/melody_20250519:121116/wikifonia_2796_seg0_1_Seg1.mid\n",
      "Generating 12/387, Name: wikifonia_2796_seg0_1_Seg1\n",
      "Expected decode length: 144\n",
      "Sampling strategy: temperature-1.5, top-5\n"
     ]
    },
    {
     "name": "stderr",
     "output_type": "stream",
     "text": [
      " 14%|█▍        | 142/1024 [00:01<00:10, 86.08it/s]\n",
      "  1%|          | 9/1024 [00:00<00:11, 85.11it/s]"
     ]
    },
    {
     "name": "stdout",
     "output_type": "stream",
     "text": [
      "Decode ends at step 142\n",
      "/home/qihao/MelodyBot/octuple/output/melody_20250519:121116/wikifonia_2774_seg0_1_Seg1.mid\n",
      "Generating 13/387, Name: wikifonia_2774_seg0_1_Seg1\n",
      "Expected decode length: 63\n",
      "Sampling strategy: temperature-1.5, top-5\n"
     ]
    },
    {
     "name": "stderr",
     "output_type": "stream",
     "text": [
      "  6%|▌         | 61/1024 [00:00<00:11, 83.05it/s]\n",
      "  1%|          | 10/1024 [00:00<00:11, 90.66it/s]"
     ]
    },
    {
     "name": "stdout",
     "output_type": "stream",
     "text": [
      "Decode ends at step 61\n",
      "/home/qihao/MelodyBot/octuple/output/melody_20250519:121116/wikifonia_1422_seg0_1_Seg1.mid\n",
      "Generating 14/387, Name: wikifonia_1422_seg0_1_Seg1\n",
      "Expected decode length: 193\n",
      "Sampling strategy: temperature-1.5, top-5\n"
     ]
    },
    {
     "name": "stderr",
     "output_type": "stream",
     "text": [
      " 19%|█▊        | 191/1024 [00:02<00:09, 84.55it/s]\n",
      "  1%|          | 9/1024 [00:00<00:11, 87.53it/s]"
     ]
    },
    {
     "name": "stdout",
     "output_type": "stream",
     "text": [
      "Decode ends at step 191\n",
      "/home/qihao/MelodyBot/octuple/output/melody_20250519:121116/wikifonia_2699_seg0_1_Seg1.mid\n",
      "Generating 15/387, Name: wikifonia_2699_seg0_1_Seg1\n",
      "Expected decode length: 95\n",
      "Sampling strategy: temperature-1.5, top-5\n"
     ]
    },
    {
     "name": "stderr",
     "output_type": "stream",
     "text": [
      "  9%|▉         | 92/1024 [00:01<00:11, 82.64it/s]\n",
      "  1%|          | 10/1024 [00:00<00:11, 89.89it/s]"
     ]
    },
    {
     "name": "stdout",
     "output_type": "stream",
     "text": [
      "Decode ends at step 92\n",
      "/home/qihao/MelodyBot/octuple/output/melody_20250519:121116/wikifonia_2180_seg0_1_Seg1.mid\n",
      "Generating 16/387, Name: wikifonia_2180_seg0_1_Seg1\n",
      "Expected decode length: 166\n",
      "Sampling strategy: temperature-1.5, top-5\n"
     ]
    },
    {
     "name": "stderr",
     "output_type": "stream",
     "text": [
      " 16%|█▌        | 164/1024 [00:01<00:10, 83.84it/s]\n",
      "  1%|          | 9/1024 [00:00<00:11, 87.96it/s]"
     ]
    },
    {
     "name": "stdout",
     "output_type": "stream",
     "text": [
      "Decode ends at step 164\n",
      "/home/qihao/MelodyBot/octuple/output/melody_20250519:121116/大哥_seg0_1_Seg1.mid\n",
      "Generating 17/387, Name: 大哥_seg0_1_Seg1\n",
      "Expected decode length: 245\n",
      "Sampling strategy: temperature-1.5, top-5\n"
     ]
    },
    {
     "name": "stderr",
     "output_type": "stream",
     "text": [
      " 24%|██▎       | 243/1024 [00:02<00:09, 84.41it/s]\n",
      "  1%|          | 10/1024 [00:00<00:11, 91.23it/s]"
     ]
    },
    {
     "name": "stdout",
     "output_type": "stream",
     "text": [
      "Decode ends at step 243\n",
      "/home/qihao/MelodyBot/octuple/output/melody_20250519:121116/wikifonia_323_seg0_1_Seg1.mid\n",
      "Generating 18/387, Name: wikifonia_323_seg0_1_Seg1\n",
      "Expected decode length: 136\n",
      "Sampling strategy: temperature-1.5, top-5\n"
     ]
    },
    {
     "name": "stderr",
     "output_type": "stream",
     "text": [
      " 13%|█▎        | 134/1024 [00:01<00:10, 83.87it/s]\n",
      "  1%|          | 9/1024 [00:00<00:11, 89.54it/s]"
     ]
    },
    {
     "name": "stdout",
     "output_type": "stream",
     "text": [
      "Decode ends at step 134\n",
      "/home/qihao/MelodyBot/octuple/output/melody_20250519:121116/wikifonia_610_seg0_1_Seg1.mid\n",
      "Generating 19/387, Name: wikifonia_610_seg0_1_Seg1\n",
      "Expected decode length: 108\n",
      "Sampling strategy: temperature-1.5, top-5\n"
     ]
    },
    {
     "name": "stderr",
     "output_type": "stream",
     "text": [
      " 10%|█         | 106/1024 [00:01<00:10, 84.58it/s]\n",
      "  1%|          | 9/1024 [00:00<00:11, 88.25it/s]"
     ]
    },
    {
     "name": "stdout",
     "output_type": "stream",
     "text": [
      "Decode ends at step 106\n",
      "/home/qihao/MelodyBot/octuple/output/melody_20250519:121116/wikifonia_1203_seg0_1_Seg1.mid\n",
      "Generating 20/387, Name: wikifonia_1203_seg0_1_Seg1\n",
      "Expected decode length: 187\n",
      "Sampling strategy: temperature-1.5, top-5\n"
     ]
    },
    {
     "name": "stderr",
     "output_type": "stream",
     "text": [
      " 18%|█▊        | 185/1024 [00:02<00:09, 88.28it/s]\n",
      "  1%|          | 10/1024 [00:00<00:11, 91.69it/s]"
     ]
    },
    {
     "name": "stdout",
     "output_type": "stream",
     "text": [
      "Decode ends at step 185\n",
      "/home/qihao/MelodyBot/octuple/output/melody_20250519:121116/一天到晚游泳的鱼_seg0_1_Seg1.mid\n",
      "Generating 21/387, Name: 一天到晚游泳的鱼_seg0_1_Seg1\n",
      "Expected decode length: 104\n",
      "Sampling strategy: temperature-1.5, top-5\n"
     ]
    },
    {
     "name": "stderr",
     "output_type": "stream",
     "text": [
      " 10%|▉         | 102/1024 [00:01<00:10, 88.37it/s]\n",
      "  1%|          | 10/1024 [00:00<00:11, 91.43it/s]"
     ]
    },
    {
     "name": "stdout",
     "output_type": "stream",
     "text": [
      "Decode ends at step 102\n",
      "/home/qihao/MelodyBot/octuple/output/melody_20250519:121116/wikifonia_421_seg0_1_Seg1.mid\n",
      "Generating 22/387, Name: wikifonia_421_seg0_1_Seg1\n",
      "Expected decode length: 68\n",
      "Sampling strategy: temperature-1.5, top-5\n"
     ]
    },
    {
     "name": "stderr",
     "output_type": "stream",
     "text": [
      "  6%|▋         | 66/1024 [00:00<00:10, 88.03it/s]\n",
      "  1%|          | 9/1024 [00:00<00:11, 89.29it/s]"
     ]
    },
    {
     "name": "stdout",
     "output_type": "stream",
     "text": [
      "Decode ends at step 66\n",
      "/home/qihao/MelodyBot/octuple/output/melody_20250519:121116/wikifonia_1848_seg0_1_Seg1.mid\n",
      "Generating 23/387, Name: wikifonia_1848_seg0_1_Seg1\n",
      "Expected decode length: 190\n",
      "Sampling strategy: temperature-1.5, top-5\n"
     ]
    },
    {
     "name": "stderr",
     "output_type": "stream",
     "text": [
      " 18%|█▊        | 188/1024 [00:02<00:09, 88.32it/s]\n",
      "  1%|          | 9/1024 [00:00<00:11, 89.75it/s]"
     ]
    },
    {
     "name": "stdout",
     "output_type": "stream",
     "text": [
      "Decode ends at step 188\n",
      "/home/qihao/MelodyBot/octuple/output/melody_20250519:121116/wikifonia_1169_seg0_1_Seg1.mid\n",
      "Generating 24/387, Name: wikifonia_1169_seg0_1_Seg1\n",
      "Expected decode length: 99\n",
      "Sampling strategy: temperature-1.5, top-5\n"
     ]
    },
    {
     "name": "stderr",
     "output_type": "stream",
     "text": [
      "  9%|▉         | 97/1024 [00:01<00:10, 86.47it/s]\n",
      "  1%|          | 9/1024 [00:00<00:11, 89.56it/s]"
     ]
    },
    {
     "name": "stdout",
     "output_type": "stream",
     "text": [
      "Decode ends at step 97\n",
      "/home/qihao/MelodyBot/octuple/output/melody_20250519:121116/wikifonia_1504_seg0_1_Seg1.mid\n",
      "Generating 25/387, Name: wikifonia_1504_seg0_1_Seg1\n",
      "Expected decode length: 100\n",
      "Sampling strategy: temperature-1.5, top-5\n"
     ]
    },
    {
     "name": "stderr",
     "output_type": "stream",
     "text": [
      " 10%|▉         | 98/1024 [00:01<00:10, 86.57it/s]\n",
      "  1%|          | 10/1024 [00:00<00:11, 90.66it/s]"
     ]
    },
    {
     "name": "stdout",
     "output_type": "stream",
     "text": [
      "Decode ends at step 98\n",
      "/home/qihao/MelodyBot/octuple/output/melody_20250519:121116/wikifonia_2110_seg0_1_Seg1.mid\n",
      "Generating 26/387, Name: wikifonia_2110_seg0_1_Seg1\n",
      "Expected decode length: 36\n",
      "Sampling strategy: temperature-1.5, top-5\n"
     ]
    },
    {
     "name": "stderr",
     "output_type": "stream",
     "text": [
      "  2%|▏         | 22/1024 [00:00<00:11, 85.32it/s]\n",
      "  1%|          | 10/1024 [00:00<00:11, 89.97it/s]"
     ]
    },
    {
     "name": "stdout",
     "output_type": "stream",
     "text": [
      "Decode ends at step 22\n",
      "/home/qihao/MelodyBot/octuple/output/melody_20250519:121116/wikifonia_3102_seg0_1_Seg1.mid\n",
      "Generating 27/387, Name: wikifonia_3102_seg0_1_Seg1\n",
      "Expected decode length: 96\n",
      "Sampling strategy: temperature-1.5, top-5\n"
     ]
    },
    {
     "name": "stderr",
     "output_type": "stream",
     "text": [
      "  9%|▉         | 94/1024 [00:01<00:10, 86.74it/s]\n",
      "  1%|          | 10/1024 [00:00<00:11, 91.43it/s]"
     ]
    },
    {
     "name": "stdout",
     "output_type": "stream",
     "text": [
      "Decode ends at step 94\n",
      "/home/qihao/MelodyBot/octuple/output/melody_20250519:121116/wikifonia_462_seg0_1_Seg1.mid\n",
      "Generating 28/387, Name: wikifonia_462_seg0_1_Seg1\n",
      "Expected decode length: 153\n",
      "Sampling strategy: temperature-1.5, top-5\n"
     ]
    },
    {
     "name": "stderr",
     "output_type": "stream",
     "text": [
      " 15%|█▍        | 151/1024 [00:01<00:09, 88.23it/s]\n",
      "  1%|          | 10/1024 [00:00<00:11, 90.35it/s]"
     ]
    },
    {
     "name": "stdout",
     "output_type": "stream",
     "text": [
      "Decode ends at step 151\n",
      "/home/qihao/MelodyBot/octuple/output/melody_20250519:121116/wikifonia_3219_seg0_1_Seg1.mid\n",
      "Generating 29/387, Name: wikifonia_3219_seg0_1_Seg1\n",
      "Expected decode length: 225\n",
      "Sampling strategy: temperature-1.5, top-5\n"
     ]
    },
    {
     "name": "stderr",
     "output_type": "stream",
     "text": [
      " 22%|██▏       | 223/1024 [00:02<00:09, 87.81it/s]\n",
      "  1%|          | 10/1024 [00:00<00:11, 90.82it/s]"
     ]
    },
    {
     "name": "stdout",
     "output_type": "stream",
     "text": [
      "Decode ends at step 223\n",
      "/home/qihao/MelodyBot/octuple/output/melody_20250519:121116/wikifonia_829_seg0_1_Seg1.mid\n",
      "Generating 30/387, Name: wikifonia_829_seg0_1_Seg1\n",
      "Expected decode length: 146\n",
      "Sampling strategy: temperature-1.5, top-5\n"
     ]
    },
    {
     "name": "stderr",
     "output_type": "stream",
     "text": [
      " 14%|█▍        | 144/1024 [00:01<00:10, 87.86it/s]\n",
      "  1%|          | 10/1024 [00:00<00:11, 90.88it/s]"
     ]
    },
    {
     "name": "stdout",
     "output_type": "stream",
     "text": [
      "Decode ends at step 144\n",
      "/home/qihao/MelodyBot/octuple/output/melody_20250519:121116/流浪歌_seg0_1_Seg1.mid\n",
      "Generating 31/387, Name: 流浪歌_seg0_1_Seg1\n",
      "Expected decode length: 42\n",
      "Sampling strategy: temperature-1.5, top-5\n"
     ]
    },
    {
     "name": "stderr",
     "output_type": "stream",
     "text": [
      "  4%|▍         | 40/1024 [00:00<00:11, 86.73it/s]\n",
      "  1%|          | 10/1024 [00:00<00:11, 89.92it/s]"
     ]
    },
    {
     "name": "stdout",
     "output_type": "stream",
     "text": [
      "Decode ends at step 40\n",
      "/home/qihao/MelodyBot/octuple/output/melody_20250519:121116/wikifonia_1249_seg0_1_Seg1.mid\n",
      "Generating 32/387, Name: wikifonia_1249_seg0_1_Seg1\n",
      "Expected decode length: 168\n",
      "Sampling strategy: temperature-1.5, top-5\n"
     ]
    },
    {
     "name": "stderr",
     "output_type": "stream",
     "text": [
      " 16%|█▌        | 166/1024 [00:01<00:09, 87.01it/s]\n",
      "  1%|          | 6/1024 [00:00<00:18, 55.16it/s]"
     ]
    },
    {
     "name": "stdout",
     "output_type": "stream",
     "text": [
      "Decode ends at step 166\n",
      "/home/qihao/MelodyBot/octuple/output/melody_20250519:121116/离别_seg0_1_Seg2.mid\n",
      "Generating 33/387, Name: 离别_seg0_1_Seg2\n",
      "Expected decode length: 1002\n",
      "Sampling strategy: temperature-1.5, top-5\n"
     ]
    },
    {
     "name": "stderr",
     "output_type": "stream",
     "text": [
      " 92%|█████████▏| 941/1024 [00:22<00:02, 41.20it/s]\n",
      "  1%|          | 10/1024 [00:00<00:11, 91.49it/s]"
     ]
    },
    {
     "name": "stdout",
     "output_type": "stream",
     "text": [
      "Decode ends at step 941\n",
      "/home/qihao/MelodyBot/octuple/output/melody_20250519:121116/wikifonia_173_seg0_1_Seg1.mid\n",
      "Generating 34/387, Name: wikifonia_173_seg0_1_Seg1\n",
      "Expected decode length: 53\n",
      "Sampling strategy: temperature-1.5, top-5\n"
     ]
    },
    {
     "name": "stderr",
     "output_type": "stream",
     "text": [
      "  5%|▍         | 51/1024 [00:00<00:11, 88.16it/s]\n",
      "  1%|          | 10/1024 [00:00<00:11, 90.67it/s]"
     ]
    },
    {
     "name": "stdout",
     "output_type": "stream",
     "text": [
      "Decode ends at step 51\n",
      "/home/qihao/MelodyBot/octuple/output/melody_20250519:121116/wikifonia_3175_seg0_1_Seg1.mid\n",
      "Generating 35/387, Name: wikifonia_3175_seg0_1_Seg1\n",
      "Expected decode length: 111\n",
      "Sampling strategy: temperature-1.5, top-5\n"
     ]
    },
    {
     "name": "stderr",
     "output_type": "stream",
     "text": [
      " 11%|█         | 109/1024 [00:01<00:10, 87.37it/s]\n",
      "  1%|          | 10/1024 [00:00<00:11, 90.67it/s]"
     ]
    },
    {
     "name": "stdout",
     "output_type": "stream",
     "text": [
      "Decode ends at step 109\n",
      "/home/qihao/MelodyBot/octuple/output/melody_20250519:121116/wikifonia_933_seg0_1_Seg1.mid\n",
      "Generating 36/387, Name: wikifonia_933_seg0_1_Seg1\n",
      "Expected decode length: 79\n",
      "Sampling strategy: temperature-1.5, top-5\n"
     ]
    },
    {
     "name": "stderr",
     "output_type": "stream",
     "text": [
      "  8%|▊         | 77/1024 [00:00<00:10, 87.58it/s]\n",
      "  1%|          | 10/1024 [00:00<00:11, 90.43it/s]"
     ]
    },
    {
     "name": "stdout",
     "output_type": "stream",
     "text": [
      "Decode ends at step 77\n",
      "/home/qihao/MelodyBot/octuple/output/melody_20250519:121116/wikifonia_453_seg0_1_Seg1.mid\n",
      "Generating 37/387, Name: wikifonia_453_seg0_1_Seg1\n",
      "Expected decode length: 94\n",
      "Sampling strategy: temperature-1.5, top-5\n"
     ]
    },
    {
     "name": "stderr",
     "output_type": "stream",
     "text": [
      "  9%|▉         | 92/1024 [00:01<00:10, 87.48it/s]\n",
      "  1%|          | 10/1024 [00:00<00:11, 90.56it/s]"
     ]
    },
    {
     "name": "stdout",
     "output_type": "stream",
     "text": [
      "Decode ends at step 92\n",
      "/home/qihao/MelodyBot/octuple/output/melody_20250519:121116/wikifonia_237_seg0_1_Seg1.mid\n",
      "Generating 38/387, Name: wikifonia_237_seg0_1_Seg1\n",
      "Expected decode length: 184\n",
      "Sampling strategy: temperature-1.5, top-5\n"
     ]
    },
    {
     "name": "stderr",
     "output_type": "stream",
     "text": [
      " 18%|█▊        | 182/1024 [00:02<00:09, 88.67it/s]\n",
      "  1%|          | 10/1024 [00:00<00:11, 90.62it/s]"
     ]
    },
    {
     "name": "stdout",
     "output_type": "stream",
     "text": [
      "Decode ends at step 182\n",
      "/home/qihao/MelodyBot/octuple/output/melody_20250519:121116/wikifonia_207_seg0_1_Seg1.mid\n",
      "Generating 39/387, Name: wikifonia_207_seg0_1_Seg1\n",
      "Expected decode length: 110\n",
      "Sampling strategy: temperature-1.5, top-5\n"
     ]
    },
    {
     "name": "stderr",
     "output_type": "stream",
     "text": [
      " 11%|█         | 108/1024 [00:01<00:10, 87.62it/s]\n",
      "  1%|          | 10/1024 [00:00<00:11, 91.22it/s]"
     ]
    },
    {
     "name": "stdout",
     "output_type": "stream",
     "text": [
      "Decode ends at step 108\n",
      "/home/qihao/MelodyBot/octuple/output/melody_20250519:121116/wikifonia_2947_seg0_1_Seg1.mid\n",
      "Generating 40/387, Name: wikifonia_2947_seg0_1_Seg1\n",
      "Expected decode length: 243\n",
      "Sampling strategy: temperature-1.5, top-5\n"
     ]
    },
    {
     "name": "stderr",
     "output_type": "stream",
     "text": [
      " 24%|██▎       | 241/1024 [00:02<00:08, 88.56it/s]\n",
      "  1%|          | 10/1024 [00:00<00:11, 91.42it/s]"
     ]
    },
    {
     "name": "stdout",
     "output_type": "stream",
     "text": [
      "Decode ends at step 241\n",
      "/home/qihao/MelodyBot/octuple/output/melody_20250519:121116/wikifonia_2344_seg0_1_Seg1.mid\n",
      "Generating 41/387, Name: wikifonia_2344_seg0_1_Seg1\n",
      "Expected decode length: 203\n",
      "Sampling strategy: temperature-1.5, top-5\n"
     ]
    },
    {
     "name": "stderr",
     "output_type": "stream",
     "text": [
      " 20%|█▉        | 201/1024 [00:02<00:09, 88.38it/s]\n",
      "  1%|          | 10/1024 [00:00<00:11, 90.45it/s]"
     ]
    },
    {
     "name": "stdout",
     "output_type": "stream",
     "text": [
      "Decode ends at step 201\n",
      "/home/qihao/MelodyBot/octuple/output/melody_20250519:121116/wikifonia_1066_seg0_1_Seg1.mid\n",
      "Generating 42/387, Name: wikifonia_1066_seg0_1_Seg1\n",
      "Expected decode length: 179\n",
      "Sampling strategy: temperature-1.5, top-5\n"
     ]
    },
    {
     "name": "stderr",
     "output_type": "stream",
     "text": [
      " 17%|█▋        | 177/1024 [00:02<00:09, 87.56it/s]\n",
      "  1%|          | 9/1024 [00:00<00:11, 89.78it/s]"
     ]
    },
    {
     "name": "stdout",
     "output_type": "stream",
     "text": [
      "Decode ends at step 177\n",
      "/home/qihao/MelodyBot/octuple/output/melody_20250519:121116/wikifonia_466_seg0_1_Seg1.mid\n",
      "Generating 43/387, Name: wikifonia_466_seg0_1_Seg1\n",
      "Expected decode length: 285\n",
      "Sampling strategy: temperature-1.5, top-5\n"
     ]
    },
    {
     "name": "stderr",
     "output_type": "stream",
     "text": [
      " 28%|██▊       | 283/1024 [00:03<00:08, 87.61it/s]\n",
      "  1%|          | 10/1024 [00:00<00:11, 91.91it/s]"
     ]
    },
    {
     "name": "stdout",
     "output_type": "stream",
     "text": [
      "Decode ends at step 283\n",
      "/home/qihao/MelodyBot/octuple/output/melody_20250519:121116/wikifonia_1664_seg0_1_Seg1.mid\n",
      "Generating 44/387, Name: wikifonia_1664_seg0_1_Seg1\n",
      "Expected decode length: 199\n",
      "Sampling strategy: temperature-1.5, top-5\n"
     ]
    },
    {
     "name": "stderr",
     "output_type": "stream",
     "text": [
      " 19%|█▉        | 197/1024 [00:02<00:09, 88.23it/s]\n",
      "  1%|          | 10/1024 [00:00<00:11, 90.35it/s]"
     ]
    },
    {
     "name": "stdout",
     "output_type": "stream",
     "text": [
      "Decode ends at step 197\n",
      "/home/qihao/MelodyBot/octuple/output/melody_20250519:121116/wikifonia_3171_seg0_1_Seg1.mid\n",
      "Generating 45/387, Name: wikifonia_3171_seg0_1_Seg1\n",
      "Expected decode length: 118\n",
      "Sampling strategy: temperature-1.5, top-5\n"
     ]
    },
    {
     "name": "stderr",
     "output_type": "stream",
     "text": [
      " 11%|█▏        | 116/1024 [00:01<00:10, 87.29it/s]\n",
      "  1%|          | 10/1024 [00:00<00:11, 90.46it/s]"
     ]
    },
    {
     "name": "stdout",
     "output_type": "stream",
     "text": [
      "Decode ends at step 116\n",
      "/home/qihao/MelodyBot/octuple/output/melody_20250519:121116/wikifonia_2346_seg0_1_Seg1.mid\n",
      "Generating 46/387, Name: wikifonia_2346_seg0_1_Seg1\n",
      "Expected decode length: 121\n",
      "Sampling strategy: temperature-1.5, top-5\n"
     ]
    },
    {
     "name": "stderr",
     "output_type": "stream",
     "text": [
      " 12%|█▏        | 119/1024 [00:01<00:10, 87.16it/s]\n",
      "  1%|          | 9/1024 [00:00<00:11, 89.89it/s]"
     ]
    },
    {
     "name": "stdout",
     "output_type": "stream",
     "text": [
      "Decode ends at step 119\n",
      "/home/qihao/MelodyBot/octuple/output/melody_20250519:121116/wikifonia_658_seg0_1_Seg1.mid\n",
      "Generating 47/387, Name: wikifonia_658_seg0_1_Seg1\n",
      "Expected decode length: 113\n",
      "Sampling strategy: temperature-1.5, top-5\n"
     ]
    },
    {
     "name": "stderr",
     "output_type": "stream",
     "text": [
      " 11%|█         | 111/1024 [00:01<00:10, 87.00it/s]\n",
      "  1%|          | 10/1024 [00:00<00:11, 90.35it/s]"
     ]
    },
    {
     "name": "stdout",
     "output_type": "stream",
     "text": [
      "Decode ends at step 111\n",
      "/home/qihao/MelodyBot/octuple/output/melody_20250519:121116/wikifonia_2581_seg0_1_Seg1.mid\n",
      "Generating 48/387, Name: wikifonia_2581_seg0_1_Seg1\n",
      "Expected decode length: 101\n",
      "Sampling strategy: temperature-1.5, top-5\n"
     ]
    },
    {
     "name": "stderr",
     "output_type": "stream",
     "text": [
      " 10%|▉         | 99/1024 [00:01<00:10, 87.47it/s]\n",
      "  1%|          | 10/1024 [00:00<00:11, 90.22it/s]"
     ]
    },
    {
     "name": "stdout",
     "output_type": "stream",
     "text": [
      "Decode ends at step 99\n",
      "/home/qihao/MelodyBot/octuple/output/melody_20250519:121116/wikifonia_547_seg0_1_Seg1.mid\n",
      "Generating 49/387, Name: wikifonia_547_seg0_1_Seg1\n",
      "Expected decode length: 94\n",
      "Sampling strategy: temperature-1.5, top-5\n"
     ]
    },
    {
     "name": "stderr",
     "output_type": "stream",
     "text": [
      "  9%|▉         | 91/1024 [00:01<00:10, 87.37it/s]\n",
      "  1%|          | 10/1024 [00:00<00:11, 90.44it/s]"
     ]
    },
    {
     "name": "stdout",
     "output_type": "stream",
     "text": [
      "Decode ends at step 91\n",
      "/home/qihao/MelodyBot/octuple/output/melody_20250519:121116/wikifonia_1463_seg0_1_Seg1.mid\n",
      "Generating 50/387, Name: wikifonia_1463_seg0_1_Seg1\n",
      "Expected decode length: 108\n",
      "Sampling strategy: temperature-1.5, top-5\n"
     ]
    },
    {
     "name": "stderr",
     "output_type": "stream",
     "text": [
      " 10%|█         | 106/1024 [00:01<00:10, 87.49it/s]\n",
      "  1%|          | 10/1024 [00:00<00:11, 90.31it/s]"
     ]
    },
    {
     "name": "stdout",
     "output_type": "stream",
     "text": [
      "Decode ends at step 106\n",
      "/home/qihao/MelodyBot/octuple/output/melody_20250519:121116/wikifonia_523_seg0_1_Seg1.mid\n",
      "Generating 51/387, Name: wikifonia_523_seg0_1_Seg1\n",
      "Expected decode length: 122\n",
      "Sampling strategy: temperature-1.5, top-5\n"
     ]
    },
    {
     "name": "stderr",
     "output_type": "stream",
     "text": [
      " 12%|█▏        | 120/1024 [00:01<00:10, 87.16it/s]\n",
      "  1%|          | 10/1024 [00:00<00:11, 90.33it/s]"
     ]
    },
    {
     "name": "stdout",
     "output_type": "stream",
     "text": [
      "Decode ends at step 120\n",
      "/home/qihao/MelodyBot/octuple/output/melody_20250519:121116/wikifonia_1777_seg0_1_Seg1.mid\n",
      "Generating 52/387, Name: wikifonia_1777_seg0_1_Seg1\n",
      "Expected decode length: 106\n",
      "Sampling strategy: temperature-1.5, top-5\n"
     ]
    },
    {
     "name": "stderr",
     "output_type": "stream",
     "text": [
      " 10%|█         | 104/1024 [00:01<00:10, 87.36it/s]\n",
      "  1%|          | 10/1024 [00:00<00:11, 90.70it/s]"
     ]
    },
    {
     "name": "stdout",
     "output_type": "stream",
     "text": [
      "Decode ends at step 104\n",
      "/home/qihao/MelodyBot/octuple/output/melody_20250519:121116/wikifonia_984_seg0_1_Seg1.mid\n",
      "Generating 53/387, Name: wikifonia_984_seg0_1_Seg1\n",
      "Expected decode length: 109\n",
      "Sampling strategy: temperature-1.5, top-5\n"
     ]
    },
    {
     "name": "stderr",
     "output_type": "stream",
     "text": [
      " 10%|█         | 107/1024 [00:01<00:10, 87.46it/s]\n",
      "  1%|          | 10/1024 [00:00<00:11, 90.05it/s]"
     ]
    },
    {
     "name": "stdout",
     "output_type": "stream",
     "text": [
      "Decode ends at step 107\n",
      "/home/qihao/MelodyBot/octuple/output/melody_20250519:121116/wikifonia_2696_seg0_1_Seg1.mid\n",
      "Generating 54/387, Name: wikifonia_2696_seg0_1_Seg1\n",
      "Expected decode length: 102\n",
      "Sampling strategy: temperature-1.5, top-5\n"
     ]
    },
    {
     "name": "stderr",
     "output_type": "stream",
     "text": [
      " 10%|▉         | 100/1024 [00:01<00:10, 87.23it/s]\n",
      "  1%|          | 10/1024 [00:00<00:11, 90.70it/s]"
     ]
    },
    {
     "name": "stdout",
     "output_type": "stream",
     "text": [
      "Decode ends at step 100\n",
      "/home/qihao/MelodyBot/octuple/output/melody_20250519:121116/wikifonia_1153_seg0_1_Seg1.mid\n",
      "Generating 55/387, Name: wikifonia_1153_seg0_1_Seg1\n",
      "Expected decode length: 163\n",
      "Sampling strategy: temperature-1.5, top-5\n"
     ]
    },
    {
     "name": "stderr",
     "output_type": "stream",
     "text": [
      " 16%|█▌        | 161/1024 [00:01<00:09, 87.77it/s]\n",
      "  1%|          | 10/1024 [00:00<00:11, 90.55it/s]"
     ]
    },
    {
     "name": "stdout",
     "output_type": "stream",
     "text": [
      "Decode ends at step 161\n",
      "/home/qihao/MelodyBot/octuple/output/melody_20250519:121116/wikifonia_2561_seg0_1_Seg1.mid\n",
      "Generating 56/387, Name: wikifonia_2561_seg0_1_Seg1\n",
      "Expected decode length: 167\n",
      "Sampling strategy: temperature-1.5, top-5\n"
     ]
    },
    {
     "name": "stderr",
     "output_type": "stream",
     "text": [
      " 16%|█▌        | 165/1024 [00:01<00:09, 87.76it/s]\n",
      "  1%|          | 10/1024 [00:00<00:11, 91.36it/s]"
     ]
    },
    {
     "name": "stdout",
     "output_type": "stream",
     "text": [
      "Decode ends at step 165\n",
      "/home/qihao/MelodyBot/octuple/output/melody_20250519:121116/wikifonia_2529_seg0_1_Seg1.mid\n",
      "Generating 57/387, Name: wikifonia_2529_seg0_1_Seg1\n",
      "Expected decode length: 192\n",
      "Sampling strategy: temperature-1.5, top-5\n"
     ]
    },
    {
     "name": "stderr",
     "output_type": "stream",
     "text": [
      " 19%|█▊        | 190/1024 [00:02<00:09, 88.66it/s]\n",
      "  1%|          | 10/1024 [00:00<00:11, 90.23it/s]"
     ]
    },
    {
     "name": "stdout",
     "output_type": "stream",
     "text": [
      "Decode ends at step 190\n",
      "/home/qihao/MelodyBot/octuple/output/melody_20250519:121116/暖心_seg0_1_Seg2.mid\n",
      "Generating 58/387, Name: 暖心_seg0_1_Seg2\n",
      "Expected decode length: 118\n",
      "Sampling strategy: temperature-1.5, top-5\n"
     ]
    },
    {
     "name": "stderr",
     "output_type": "stream",
     "text": [
      " 11%|█▏        | 116/1024 [00:01<00:10, 87.27it/s]\n",
      "  1%|          | 10/1024 [00:00<00:11, 90.44it/s]"
     ]
    },
    {
     "name": "stdout",
     "output_type": "stream",
     "text": [
      "Decode ends at step 116\n",
      "/home/qihao/MelodyBot/octuple/output/melody_20250519:121116/wikifonia_333_seg0_1_Seg1.mid\n",
      "Generating 59/387, Name: wikifonia_333_seg0_1_Seg1\n",
      "Expected decode length: 99\n",
      "Sampling strategy: temperature-1.5, top-5\n"
     ]
    },
    {
     "name": "stderr",
     "output_type": "stream",
     "text": [
      "  9%|▉         | 92/1024 [00:01<00:10, 87.24it/s]\n",
      "  1%|          | 10/1024 [00:00<00:11, 91.34it/s]"
     ]
    },
    {
     "name": "stdout",
     "output_type": "stream",
     "text": [
      "Decode ends at step 92\n",
      "/home/qihao/MelodyBot/octuple/output/melody_20250519:121116/wikifonia_581_seg0_1_Seg1.mid\n",
      "Generating 60/387, Name: wikifonia_581_seg0_1_Seg1\n",
      "Expected decode length: 180\n",
      "Sampling strategy: temperature-1.5, top-5\n"
     ]
    },
    {
     "name": "stderr",
     "output_type": "stream",
     "text": [
      " 17%|█▋        | 178/1024 [00:02<00:09, 88.42it/s]\n",
      "  1%|          | 10/1024 [00:00<00:11, 90.47it/s]"
     ]
    },
    {
     "name": "stdout",
     "output_type": "stream",
     "text": [
      "Decode ends at step 178\n",
      "/home/qihao/MelodyBot/octuple/output/melody_20250519:121116/wikifonia_2175_seg0_1_Seg1.mid\n",
      "Generating 61/387, Name: wikifonia_2175_seg0_1_Seg1\n",
      "Expected decode length: 66\n",
      "Sampling strategy: temperature-1.5, top-5\n"
     ]
    },
    {
     "name": "stderr",
     "output_type": "stream",
     "text": [
      "  6%|▋         | 64/1024 [00:00<00:11, 87.22it/s]\n",
      "  1%|          | 10/1024 [00:00<00:11, 91.18it/s]"
     ]
    },
    {
     "name": "stdout",
     "output_type": "stream",
     "text": [
      "Decode ends at step 64\n",
      "/home/qihao/MelodyBot/octuple/output/melody_20250519:121116/wikifonia_2145_seg0_1_Seg1.mid\n",
      "Generating 62/387, Name: wikifonia_2145_seg0_1_Seg1\n",
      "Expected decode length: 69\n",
      "Sampling strategy: temperature-1.5, top-5\n"
     ]
    },
    {
     "name": "stderr",
     "output_type": "stream",
     "text": [
      "  7%|▋         | 67/1024 [00:00<00:10, 87.18it/s]\n",
      "  1%|          | 10/1024 [00:00<00:11, 91.24it/s]"
     ]
    },
    {
     "name": "stdout",
     "output_type": "stream",
     "text": [
      "Decode ends at step 67\n",
      "/home/qihao/MelodyBot/octuple/output/melody_20250519:121116/wikifonia_777_seg0_1_Seg1.mid\n",
      "Generating 63/387, Name: wikifonia_777_seg0_1_Seg1\n",
      "Expected decode length: 58\n",
      "Sampling strategy: temperature-1.5, top-5\n"
     ]
    },
    {
     "name": "stderr",
     "output_type": "stream",
     "text": [
      "  6%|▌         | 57/1024 [00:00<00:11, 87.80it/s]\n",
      "  0%|          | 1/1024 [00:00<00:21, 48.07it/s]\n",
      "  1%|          | 10/1024 [00:00<00:11, 90.23it/s]"
     ]
    },
    {
     "name": "stdout",
     "output_type": "stream",
     "text": [
      "Decode ends at step 57\n",
      "/home/qihao/MelodyBot/octuple/output/melody_20250519:121116/wikifonia_1869_seg0_1_Seg1.mid\n",
      "Generating 64/387, Name: wikifonia_1869_seg0_1_Seg1\n",
      "Expected decode length: 76\n",
      "Sampling strategy: temperature-1.5, top-5\n",
      "Decode ends at step 1\n",
      "/home/qihao/MelodyBot/octuple/output/melody_20250519:121116/wikifonia_2366_seg0_1_Seg1.mid\n",
      "Generating 65/387, Name: wikifonia_2366_seg0_1_Seg1\n",
      "Expected decode length: 104\n",
      "Sampling strategy: temperature-1.5, top-5\n"
     ]
    },
    {
     "name": "stderr",
     "output_type": "stream",
     "text": [
      "  6%|▌         | 57/1024 [00:00<00:11, 86.71it/s]\n",
      "  1%|          | 10/1024 [00:00<00:11, 90.43it/s]"
     ]
    },
    {
     "name": "stdout",
     "output_type": "stream",
     "text": [
      "Decode ends at step 57\n",
      "/home/qihao/MelodyBot/octuple/output/melody_20250519:121116/wikifonia_2213_seg0_1_Seg1.mid\n",
      "Generating 66/387, Name: wikifonia_2213_seg0_1_Seg1\n",
      "Expected decode length: 72\n",
      "Sampling strategy: temperature-1.5, top-5\n"
     ]
    },
    {
     "name": "stderr",
     "output_type": "stream",
     "text": [
      "  7%|▋         | 70/1024 [00:00<00:10, 87.03it/s]\n",
      "  1%|          | 10/1024 [00:00<00:11, 91.08it/s]"
     ]
    },
    {
     "name": "stdout",
     "output_type": "stream",
     "text": [
      "Decode ends at step 70\n",
      "/home/qihao/MelodyBot/octuple/output/melody_20250519:121116/wikifonia_3195_seg0_1_Seg1.mid\n",
      "Generating 67/387, Name: wikifonia_3195_seg0_1_Seg1\n",
      "Expected decode length: 196\n",
      "Sampling strategy: temperature-1.5, top-5\n"
     ]
    },
    {
     "name": "stderr",
     "output_type": "stream",
     "text": [
      " 19%|█▉        | 194/1024 [00:02<00:09, 88.38it/s]\n",
      "  1%|          | 10/1024 [00:00<00:11, 91.47it/s]"
     ]
    },
    {
     "name": "stdout",
     "output_type": "stream",
     "text": [
      "Decode ends at step 194\n",
      "/home/qihao/MelodyBot/octuple/output/melody_20250519:121116/wikifonia_1155_seg0_1_Seg1.mid\n",
      "Generating 68/387, Name: wikifonia_1155_seg0_1_Seg1\n",
      "Expected decode length: 156\n",
      "Sampling strategy: temperature-1.5, top-5\n"
     ]
    },
    {
     "name": "stderr",
     "output_type": "stream",
     "text": [
      " 15%|█▌        | 154/1024 [00:01<00:09, 88.33it/s]\n",
      "  1%|          | 10/1024 [00:00<00:11, 91.11it/s]"
     ]
    },
    {
     "name": "stdout",
     "output_type": "stream",
     "text": [
      "Decode ends at step 154\n",
      "/home/qihao/MelodyBot/octuple/output/melody_20250519:121116/wikifonia_2464_seg0_1_Seg1.mid\n",
      "Generating 69/387, Name: wikifonia_2464_seg0_1_Seg1\n",
      "Expected decode length: 218\n",
      "Sampling strategy: temperature-1.5, top-5\n"
     ]
    },
    {
     "name": "stderr",
     "output_type": "stream",
     "text": [
      " 21%|██        | 216/1024 [00:02<00:09, 88.31it/s]\n",
      "  1%|          | 8/1024 [00:00<00:12, 79.93it/s]"
     ]
    },
    {
     "name": "stdout",
     "output_type": "stream",
     "text": [
      "Decode ends at step 216\n",
      "/home/qihao/MelodyBot/octuple/output/melody_20250519:121116/wikifonia_380_seg0_1_Seg1.mid\n",
      "Generating 70/387, Name: wikifonia_380_seg0_1_Seg1\n",
      "Expected decode length: 502\n",
      "Sampling strategy: temperature-1.5, top-5\n"
     ]
    },
    {
     "name": "stderr",
     "output_type": "stream",
     "text": [
      " 49%|████▉     | 500/1024 [00:06<00:07, 72.58it/s]\n",
      "  1%|          | 9/1024 [00:00<00:11, 86.51it/s]"
     ]
    },
    {
     "name": "stdout",
     "output_type": "stream",
     "text": [
      "Decode ends at step 500\n",
      "/home/qihao/MelodyBot/octuple/output/melody_20250519:121116/wikifonia_3284_seg0_1_Seg1.mid\n",
      "Generating 71/387, Name: wikifonia_3284_seg0_1_Seg1\n",
      "Expected decode length: 166\n",
      "Sampling strategy: temperature-1.5, top-5\n"
     ]
    },
    {
     "name": "stderr",
     "output_type": "stream",
     "text": [
      " 16%|█▌        | 164/1024 [00:01<00:09, 87.75it/s]\n",
      "  1%|          | 9/1024 [00:00<00:11, 88.32it/s]"
     ]
    },
    {
     "name": "stdout",
     "output_type": "stream",
     "text": [
      "Decode ends at step 164\n",
      "/home/qihao/MelodyBot/octuple/output/melody_20250519:121116/wikifonia_3161_seg0_1_Seg1.mid\n",
      "Generating 72/387, Name: wikifonia_3161_seg0_1_Seg1\n",
      "Expected decode length: 106\n",
      "Sampling strategy: temperature-1.5, top-5\n"
     ]
    },
    {
     "name": "stderr",
     "output_type": "stream",
     "text": [
      " 10%|█         | 104/1024 [00:01<00:10, 87.31it/s]\n",
      "  1%|          | 10/1024 [00:00<00:11, 91.72it/s]"
     ]
    },
    {
     "name": "stdout",
     "output_type": "stream",
     "text": [
      "Decode ends at step 104\n",
      "/home/qihao/MelodyBot/octuple/output/melody_20250519:121116/wikifonia_3121_seg0_1_Seg1.mid\n",
      "Generating 73/387, Name: wikifonia_3121_seg0_1_Seg1\n",
      "Expected decode length: 133\n",
      "Sampling strategy: temperature-1.5, top-5\n"
     ]
    },
    {
     "name": "stderr",
     "output_type": "stream",
     "text": [
      " 13%|█▎        | 131/1024 [00:01<00:10, 88.57it/s]\n",
      "  1%|          | 10/1024 [00:00<00:11, 90.55it/s]"
     ]
    },
    {
     "name": "stdout",
     "output_type": "stream",
     "text": [
      "Decode ends at step 131\n",
      "/home/qihao/MelodyBot/octuple/output/melody_20250519:121116/wikifonia_1844_seg0_1_Seg1.mid\n",
      "Generating 74/387, Name: wikifonia_1844_seg0_1_Seg1\n",
      "Expected decode length: 170\n",
      "Sampling strategy: temperature-1.5, top-5\n"
     ]
    },
    {
     "name": "stderr",
     "output_type": "stream",
     "text": [
      " 16%|█▋        | 168/1024 [00:01<00:09, 88.09it/s]\n",
      "  1%|          | 10/1024 [00:00<00:11, 91.67it/s]"
     ]
    },
    {
     "name": "stdout",
     "output_type": "stream",
     "text": [
      "Decode ends at step 168\n",
      "/home/qihao/MelodyBot/octuple/output/melody_20250519:121116/wikifonia_1494_seg0_1_Seg1.mid\n",
      "Generating 75/387, Name: wikifonia_1494_seg0_1_Seg1\n",
      "Expected decode length: 141\n",
      "Sampling strategy: temperature-1.5, top-5\n"
     ]
    },
    {
     "name": "stderr",
     "output_type": "stream",
     "text": [
      " 14%|█▎        | 139/1024 [00:01<00:09, 88.96it/s]\n",
      "  1%|          | 10/1024 [00:00<00:11, 91.52it/s]"
     ]
    },
    {
     "name": "stdout",
     "output_type": "stream",
     "text": [
      "Decode ends at step 139\n",
      "/home/qihao/MelodyBot/octuple/output/melody_20250519:121116/少年锦时_seg0_1_Seg1.mid\n",
      "Generating 76/387, Name: 少年锦时_seg0_1_Seg1\n",
      "Expected decode length: 239\n",
      "Sampling strategy: temperature-1.5, top-5\n"
     ]
    },
    {
     "name": "stderr",
     "output_type": "stream",
     "text": [
      " 23%|██▎       | 237/1024 [00:02<00:08, 89.03it/s]\n",
      "  1%|          | 10/1024 [00:00<00:11, 91.73it/s]"
     ]
    },
    {
     "name": "stdout",
     "output_type": "stream",
     "text": [
      "Decode ends at step 237\n",
      "/home/qihao/MelodyBot/octuple/output/melody_20250519:121116/wikifonia_2720_seg0_1_Seg1.mid\n",
      "Generating 77/387, Name: wikifonia_2720_seg0_1_Seg1\n",
      "Expected decode length: 132\n",
      "Sampling strategy: temperature-1.5, top-5\n"
     ]
    },
    {
     "name": "stderr",
     "output_type": "stream",
     "text": [
      " 13%|█▎        | 130/1024 [00:01<00:10, 89.03it/s]\n",
      "  1%|          | 9/1024 [00:00<00:11, 89.19it/s]"
     ]
    },
    {
     "name": "stdout",
     "output_type": "stream",
     "text": [
      "Decode ends at step 130\n",
      "/home/qihao/MelodyBot/octuple/output/melody_20250519:121116/wikifonia_1692_seg0_1_Seg1.mid\n",
      "Generating 78/387, Name: wikifonia_1692_seg0_1_Seg1\n",
      "Expected decode length: 152\n",
      "Sampling strategy: temperature-1.5, top-5\n"
     ]
    },
    {
     "name": "stderr",
     "output_type": "stream",
     "text": [
      " 15%|█▍        | 150/1024 [00:01<00:09, 88.45it/s]\n",
      "  1%|          | 9/1024 [00:00<00:11, 87.91it/s]"
     ]
    },
    {
     "name": "stdout",
     "output_type": "stream",
     "text": [
      "Decode ends at step 150\n",
      "/home/qihao/MelodyBot/octuple/output/melody_20250519:121116/wikifonia_2480_seg0_1_Seg1.mid\n",
      "Generating 79/387, Name: wikifonia_2480_seg0_1_Seg1\n",
      "Expected decode length: 311\n",
      "Sampling strategy: temperature-1.5, top-5\n"
     ]
    },
    {
     "name": "stderr",
     "output_type": "stream",
     "text": [
      " 30%|███       | 309/1024 [00:03<00:08, 86.12it/s]\n",
      "  1%|          | 10/1024 [00:00<00:11, 90.65it/s]"
     ]
    },
    {
     "name": "stdout",
     "output_type": "stream",
     "text": [
      "Decode ends at step 309\n",
      "/home/qihao/MelodyBot/octuple/output/melody_20250519:121116/wikifonia_1330_seg0_1_Seg1.mid\n",
      "Generating 80/387, Name: wikifonia_1330_seg0_1_Seg1\n",
      "Expected decode length: 242\n",
      "Sampling strategy: temperature-1.5, top-5\n"
     ]
    },
    {
     "name": "stderr",
     "output_type": "stream",
     "text": [
      " 23%|██▎       | 240/1024 [00:02<00:08, 88.32it/s]\n",
      "  1%|          | 10/1024 [00:00<00:11, 90.43it/s]"
     ]
    },
    {
     "name": "stdout",
     "output_type": "stream",
     "text": [
      "Decode ends at step 240\n",
      "/home/qihao/MelodyBot/octuple/output/melody_20250519:121116/小白杨_seg0_1_Seg1.mid\n",
      "Generating 81/387, Name: 小白杨_seg0_1_Seg1\n",
      "Expected decode length: 117\n",
      "Sampling strategy: temperature-1.5, top-5\n"
     ]
    },
    {
     "name": "stderr",
     "output_type": "stream",
     "text": [
      " 11%|█         | 115/1024 [00:01<00:10, 87.65it/s]\n",
      "  1%|          | 10/1024 [00:00<00:11, 90.72it/s]"
     ]
    },
    {
     "name": "stdout",
     "output_type": "stream",
     "text": [
      "Decode ends at step 115\n",
      "/home/qihao/MelodyBot/octuple/output/melody_20250519:121116/wikifonia_582_seg0_1_Seg1.mid\n",
      "Generating 82/387, Name: wikifonia_582_seg0_1_Seg1\n",
      "Expected decode length: 113\n",
      "Sampling strategy: temperature-1.5, top-5\n"
     ]
    },
    {
     "name": "stderr",
     "output_type": "stream",
     "text": [
      " 11%|█         | 111/1024 [00:01<00:10, 87.82it/s]\n",
      "  1%|          | 10/1024 [00:00<00:11, 90.78it/s]"
     ]
    },
    {
     "name": "stdout",
     "output_type": "stream",
     "text": [
      "Decode ends at step 111\n",
      "/home/qihao/MelodyBot/octuple/output/melody_20250519:121116/wikifonia_1134_seg0_1_Seg1.mid\n",
      "Generating 83/387, Name: wikifonia_1134_seg0_1_Seg1\n",
      "Expected decode length: 80\n",
      "Sampling strategy: temperature-1.5, top-5\n"
     ]
    },
    {
     "name": "stderr",
     "output_type": "stream",
     "text": [
      "  8%|▊         | 78/1024 [00:00<00:10, 86.76it/s]\n",
      "  1%|          | 10/1024 [00:00<00:11, 89.86it/s]"
     ]
    },
    {
     "name": "stdout",
     "output_type": "stream",
     "text": [
      "Decode ends at step 78\n",
      "/home/qihao/MelodyBot/octuple/output/melody_20250519:121116/wikifonia_2236_seg0_1_Seg1.mid\n",
      "Generating 84/387, Name: wikifonia_2236_seg0_1_Seg1\n",
      "Expected decode length: 88\n",
      "Sampling strategy: temperature-1.5, top-5\n"
     ]
    },
    {
     "name": "stderr",
     "output_type": "stream",
     "text": [
      "  8%|▊         | 86/1024 [00:00<00:10, 87.04it/s]\n",
      "  1%|          | 10/1024 [00:00<00:11, 90.29it/s]"
     ]
    },
    {
     "name": "stdout",
     "output_type": "stream",
     "text": [
      "Decode ends at step 86\n",
      "/home/qihao/MelodyBot/octuple/output/melody_20250519:121116/wikifonia_1168_seg0_1_Seg1.mid\n",
      "Generating 85/387, Name: wikifonia_1168_seg0_1_Seg1\n",
      "Expected decode length: 91\n",
      "Sampling strategy: temperature-1.5, top-5\n"
     ]
    },
    {
     "name": "stderr",
     "output_type": "stream",
     "text": [
      "  9%|▊         | 89/1024 [00:01<00:10, 87.28it/s]\n",
      "  1%|          | 10/1024 [00:00<00:11, 90.54it/s]"
     ]
    },
    {
     "name": "stdout",
     "output_type": "stream",
     "text": [
      "Decode ends at step 89\n",
      "/home/qihao/MelodyBot/octuple/output/melody_20250519:121116/wikifonia_600_seg0_1_Seg1.mid\n",
      "Generating 86/387, Name: wikifonia_600_seg0_1_Seg1\n",
      "Expected decode length: 111\n",
      "Sampling strategy: temperature-1.5, top-5\n"
     ]
    },
    {
     "name": "stderr",
     "output_type": "stream",
     "text": [
      " 11%|█         | 109/1024 [00:01<00:10, 87.52it/s]\n",
      "  1%|          | 10/1024 [00:00<00:11, 90.81it/s]"
     ]
    },
    {
     "name": "stdout",
     "output_type": "stream",
     "text": [
      "Decode ends at step 109\n",
      "/home/qihao/MelodyBot/octuple/output/melody_20250519:121116/wikifonia_2079_seg0_1_Seg1.mid\n",
      "Generating 87/387, Name: wikifonia_2079_seg0_1_Seg1\n",
      "Expected decode length: 152\n",
      "Sampling strategy: temperature-1.5, top-5\n"
     ]
    },
    {
     "name": "stderr",
     "output_type": "stream",
     "text": [
      " 15%|█▍        | 150/1024 [00:01<00:09, 88.50it/s]\n",
      "  1%|          | 10/1024 [00:00<00:11, 90.37it/s]"
     ]
    },
    {
     "name": "stdout",
     "output_type": "stream",
     "text": [
      "Decode ends at step 150\n",
      "/home/qihao/MelodyBot/octuple/output/melody_20250519:121116/wikifonia_3188_seg0_1_Seg1.mid\n",
      "Generating 88/387, Name: wikifonia_3188_seg0_1_Seg1\n",
      "Expected decode length: 128\n",
      "Sampling strategy: temperature-1.5, top-5\n"
     ]
    },
    {
     "name": "stderr",
     "output_type": "stream",
     "text": [
      " 12%|█▏        | 126/1024 [00:01<00:10, 87.37it/s]\n",
      "  1%|          | 10/1024 [00:00<00:11, 90.55it/s]"
     ]
    },
    {
     "name": "stdout",
     "output_type": "stream",
     "text": [
      "Decode ends at step 126\n",
      "/home/qihao/MelodyBot/octuple/output/melody_20250519:121116/wikifonia_750_seg0_1_Seg1.mid\n",
      "Generating 89/387, Name: wikifonia_750_seg0_1_Seg1\n",
      "Expected decode length: 220\n",
      "Sampling strategy: temperature-1.5, top-5\n"
     ]
    },
    {
     "name": "stderr",
     "output_type": "stream",
     "text": [
      " 21%|██▏       | 218/1024 [00:02<00:09, 88.20it/s]\n",
      "  1%|          | 10/1024 [00:00<00:11, 91.14it/s]"
     ]
    },
    {
     "name": "stdout",
     "output_type": "stream",
     "text": [
      "Decode ends at step 218\n",
      "/home/qihao/MelodyBot/octuple/output/melody_20250519:121116/风往北吹_seg0_1_Seg2.mid\n",
      "Generating 90/387, Name: 风往北吹_seg0_1_Seg2\n",
      "Expected decode length: 182\n",
      "Sampling strategy: temperature-1.5, top-5\n"
     ]
    },
    {
     "name": "stderr",
     "output_type": "stream",
     "text": [
      " 18%|█▊        | 180/1024 [00:02<00:09, 88.44it/s]\n",
      "  1%|          | 10/1024 [00:00<00:11, 90.50it/s]"
     ]
    },
    {
     "name": "stdout",
     "output_type": "stream",
     "text": [
      "Decode ends at step 180\n",
      "/home/qihao/MelodyBot/octuple/output/melody_20250519:121116/wikifonia_3040_seg0_1_Seg1.mid\n",
      "Generating 91/387, Name: wikifonia_3040_seg0_1_Seg1\n",
      "Expected decode length: 92\n",
      "Sampling strategy: temperature-1.5, top-5\n"
     ]
    },
    {
     "name": "stderr",
     "output_type": "stream",
     "text": [
      "  9%|▉         | 90/1024 [00:01<00:10, 87.23it/s]\n",
      "  1%|          | 10/1024 [00:00<00:11, 90.73it/s]"
     ]
    },
    {
     "name": "stdout",
     "output_type": "stream",
     "text": [
      "Decode ends at step 90\n",
      "/home/qihao/MelodyBot/octuple/output/melody_20250519:121116/wikifonia_3090_seg0_1_Seg1.mid\n",
      "Generating 92/387, Name: wikifonia_3090_seg0_1_Seg1\n",
      "Expected decode length: 80\n",
      "Sampling strategy: temperature-1.5, top-5\n"
     ]
    },
    {
     "name": "stderr",
     "output_type": "stream",
     "text": [
      "  8%|▊         | 78/1024 [00:00<00:10, 87.07it/s]\n",
      "  1%|          | 10/1024 [00:00<00:11, 91.85it/s]"
     ]
    },
    {
     "name": "stdout",
     "output_type": "stream",
     "text": [
      "Decode ends at step 78\n",
      "/home/qihao/MelodyBot/octuple/output/melody_20250519:121116/wikifonia_3296_seg0_1_Seg1.mid\n",
      "Generating 93/387, Name: wikifonia_3296_seg0_1_Seg1\n",
      "Expected decode length: 59\n",
      "Sampling strategy: temperature-1.5, top-5\n"
     ]
    },
    {
     "name": "stderr",
     "output_type": "stream",
     "text": [
      "  3%|▎         | 35/1024 [00:00<00:11, 87.42it/s]\n",
      "  1%|          | 10/1024 [00:00<00:11, 90.39it/s]"
     ]
    },
    {
     "name": "stdout",
     "output_type": "stream",
     "text": [
      "Decode ends at step 35\n",
      "/home/qihao/MelodyBot/octuple/output/melody_20250519:121116/wikifonia_2566_seg0_1_Seg1.mid\n",
      "Generating 94/387, Name: wikifonia_2566_seg0_1_Seg1\n",
      "Expected decode length: 118\n",
      "Sampling strategy: temperature-1.5, top-5\n"
     ]
    },
    {
     "name": "stderr",
     "output_type": "stream",
     "text": [
      " 11%|█▏        | 116/1024 [00:01<00:10, 86.63it/s]\n",
      "  1%|          | 9/1024 [00:00<00:12, 80.63it/s]"
     ]
    },
    {
     "name": "stdout",
     "output_type": "stream",
     "text": [
      "Decode ends at step 116\n",
      "/home/qihao/MelodyBot/octuple/output/melody_20250519:121116/wikifonia_561_seg0_1_Seg1.mid\n",
      "Generating 95/387, Name: wikifonia_561_seg0_1_Seg1\n",
      "Expected decode length: 461\n",
      "Sampling strategy: temperature-1.5, top-5\n"
     ]
    },
    {
     "name": "stderr",
     "output_type": "stream",
     "text": [
      " 45%|████▍     | 459/1024 [00:06<00:07, 74.72it/s]\n",
      "  1%|          | 10/1024 [00:00<00:11, 90.14it/s]"
     ]
    },
    {
     "name": "stdout",
     "output_type": "stream",
     "text": [
      "Decode ends at step 459\n",
      "/home/qihao/MelodyBot/octuple/output/melody_20250519:121116/wikifonia_2741_seg0_1_Seg1.mid\n",
      "Generating 96/387, Name: wikifonia_2741_seg0_1_Seg1\n",
      "Expected decode length: 101\n",
      "Sampling strategy: temperature-1.5, top-5\n"
     ]
    },
    {
     "name": "stderr",
     "output_type": "stream",
     "text": [
      " 10%|▉         | 99/1024 [00:01<00:10, 87.02it/s]\n",
      "  1%|          | 10/1024 [00:00<00:11, 91.37it/s]"
     ]
    },
    {
     "name": "stdout",
     "output_type": "stream",
     "text": [
      "Decode ends at step 99\n",
      "/home/qihao/MelodyBot/octuple/output/melody_20250519:121116/wikifonia_2521_seg0_1_Seg1.mid\n",
      "Generating 97/387, Name: wikifonia_2521_seg0_1_Seg1\n",
      "Expected decode length: 141\n",
      "Sampling strategy: temperature-1.5, top-5\n"
     ]
    },
    {
     "name": "stderr",
     "output_type": "stream",
     "text": [
      " 14%|█▎        | 139/1024 [00:01<00:10, 88.18it/s]\n",
      "  1%|          | 10/1024 [00:00<00:11, 90.35it/s]"
     ]
    },
    {
     "name": "stdout",
     "output_type": "stream",
     "text": [
      "Decode ends at step 139\n",
      "/home/qihao/MelodyBot/octuple/output/melody_20250519:121116/wikifonia_1342_seg0_1_Seg1.mid\n",
      "Generating 98/387, Name: wikifonia_1342_seg0_1_Seg1\n",
      "Expected decode length: 106\n",
      "Sampling strategy: temperature-1.5, top-5\n"
     ]
    },
    {
     "name": "stderr",
     "output_type": "stream",
     "text": [
      " 10%|█         | 104/1024 [00:01<00:10, 87.14it/s]\n",
      "  1%|          | 10/1024 [00:00<00:11, 91.41it/s]"
     ]
    },
    {
     "name": "stdout",
     "output_type": "stream",
     "text": [
      "Decode ends at step 104\n",
      "/home/qihao/MelodyBot/octuple/output/melody_20250519:121116/wikifonia_826_seg0_1_Seg1.mid\n",
      "Generating 99/387, Name: wikifonia_826_seg0_1_Seg1\n",
      "Expected decode length: 133\n",
      "Sampling strategy: temperature-1.5, top-5\n"
     ]
    },
    {
     "name": "stderr",
     "output_type": "stream",
     "text": [
      " 13%|█▎        | 131/1024 [00:01<00:10, 88.44it/s]\n",
      "  1%|          | 9/1024 [00:00<00:11, 89.93it/s]"
     ]
    },
    {
     "name": "stdout",
     "output_type": "stream",
     "text": [
      "Decode ends at step 131\n",
      "/home/qihao/MelodyBot/octuple/output/melody_20250519:121116/wikifonia_2096_seg0_1_Seg1.mid\n",
      "Generating 100/387, Name: wikifonia_2096_seg0_1_Seg1\n",
      "Expected decode length: 100\n",
      "Sampling strategy: temperature-1.5, top-5\n"
     ]
    },
    {
     "name": "stderr",
     "output_type": "stream",
     "text": [
      " 10%|▉         | 98/1024 [00:01<00:10, 86.97it/s]\n",
      "  1%|          | 10/1024 [00:00<00:11, 91.30it/s]"
     ]
    },
    {
     "name": "stdout",
     "output_type": "stream",
     "text": [
      "Decode ends at step 98\n",
      "/home/qihao/MelodyBot/octuple/output/melody_20250519:121116/wikifonia_2076_seg0_1_Seg1.mid\n",
      "Generating 101/387, Name: wikifonia_2076_seg0_1_Seg1\n",
      "Expected decode length: 148\n",
      "Sampling strategy: temperature-1.5, top-5\n"
     ]
    },
    {
     "name": "stderr",
     "output_type": "stream",
     "text": [
      " 14%|█▍        | 146/1024 [00:01<00:09, 88.30it/s]\n",
      "  1%|          | 10/1024 [00:00<00:11, 90.03it/s]"
     ]
    },
    {
     "name": "stdout",
     "output_type": "stream",
     "text": [
      "Decode ends at step 146\n",
      "/home/qihao/MelodyBot/octuple/output/melody_20250519:121116/wikifonia_2446_seg0_1_Seg1.mid\n",
      "Generating 102/387, Name: wikifonia_2446_seg0_1_Seg1\n",
      "Expected decode length: 100\n",
      "Sampling strategy: temperature-1.5, top-5\n"
     ]
    },
    {
     "name": "stderr",
     "output_type": "stream",
     "text": [
      " 10%|▉         | 98/1024 [00:01<00:10, 87.06it/s]\n",
      "  1%|          | 9/1024 [00:00<00:11, 89.83it/s]"
     ]
    },
    {
     "name": "stdout",
     "output_type": "stream",
     "text": [
      "Decode ends at step 98\n",
      "/home/qihao/MelodyBot/octuple/output/melody_20250519:121116/wikifonia_1727_seg0_1_Seg1.mid\n",
      "Generating 103/387, Name: wikifonia_1727_seg0_1_Seg1\n",
      "Expected decode length: 298\n",
      "Sampling strategy: temperature-1.5, top-5\n"
     ]
    },
    {
     "name": "stderr",
     "output_type": "stream",
     "text": [
      " 29%|██▉       | 296/1024 [00:03<00:08, 86.71it/s]\n",
      "  0%|          | 2/1024 [00:00<00:15, 63.93it/s]\n",
      "  1%|          | 10/1024 [00:00<00:11, 90.16it/s]"
     ]
    },
    {
     "name": "stdout",
     "output_type": "stream",
     "text": [
      "Decode ends at step 296\n",
      "/home/qihao/MelodyBot/octuple/output/melody_20250519:121116/wikifonia_2709_seg0_1_Seg1.mid\n",
      "Generating 104/387, Name: wikifonia_2709_seg0_1_Seg1\n",
      "Expected decode length: 42\n",
      "Sampling strategy: temperature-1.5, top-5\n",
      "Decode ends at step 2\n",
      "/home/qihao/MelodyBot/octuple/output/melody_20250519:121116/wikifonia_1419_seg0_1_Seg1.mid\n",
      "Generating 105/387, Name: wikifonia_1419_seg0_1_Seg1\n",
      "Expected decode length: 99\n",
      "Sampling strategy: temperature-1.5, top-5\n"
     ]
    },
    {
     "name": "stderr",
     "output_type": "stream",
     "text": [
      "  9%|▉         | 97/1024 [00:01<00:10, 87.15it/s]\n",
      "  1%|          | 10/1024 [00:00<00:11, 91.58it/s]"
     ]
    },
    {
     "name": "stdout",
     "output_type": "stream",
     "text": [
      "Decode ends at step 97\n",
      "/home/qihao/MelodyBot/octuple/output/melody_20250519:121116/wikifonia_2519_seg0_1_Seg1.mid\n",
      "Generating 106/387, Name: wikifonia_2519_seg0_1_Seg1\n",
      "Expected decode length: 149\n",
      "Sampling strategy: temperature-1.5, top-5\n"
     ]
    },
    {
     "name": "stderr",
     "output_type": "stream",
     "text": [
      " 14%|█▍        | 147/1024 [00:01<00:09, 88.44it/s]\n",
      "  1%|          | 10/1024 [00:00<00:11, 91.90it/s]"
     ]
    },
    {
     "name": "stdout",
     "output_type": "stream",
     "text": [
      "Decode ends at step 147\n",
      "/home/qihao/MelodyBot/octuple/output/melody_20250519:121116/wikifonia_1896_seg0_1_Seg1.mid\n",
      "Generating 107/387, Name: wikifonia_1896_seg0_1_Seg1\n",
      "Expected decode length: 156\n",
      "Sampling strategy: temperature-1.5, top-5\n"
     ]
    },
    {
     "name": "stderr",
     "output_type": "stream",
     "text": [
      " 15%|█▌        | 154/1024 [00:01<00:09, 88.59it/s]\n",
      "  1%|          | 10/1024 [00:00<00:11, 90.58it/s]"
     ]
    },
    {
     "name": "stdout",
     "output_type": "stream",
     "text": [
      "Decode ends at step 154\n",
      "/home/qihao/MelodyBot/octuple/output/melody_20250519:121116/wikifonia_2792_seg0_1_Seg1.mid\n",
      "Generating 108/387, Name: wikifonia_2792_seg0_1_Seg1\n",
      "Expected decode length: 90\n",
      "Sampling strategy: temperature-1.5, top-5\n"
     ]
    },
    {
     "name": "stderr",
     "output_type": "stream",
     "text": [
      "  9%|▊         | 88/1024 [00:01<00:10, 87.00it/s]\n",
      "  1%|          | 10/1024 [00:00<00:11, 90.62it/s]"
     ]
    },
    {
     "name": "stdout",
     "output_type": "stream",
     "text": [
      "Decode ends at step 88\n",
      "/home/qihao/MelodyBot/octuple/output/melody_20250519:121116/最重要的决定_seg0_1_Seg2.mid\n",
      "Generating 109/387, Name: 最重要的决定_seg0_1_Seg2\n",
      "Expected decode length: 124\n",
      "Sampling strategy: temperature-1.5, top-5\n"
     ]
    },
    {
     "name": "stderr",
     "output_type": "stream",
     "text": [
      " 12%|█▏        | 122/1024 [00:01<00:10, 87.27it/s]\n",
      "  1%|          | 10/1024 [00:00<00:11, 90.15it/s]"
     ]
    },
    {
     "name": "stdout",
     "output_type": "stream",
     "text": [
      "Decode ends at step 122\n",
      "/home/qihao/MelodyBot/octuple/output/melody_20250519:121116/wikifonia_2297_seg0_1_Seg1.mid\n",
      "Generating 110/387, Name: wikifonia_2297_seg0_1_Seg1\n",
      "Expected decode length: 93\n",
      "Sampling strategy: temperature-1.5, top-5\n"
     ]
    },
    {
     "name": "stderr",
     "output_type": "stream",
     "text": [
      "  9%|▉         | 91/1024 [00:01<00:10, 87.09it/s]\n",
      "  2%|▏         | 16/1024 [00:00<00:11, 84.92it/s]\n",
      "  0%|          | 0/1024 [00:00<?, ?it/s]"
     ]
    },
    {
     "name": "stdout",
     "output_type": "stream",
     "text": [
      "Decode ends at step 91\n",
      "/home/qihao/MelodyBot/octuple/output/melody_20250519:121116/wikifonia_2201_seg0_1_Seg1.mid\n",
      "Generating 111/387, Name: wikifonia_2201_seg0_1_Seg1\n",
      "Expected decode length: 39\n",
      "Sampling strategy: temperature-1.5, top-5\n",
      "Decode ends at step 16\n",
      "/home/qihao/MelodyBot/octuple/output/melody_20250519:121116/wikifonia_1718_seg0_1_Seg1.mid\n",
      "Generating 112/387, Name: wikifonia_1718_seg0_1_Seg1\n",
      "Expected decode length: 71\n",
      "Sampling strategy: temperature-1.5, top-5\n"
     ]
    },
    {
     "name": "stderr",
     "output_type": "stream",
     "text": [
      "  7%|▋         | 69/1024 [00:00<00:10, 86.99it/s]\n",
      "  1%|          | 10/1024 [00:00<00:11, 90.94it/s]"
     ]
    },
    {
     "name": "stdout",
     "output_type": "stream",
     "text": [
      "Decode ends at step 69\n",
      "/home/qihao/MelodyBot/octuple/output/melody_20250519:121116/雪人_seg0_1_Seg3.mid\n",
      "Generating 113/387, Name: 雪人_seg0_1_Seg3\n",
      "Expected decode length: 212\n",
      "Sampling strategy: temperature-1.5, top-5\n"
     ]
    },
    {
     "name": "stderr",
     "output_type": "stream",
     "text": [
      " 21%|██        | 210/1024 [00:02<00:09, 88.33it/s]\n",
      "  1%|          | 10/1024 [00:00<00:11, 90.05it/s]"
     ]
    },
    {
     "name": "stdout",
     "output_type": "stream",
     "text": [
      "Decode ends at step 210\n",
      "/home/qihao/MelodyBot/octuple/output/melody_20250519:121116/wikifonia_714_seg0_1_Seg1.mid\n",
      "Generating 114/387, Name: wikifonia_714_seg0_1_Seg1\n",
      "Expected decode length: 117\n",
      "Sampling strategy: temperature-1.5, top-5\n"
     ]
    },
    {
     "name": "stderr",
     "output_type": "stream",
     "text": [
      " 11%|█         | 115/1024 [00:01<00:10, 87.30it/s]\n",
      "  1%|          | 9/1024 [00:00<00:12, 83.21it/s]"
     ]
    },
    {
     "name": "stdout",
     "output_type": "stream",
     "text": [
      "Decode ends at step 115\n",
      "/home/qihao/MelodyBot/octuple/output/melody_20250519:121116/wikifonia_210_seg0_1_Seg1.mid\n",
      "Generating 115/387, Name: wikifonia_210_seg0_1_Seg1\n",
      "Expected decode length: 432\n",
      "Sampling strategy: temperature-1.5, top-5\n"
     ]
    },
    {
     "name": "stderr",
     "output_type": "stream",
     "text": [
      " 42%|████▏     | 430/1024 [00:05<00:07, 78.23it/s]\n",
      "  1%|          | 10/1024 [00:00<00:11, 90.81it/s]"
     ]
    },
    {
     "name": "stdout",
     "output_type": "stream",
     "text": [
      "Decode ends at step 430\n",
      "/home/qihao/MelodyBot/octuple/output/melody_20250519:121116/卓玛_seg0_1_Seg1.mid\n",
      "Generating 116/387, Name: 卓玛_seg0_1_Seg1\n",
      "Expected decode length: 209\n",
      "Sampling strategy: temperature-1.5, top-5\n"
     ]
    },
    {
     "name": "stderr",
     "output_type": "stream",
     "text": [
      " 20%|██        | 207/1024 [00:02<00:09, 88.35it/s]\n",
      "  1%|          | 10/1024 [00:00<00:11, 91.99it/s]"
     ]
    },
    {
     "name": "stdout",
     "output_type": "stream",
     "text": [
      "Decode ends at step 207\n",
      "/home/qihao/MelodyBot/octuple/output/melody_20250519:121116/wikifonia_2586_seg0_1_Seg1.mid\n",
      "Generating 117/387, Name: wikifonia_2586_seg0_1_Seg1\n",
      "Expected decode length: 139\n",
      "Sampling strategy: temperature-1.5, top-5\n"
     ]
    },
    {
     "name": "stderr",
     "output_type": "stream",
     "text": [
      " 13%|█▎        | 137/1024 [00:01<00:10, 88.51it/s]\n",
      "  1%|          | 9/1024 [00:00<00:12, 80.55it/s]"
     ]
    },
    {
     "name": "stdout",
     "output_type": "stream",
     "text": [
      "Decode ends at step 137\n",
      "/home/qihao/MelodyBot/octuple/output/melody_20250519:121116/wikifonia_2353_seg0_1_Seg1.mid\n",
      "Generating 118/387, Name: wikifonia_2353_seg0_1_Seg1\n",
      "Expected decode length: 455\n",
      "Sampling strategy: temperature-1.5, top-5\n"
     ]
    },
    {
     "name": "stderr",
     "output_type": "stream",
     "text": [
      " 44%|████▍     | 453/1024 [00:06<00:07, 74.78it/s]\n",
      "  1%|          | 10/1024 [00:00<00:11, 91.23it/s]"
     ]
    },
    {
     "name": "stdout",
     "output_type": "stream",
     "text": [
      "Decode ends at step 453\n",
      "/home/qihao/MelodyBot/octuple/output/melody_20250519:121116/太想爱你_seg0_1_Seg1.mid\n",
      "Generating 119/387, Name: 太想爱你_seg0_1_Seg1\n",
      "Expected decode length: 59\n",
      "Sampling strategy: temperature-1.5, top-5\n"
     ]
    },
    {
     "name": "stderr",
     "output_type": "stream",
     "text": [
      "  6%|▌         | 57/1024 [00:00<00:11, 87.84it/s]\n",
      "  1%|          | 9/1024 [00:00<00:11, 89.74it/s]"
     ]
    },
    {
     "name": "stdout",
     "output_type": "stream",
     "text": [
      "Decode ends at step 57\n",
      "/home/qihao/MelodyBot/octuple/output/melody_20250519:121116/wikifonia_56_seg0_1_Seg1.mid\n",
      "Generating 120/387, Name: wikifonia_56_seg0_1_Seg1\n",
      "Expected decode length: 268\n",
      "Sampling strategy: temperature-1.5, top-5\n"
     ]
    },
    {
     "name": "stderr",
     "output_type": "stream",
     "text": [
      " 26%|██▌       | 266/1024 [00:03<00:08, 87.27it/s]\n",
      "  1%|          | 10/1024 [00:00<00:11, 91.42it/s]"
     ]
    },
    {
     "name": "stdout",
     "output_type": "stream",
     "text": [
      "Decode ends at step 266\n",
      "/home/qihao/MelodyBot/octuple/output/melody_20250519:121116/wikifonia_647_seg0_1_Seg1.mid\n",
      "Generating 121/387, Name: wikifonia_647_seg0_1_Seg1\n",
      "Expected decode length: 46\n",
      "Sampling strategy: temperature-1.5, top-5\n"
     ]
    },
    {
     "name": "stderr",
     "output_type": "stream",
     "text": [
      "  3%|▎         | 35/1024 [00:00<00:11, 87.18it/s]\n",
      "  1%|          | 9/1024 [00:00<00:12, 83.64it/s]"
     ]
    },
    {
     "name": "stdout",
     "output_type": "stream",
     "text": [
      "Decode ends at step 35\n",
      "/home/qihao/MelodyBot/octuple/output/melody_20250519:121116/wikifonia_2889_seg0_1_Seg1.mid\n",
      "Generating 122/387, Name: wikifonia_2889_seg0_1_Seg1\n",
      "Expected decode length: 93\n",
      "Sampling strategy: temperature-1.5, top-5\n"
     ]
    },
    {
     "name": "stderr",
     "output_type": "stream",
     "text": [
      "  9%|▉         | 91/1024 [00:01<00:10, 85.21it/s]\n",
      "  1%|          | 9/1024 [00:00<00:11, 89.65it/s]"
     ]
    },
    {
     "name": "stdout",
     "output_type": "stream",
     "text": [
      "Decode ends at step 91\n",
      "/home/qihao/MelodyBot/octuple/output/melody_20250519:121116/wikifonia_1599_seg0_1_Seg1.mid\n",
      "Generating 123/387, Name: wikifonia_1599_seg0_1_Seg1\n",
      "Expected decode length: 78\n",
      "Sampling strategy: temperature-1.5, top-5\n"
     ]
    },
    {
     "name": "stderr",
     "output_type": "stream",
     "text": [
      "  7%|▋         | 76/1024 [00:00<00:11, 86.06it/s]\n",
      "  1%|          | 10/1024 [00:00<00:11, 90.68it/s]"
     ]
    },
    {
     "name": "stdout",
     "output_type": "stream",
     "text": [
      "Decode ends at step 76\n",
      "/home/qihao/MelodyBot/octuple/output/melody_20250519:121116/wikifonia_732_seg0_1_Seg1.mid\n",
      "Generating 124/387, Name: wikifonia_732_seg0_1_Seg1\n",
      "Expected decode length: 161\n",
      "Sampling strategy: temperature-1.5, top-5\n"
     ]
    },
    {
     "name": "stderr",
     "output_type": "stream",
     "text": [
      " 16%|█▌        | 159/1024 [00:01<00:09, 87.58it/s]\n",
      "  1%|          | 9/1024 [00:00<00:11, 89.41it/s]"
     ]
    },
    {
     "name": "stdout",
     "output_type": "stream",
     "text": [
      "Decode ends at step 159\n",
      "/home/qihao/MelodyBot/octuple/output/melody_20250519:121116/wikifonia_1056_seg0_1_Seg1.mid\n",
      "Generating 125/387, Name: wikifonia_1056_seg0_1_Seg1\n",
      "Expected decode length: 93\n",
      "Sampling strategy: temperature-1.5, top-5\n"
     ]
    },
    {
     "name": "stderr",
     "output_type": "stream",
     "text": [
      "  9%|▉         | 90/1024 [00:01<00:10, 85.50it/s]\n",
      "  1%|          | 9/1024 [00:00<00:11, 89.61it/s]"
     ]
    },
    {
     "name": "stdout",
     "output_type": "stream",
     "text": [
      "Decode ends at step 90\n",
      "/home/qihao/MelodyBot/octuple/output/melody_20250519:121116/在此刻_seg0_1_Seg2.mid\n",
      "Generating 126/387, Name: 在此刻_seg0_1_Seg2\n",
      "Expected decode length: 96\n",
      "Sampling strategy: temperature-1.5, top-5\n"
     ]
    },
    {
     "name": "stderr",
     "output_type": "stream",
     "text": [
      "  9%|▉         | 94/1024 [00:01<00:10, 86.54it/s]\n",
      "  1%|          | 10/1024 [00:00<00:11, 90.81it/s]"
     ]
    },
    {
     "name": "stdout",
     "output_type": "stream",
     "text": [
      "Decode ends at step 94\n",
      "/home/qihao/MelodyBot/octuple/output/melody_20250519:121116/wikifonia_420_seg0_1_Seg1.mid\n",
      "Generating 127/387, Name: wikifonia_420_seg0_1_Seg1\n",
      "Expected decode length: 141\n",
      "Sampling strategy: temperature-1.5, top-5\n"
     ]
    },
    {
     "name": "stderr",
     "output_type": "stream",
     "text": [
      " 14%|█▎        | 139/1024 [00:01<00:10, 87.18it/s]\n",
      "  1%|          | 9/1024 [00:00<00:11, 89.66it/s]"
     ]
    },
    {
     "name": "stdout",
     "output_type": "stream",
     "text": [
      "Decode ends at step 139\n",
      "/home/qihao/MelodyBot/octuple/output/melody_20250519:121116/wikifonia_516_seg0_1_Seg1.mid\n",
      "Generating 128/387, Name: wikifonia_516_seg0_1_Seg1\n",
      "Expected decode length: 127\n",
      "Sampling strategy: temperature-1.5, top-5\n"
     ]
    },
    {
     "name": "stderr",
     "output_type": "stream",
     "text": [
      " 12%|█▏        | 125/1024 [00:01<00:10, 86.38it/s]\n",
      "  1%|          | 10/1024 [00:00<00:11, 90.50it/s]"
     ]
    },
    {
     "name": "stdout",
     "output_type": "stream",
     "text": [
      "Decode ends at step 125\n",
      "/home/qihao/MelodyBot/octuple/output/melody_20250519:121116/wikifonia_2136_seg0_1_Seg1.mid\n",
      "Generating 129/387, Name: wikifonia_2136_seg0_1_Seg1\n",
      "Expected decode length: 132\n",
      "Sampling strategy: temperature-1.5, top-5\n"
     ]
    },
    {
     "name": "stderr",
     "output_type": "stream",
     "text": [
      " 13%|█▎        | 130/1024 [00:01<00:10, 87.55it/s]\n",
      "  1%|          | 9/1024 [00:00<00:11, 89.41it/s]"
     ]
    },
    {
     "name": "stdout",
     "output_type": "stream",
     "text": [
      "Decode ends at step 130\n",
      "/home/qihao/MelodyBot/octuple/output/melody_20250519:121116/wikifonia_444_seg0_1_Seg1.mid\n",
      "Generating 130/387, Name: wikifonia_444_seg0_1_Seg1\n",
      "Expected decode length: 104\n",
      "Sampling strategy: temperature-1.5, top-5\n"
     ]
    },
    {
     "name": "stderr",
     "output_type": "stream",
     "text": [
      " 10%|▉         | 102/1024 [00:01<00:10, 86.40it/s]\n",
      "  1%|          | 9/1024 [00:00<00:11, 89.69it/s]"
     ]
    },
    {
     "name": "stdout",
     "output_type": "stream",
     "text": [
      "Decode ends at step 102\n",
      "/home/qihao/MelodyBot/octuple/output/melody_20250519:121116/wikifonia_58_seg0_1_Seg1.mid\n",
      "Generating 131/387, Name: wikifonia_58_seg0_1_Seg1\n",
      "Expected decode length: 84\n",
      "Sampling strategy: temperature-1.5, top-5\n"
     ]
    },
    {
     "name": "stderr",
     "output_type": "stream",
     "text": [
      "  8%|▊         | 82/1024 [00:00<00:10, 85.92it/s]\n",
      "  1%|          | 9/1024 [00:00<00:11, 89.68it/s]"
     ]
    },
    {
     "name": "stdout",
     "output_type": "stream",
     "text": [
      "Decode ends at step 82\n",
      "/home/qihao/MelodyBot/octuple/output/melody_20250519:121116/wikifonia_1278_seg0_1_Seg1.mid\n",
      "Generating 132/387, Name: wikifonia_1278_seg0_1_Seg1\n",
      "Expected decode length: 127\n",
      "Sampling strategy: temperature-1.5, top-5\n"
     ]
    },
    {
     "name": "stderr",
     "output_type": "stream",
     "text": [
      " 12%|█▏        | 125/1024 [00:01<00:10, 86.42it/s]\n",
      "  1%|          | 9/1024 [00:00<00:11, 89.56it/s]"
     ]
    },
    {
     "name": "stdout",
     "output_type": "stream",
     "text": [
      "Decode ends at step 125\n",
      "/home/qihao/MelodyBot/octuple/output/melody_20250519:121116/wikifonia_1386_seg0_1_Seg1.mid\n",
      "Generating 133/387, Name: wikifonia_1386_seg0_1_Seg1\n",
      "Expected decode length: 122\n",
      "Sampling strategy: temperature-1.5, top-5\n"
     ]
    },
    {
     "name": "stderr",
     "output_type": "stream",
     "text": [
      " 12%|█▏        | 120/1024 [00:01<00:10, 86.27it/s]\n",
      "  1%|          | 9/1024 [00:00<00:11, 89.77it/s]"
     ]
    },
    {
     "name": "stdout",
     "output_type": "stream",
     "text": [
      "Decode ends at step 120\n",
      "/home/qihao/MelodyBot/octuple/output/melody_20250519:121116/wikifonia_2493_seg0_1_Seg1.mid\n",
      "Generating 134/387, Name: wikifonia_2493_seg0_1_Seg1\n",
      "Expected decode length: 115\n",
      "Sampling strategy: temperature-1.5, top-5\n"
     ]
    },
    {
     "name": "stderr",
     "output_type": "stream",
     "text": [
      " 11%|█         | 113/1024 [00:01<00:10, 86.47it/s]\n",
      "  1%|          | 9/1024 [00:00<00:11, 89.87it/s]"
     ]
    },
    {
     "name": "stdout",
     "output_type": "stream",
     "text": [
      "Decode ends at step 113\n",
      "/home/qihao/MelodyBot/octuple/output/melody_20250519:121116/wikifonia_40_seg0_1_Seg1.mid\n",
      "Generating 135/387, Name: wikifonia_40_seg0_1_Seg1\n",
      "Expected decode length: 84\n",
      "Sampling strategy: temperature-1.5, top-5\n"
     ]
    },
    {
     "name": "stderr",
     "output_type": "stream",
     "text": [
      "  8%|▊         | 83/1024 [00:00<00:10, 86.38it/s]\n",
      "  1%|          | 10/1024 [00:00<00:11, 90.81it/s]"
     ]
    },
    {
     "name": "stdout",
     "output_type": "stream",
     "text": [
      "Decode ends at step 83\n",
      "/home/qihao/MelodyBot/octuple/output/melody_20250519:121116/wikifonia_18_seg0_1_Seg1.mid\n",
      "Generating 136/387, Name: wikifonia_18_seg0_1_Seg1\n",
      "Expected decode length: 136\n",
      "Sampling strategy: temperature-1.5, top-5\n"
     ]
    },
    {
     "name": "stderr",
     "output_type": "stream",
     "text": [
      " 13%|█▎        | 134/1024 [00:01<00:10, 87.73it/s]\n",
      "  1%|          | 9/1024 [00:00<00:11, 89.75it/s]"
     ]
    },
    {
     "name": "stdout",
     "output_type": "stream",
     "text": [
      "Decode ends at step 134\n",
      "/home/qihao/MelodyBot/octuple/output/melody_20250519:121116/伤河_seg0_1_Seg1.mid\n",
      "Generating 137/387, Name: 伤河_seg0_1_Seg1\n",
      "Expected decode length: 88\n",
      "Sampling strategy: temperature-1.5, top-5\n"
     ]
    },
    {
     "name": "stderr",
     "output_type": "stream",
     "text": [
      "  8%|▊         | 86/1024 [00:00<00:10, 86.43it/s]\n",
      "  1%|          | 9/1024 [00:00<00:11, 89.82it/s]"
     ]
    },
    {
     "name": "stdout",
     "output_type": "stream",
     "text": [
      "Decode ends at step 86\n",
      "/home/qihao/MelodyBot/octuple/output/melody_20250519:121116/wikifonia_2015_seg0_1_Seg1.mid\n",
      "Generating 138/387, Name: wikifonia_2015_seg0_1_Seg1\n",
      "Expected decode length: 79\n",
      "Sampling strategy: temperature-1.5, top-5\n"
     ]
    },
    {
     "name": "stderr",
     "output_type": "stream",
     "text": [
      "  8%|▊         | 77/1024 [00:00<00:10, 86.22it/s]\n",
      "  1%|          | 9/1024 [00:00<00:11, 89.77it/s]"
     ]
    },
    {
     "name": "stdout",
     "output_type": "stream",
     "text": [
      "Decode ends at step 77\n",
      "/home/qihao/MelodyBot/octuple/output/melody_20250519:121116/wikifonia_379_seg0_1_Seg1.mid\n",
      "Generating 139/387, Name: wikifonia_379_seg0_1_Seg1\n",
      "Expected decode length: 121\n",
      "Sampling strategy: temperature-1.5, top-5\n"
     ]
    },
    {
     "name": "stderr",
     "output_type": "stream",
     "text": [
      " 12%|█▏        | 119/1024 [00:01<00:10, 86.13it/s]\n",
      "  1%|          | 9/1024 [00:00<00:12, 82.20it/s]"
     ]
    },
    {
     "name": "stdout",
     "output_type": "stream",
     "text": [
      "Decode ends at step 119\n",
      "/home/qihao/MelodyBot/octuple/output/melody_20250519:121116/wikifonia_3010_seg0_1_Seg1.mid\n",
      "Generating 140/387, Name: wikifonia_3010_seg0_1_Seg1\n",
      "Expected decode length: 442\n",
      "Sampling strategy: temperature-1.5, top-5\n"
     ]
    },
    {
     "name": "stderr",
     "output_type": "stream",
     "text": [
      " 43%|████▎     | 440/1024 [00:05<00:07, 77.25it/s]\n",
      "  1%|          | 10/1024 [00:00<00:11, 89.95it/s]"
     ]
    },
    {
     "name": "stdout",
     "output_type": "stream",
     "text": [
      "Decode ends at step 440\n",
      "/home/qihao/MelodyBot/octuple/output/melody_20250519:121116/野孩子_seg0_1_Seg1.mid\n",
      "Generating 141/387, Name: 野孩子_seg0_1_Seg1\n",
      "Expected decode length: 101\n",
      "Sampling strategy: temperature-1.5, top-5\n"
     ]
    },
    {
     "name": "stderr",
     "output_type": "stream",
     "text": [
      " 10%|▉         | 99/1024 [00:01<00:10, 86.47it/s]\n",
      "  1%|          | 10/1024 [00:00<00:11, 90.50it/s]"
     ]
    },
    {
     "name": "stdout",
     "output_type": "stream",
     "text": [
      "Decode ends at step 99\n",
      "/home/qihao/MelodyBot/octuple/output/melody_20250519:121116/wikifonia_1553_seg0_1_Seg1.mid\n",
      "Generating 142/387, Name: wikifonia_1553_seg0_1_Seg1\n",
      "Expected decode length: 236\n",
      "Sampling strategy: temperature-1.5, top-5\n"
     ]
    },
    {
     "name": "stderr",
     "output_type": "stream",
     "text": [
      " 23%|██▎       | 234/1024 [00:02<00:09, 87.72it/s]\n",
      "  1%|          | 10/1024 [00:00<00:11, 90.67it/s]"
     ]
    },
    {
     "name": "stdout",
     "output_type": "stream",
     "text": [
      "Decode ends at step 234\n",
      "/home/qihao/MelodyBot/octuple/output/melody_20250519:121116/wikifonia_3209_seg0_1_Seg1.mid\n",
      "Generating 143/387, Name: wikifonia_3209_seg0_1_Seg1\n",
      "Expected decode length: 150\n",
      "Sampling strategy: temperature-1.5, top-5\n"
     ]
    },
    {
     "name": "stderr",
     "output_type": "stream",
     "text": [
      " 14%|█▍        | 148/1024 [00:01<00:09, 87.69it/s]\n",
      "  1%|          | 10/1024 [00:00<00:11, 90.68it/s]"
     ]
    },
    {
     "name": "stdout",
     "output_type": "stream",
     "text": [
      "Decode ends at step 148\n",
      "/home/qihao/MelodyBot/octuple/output/melody_20250519:121116/wikifonia_517_seg0_1_Seg1.mid\n",
      "Generating 144/387, Name: wikifonia_517_seg0_1_Seg1\n",
      "Expected decode length: 156\n",
      "Sampling strategy: temperature-1.5, top-5\n"
     ]
    },
    {
     "name": "stderr",
     "output_type": "stream",
     "text": [
      " 15%|█▌        | 154/1024 [00:01<00:09, 87.66it/s]\n",
      "  1%|          | 10/1024 [00:00<00:11, 90.12it/s]"
     ]
    },
    {
     "name": "stdout",
     "output_type": "stream",
     "text": [
      "Decode ends at step 154\n",
      "/home/qihao/MelodyBot/octuple/output/melody_20250519:121116/wikifonia_1178_seg0_1_Seg1.mid\n",
      "Generating 145/387, Name: wikifonia_1178_seg0_1_Seg1\n",
      "Expected decode length: 254\n",
      "Sampling strategy: temperature-1.5, top-5\n"
     ]
    },
    {
     "name": "stderr",
     "output_type": "stream",
     "text": [
      " 25%|██▍       | 252/1024 [00:02<00:08, 87.56it/s]\n",
      "  1%|          | 10/1024 [00:00<00:11, 90.82it/s]"
     ]
    },
    {
     "name": "stdout",
     "output_type": "stream",
     "text": [
      "Decode ends at step 252\n",
      "/home/qihao/MelodyBot/octuple/output/melody_20250519:121116/wikifonia_2731_seg0_1_Seg1.mid\n",
      "Generating 146/387, Name: wikifonia_2731_seg0_1_Seg1\n",
      "Expected decode length: 138\n",
      "Sampling strategy: temperature-1.5, top-5\n"
     ]
    },
    {
     "name": "stderr",
     "output_type": "stream",
     "text": [
      " 13%|█▎        | 136/1024 [00:01<00:10, 87.65it/s]\n",
      "  0%|          | 1/1024 [00:00<00:21, 47.95it/s]\n",
      "  1%|          | 9/1024 [00:00<00:11, 89.79it/s]"
     ]
    },
    {
     "name": "stdout",
     "output_type": "stream",
     "text": [
      "Decode ends at step 136\n",
      "/home/qihao/MelodyBot/octuple/output/melody_20250519:121116/wikifonia_2005_seg0_1_Seg1.mid\n",
      "Generating 147/387, Name: wikifonia_2005_seg0_1_Seg1\n",
      "Expected decode length: 39\n",
      "Sampling strategy: temperature-1.5, top-5\n",
      "Decode ends at step 1\n",
      "/home/qihao/MelodyBot/octuple/output/melody_20250519:121116/wikifonia_2920_seg0_1_Seg1.mid\n",
      "Generating 148/387, Name: wikifonia_2920_seg0_1_Seg1\n",
      "Expected decode length: 78\n",
      "Sampling strategy: temperature-1.5, top-5\n"
     ]
    },
    {
     "name": "stderr",
     "output_type": "stream",
     "text": [
      "  7%|▋         | 76/1024 [00:00<00:10, 86.26it/s]\n",
      "  1%|          | 9/1024 [00:00<00:11, 89.60it/s]"
     ]
    },
    {
     "name": "stdout",
     "output_type": "stream",
     "text": [
      "Decode ends at step 76\n",
      "/home/qihao/MelodyBot/octuple/output/melody_20250519:121116/wikifonia_2517_seg0_1_Seg1.mid\n",
      "Generating 149/387, Name: wikifonia_2517_seg0_1_Seg1\n",
      "Expected decode length: 117\n",
      "Sampling strategy: temperature-1.5, top-5\n"
     ]
    },
    {
     "name": "stderr",
     "output_type": "stream",
     "text": [
      " 11%|█         | 115/1024 [00:01<00:10, 86.39it/s]\n",
      "  1%|          | 9/1024 [00:00<00:11, 89.94it/s]"
     ]
    },
    {
     "name": "stdout",
     "output_type": "stream",
     "text": [
      "Decode ends at step 115\n",
      "/home/qihao/MelodyBot/octuple/output/melody_20250519:121116/wikifonia_3091_seg0_1_Seg1.mid\n",
      "Generating 150/387, Name: wikifonia_3091_seg0_1_Seg1\n",
      "Expected decode length: 108\n",
      "Sampling strategy: temperature-1.5, top-5\n"
     ]
    },
    {
     "name": "stderr",
     "output_type": "stream",
     "text": [
      " 10%|█         | 106/1024 [00:01<00:10, 86.31it/s]\n",
      "  1%|          | 9/1024 [00:00<00:11, 89.77it/s]"
     ]
    },
    {
     "name": "stdout",
     "output_type": "stream",
     "text": [
      "Decode ends at step 106\n",
      "/home/qihao/MelodyBot/octuple/output/melody_20250519:121116/wikifonia_1840_seg0_1_Seg1.mid\n",
      "Generating 151/387, Name: wikifonia_1840_seg0_1_Seg1\n",
      "Expected decode length: 96\n",
      "Sampling strategy: temperature-1.5, top-5\n"
     ]
    },
    {
     "name": "stderr",
     "output_type": "stream",
     "text": [
      "  9%|▉         | 91/1024 [00:01<00:10, 86.03it/s]\n",
      "  1%|          | 7/1024 [00:00<00:12, 79.65it/s]\n",
      "  1%|          | 9/1024 [00:00<00:11, 89.52it/s]"
     ]
    },
    {
     "name": "stdout",
     "output_type": "stream",
     "text": [
      "Decode ends at step 91\n",
      "/home/qihao/MelodyBot/octuple/output/melody_20250519:121116/wikifonia_2813_seg0_1_Seg1.mid\n",
      "Generating 152/387, Name: wikifonia_2813_seg0_1_Seg1\n",
      "Expected decode length: 53\n",
      "Sampling strategy: temperature-1.5, top-5\n",
      "Decode ends at step 7\n",
      "/home/qihao/MelodyBot/octuple/output/melody_20250519:121116/wikifonia_1216_seg0_1_Seg1.mid\n",
      "Generating 153/387, Name: wikifonia_1216_seg0_1_Seg1\n",
      "Expected decode length: 108\n",
      "Sampling strategy: temperature-1.5, top-5\n"
     ]
    },
    {
     "name": "stderr",
     "output_type": "stream",
     "text": [
      " 10%|█         | 106/1024 [00:01<00:10, 86.28it/s]\n",
      "  1%|          | 9/1024 [00:00<00:11, 89.74it/s]"
     ]
    },
    {
     "name": "stdout",
     "output_type": "stream",
     "text": [
      "Decode ends at step 106\n",
      "/home/qihao/MelodyBot/octuple/output/melody_20250519:121116/外面的世界_seg0_1_Seg2.mid\n",
      "Generating 154/387, Name: 外面的世界_seg0_1_Seg2\n",
      "Expected decode length: 119\n",
      "Sampling strategy: temperature-1.5, top-5\n"
     ]
    },
    {
     "name": "stderr",
     "output_type": "stream",
     "text": [
      "  7%|▋         | 69/1024 [00:00<00:11, 86.02it/s]\n",
      "  1%|          | 9/1024 [00:00<00:11, 89.79it/s]"
     ]
    },
    {
     "name": "stdout",
     "output_type": "stream",
     "text": [
      "Decode ends at step 69\n",
      "/home/qihao/MelodyBot/octuple/output/melody_20250519:121116/wikifonia_1196_seg0_1_Seg1.mid\n",
      "Generating 155/387, Name: wikifonia_1196_seg0_1_Seg1\n",
      "Expected decode length: 210\n",
      "Sampling strategy: temperature-1.5, top-5\n"
     ]
    },
    {
     "name": "stderr",
     "output_type": "stream",
     "text": [
      " 20%|██        | 208/1024 [00:02<00:09, 87.78it/s]\n",
      "  1%|          | 10/1024 [00:00<00:11, 90.75it/s]"
     ]
    },
    {
     "name": "stdout",
     "output_type": "stream",
     "text": [
      "Decode ends at step 208\n",
      "/home/qihao/MelodyBot/octuple/output/melody_20250519:121116/wikifonia_1073_seg0_1_Seg1.mid\n",
      "Generating 156/387, Name: wikifonia_1073_seg0_1_Seg1\n",
      "Expected decode length: 135\n",
      "Sampling strategy: temperature-1.5, top-5\n"
     ]
    },
    {
     "name": "stderr",
     "output_type": "stream",
     "text": [
      " 13%|█▎        | 133/1024 [00:01<00:10, 87.60it/s]\n",
      "  1%|          | 10/1024 [00:00<00:11, 90.51it/s]"
     ]
    },
    {
     "name": "stdout",
     "output_type": "stream",
     "text": [
      "Decode ends at step 133\n",
      "/home/qihao/MelodyBot/octuple/output/melody_20250519:121116/wikifonia_1400_seg0_1_Seg1.mid\n",
      "Generating 157/387, Name: wikifonia_1400_seg0_1_Seg1\n",
      "Expected decode length: 145\n",
      "Sampling strategy: temperature-1.5, top-5\n"
     ]
    },
    {
     "name": "stderr",
     "output_type": "stream",
     "text": [
      " 14%|█▍        | 143/1024 [00:01<00:10, 87.47it/s]\n",
      "  1%|          | 9/1024 [00:00<00:11, 89.72it/s]"
     ]
    },
    {
     "name": "stdout",
     "output_type": "stream",
     "text": [
      "Decode ends at step 143\n",
      "/home/qihao/MelodyBot/octuple/output/melody_20250519:121116/wikifonia_485_seg0_1_Seg1.mid\n",
      "Generating 158/387, Name: wikifonia_485_seg0_1_Seg1\n",
      "Expected decode length: 87\n",
      "Sampling strategy: temperature-1.5, top-5\n"
     ]
    },
    {
     "name": "stderr",
     "output_type": "stream",
     "text": [
      "  8%|▊         | 85/1024 [00:00<00:10, 86.09it/s]\n",
      "  1%|          | 10/1024 [00:00<00:11, 89.96it/s]"
     ]
    },
    {
     "name": "stdout",
     "output_type": "stream",
     "text": [
      "Decode ends at step 85\n",
      "/home/qihao/MelodyBot/octuple/output/melody_20250519:121116/wikifonia_2751_seg0_1_Seg1.mid\n",
      "Generating 159/387, Name: wikifonia_2751_seg0_1_Seg1\n",
      "Expected decode length: 129\n",
      "Sampling strategy: temperature-1.5, top-5\n"
     ]
    },
    {
     "name": "stderr",
     "output_type": "stream",
     "text": [
      " 12%|█▏        | 125/1024 [00:01<00:10, 86.39it/s]\n",
      "  1%|          | 10/1024 [00:00<00:11, 90.43it/s]"
     ]
    },
    {
     "name": "stdout",
     "output_type": "stream",
     "text": [
      "Decode ends at step 125\n",
      "/home/qihao/MelodyBot/octuple/output/melody_20250519:121116/wikifonia_2665_seg0_1_Seg1.mid\n",
      "Generating 160/387, Name: wikifonia_2665_seg0_1_Seg1\n",
      "Expected decode length: 240\n",
      "Sampling strategy: temperature-1.5, top-5\n"
     ]
    },
    {
     "name": "stderr",
     "output_type": "stream",
     "text": [
      " 23%|██▎       | 238/1024 [00:02<00:08, 87.83it/s]\n",
      "  1%|          | 9/1024 [00:00<00:11, 89.62it/s]"
     ]
    },
    {
     "name": "stdout",
     "output_type": "stream",
     "text": [
      "Decode ends at step 238\n",
      "/home/qihao/MelodyBot/octuple/output/melody_20250519:121116/wikifonia_2462_seg0_1_Seg1.mid\n",
      "Generating 161/387, Name: wikifonia_2462_seg0_1_Seg1\n",
      "Expected decode length: 85\n",
      "Sampling strategy: temperature-1.5, top-5\n"
     ]
    },
    {
     "name": "stderr",
     "output_type": "stream",
     "text": [
      "  8%|▊         | 83/1024 [00:00<00:10, 86.29it/s]\n",
      "  1%|          | 9/1024 [00:00<00:11, 88.99it/s]"
     ]
    },
    {
     "name": "stdout",
     "output_type": "stream",
     "text": [
      "Decode ends at step 83\n",
      "/home/qihao/MelodyBot/octuple/output/melody_20250519:121116/wikifonia_1918_seg0_1_Seg1.mid\n",
      "Generating 162/387, Name: wikifonia_1918_seg0_1_Seg1\n",
      "Expected decode length: 98\n",
      "Sampling strategy: temperature-1.5, top-5\n"
     ]
    },
    {
     "name": "stderr",
     "output_type": "stream",
     "text": [
      "  9%|▉         | 94/1024 [00:01<00:10, 86.12it/s]\n",
      "  1%|          | 9/1024 [00:00<00:11, 89.60it/s]"
     ]
    },
    {
     "name": "stdout",
     "output_type": "stream",
     "text": [
      "Decode ends at step 94\n",
      "/home/qihao/MelodyBot/octuple/output/melody_20250519:121116/wikifonia_3003_seg0_1_Seg1.mid\n",
      "Generating 163/387, Name: wikifonia_3003_seg0_1_Seg1\n",
      "Expected decode length: 82\n",
      "Sampling strategy: temperature-1.5, top-5\n"
     ]
    },
    {
     "name": "stderr",
     "output_type": "stream",
     "text": [
      "  8%|▊         | 80/1024 [00:00<00:10, 86.06it/s]\n",
      "  1%|          | 9/1024 [00:00<00:11, 89.90it/s]"
     ]
    },
    {
     "name": "stdout",
     "output_type": "stream",
     "text": [
      "Decode ends at step 80\n",
      "/home/qihao/MelodyBot/octuple/output/melody_20250519:121116/wikifonia_2113_seg0_1_Seg1.mid\n",
      "Generating 164/387, Name: wikifonia_2113_seg0_1_Seg1\n",
      "Expected decode length: 127\n",
      "Sampling strategy: temperature-1.5, top-5\n"
     ]
    },
    {
     "name": "stderr",
     "output_type": "stream",
     "text": [
      " 12%|█▏        | 125/1024 [00:01<00:10, 86.43it/s]\n",
      "  1%|          | 9/1024 [00:00<00:11, 88.80it/s]"
     ]
    },
    {
     "name": "stdout",
     "output_type": "stream",
     "text": [
      "Decode ends at step 125\n",
      "/home/qihao/MelodyBot/octuple/output/melody_20250519:121116/wikifonia_544_seg0_1_Seg1.mid\n",
      "Generating 165/387, Name: wikifonia_544_seg0_1_Seg1\n",
      "Expected decode length: 264\n",
      "Sampling strategy: temperature-1.5, top-5\n"
     ]
    },
    {
     "name": "stderr",
     "output_type": "stream",
     "text": [
      " 26%|██▌       | 262/1024 [00:03<00:08, 86.55it/s]\n",
      "  1%|          | 10/1024 [00:00<00:11, 90.58it/s]"
     ]
    },
    {
     "name": "stdout",
     "output_type": "stream",
     "text": [
      "Decode ends at step 262\n",
      "/home/qihao/MelodyBot/octuple/output/melody_20250519:121116/wikifonia_341_seg0_1_Seg1.mid\n",
      "Generating 166/387, Name: wikifonia_341_seg0_1_Seg1\n",
      "Expected decode length: 144\n",
      "Sampling strategy: temperature-1.5, top-5\n"
     ]
    },
    {
     "name": "stderr",
     "output_type": "stream",
     "text": [
      " 14%|█▍        | 142/1024 [00:01<00:10, 87.48it/s]\n",
      "  1%|          | 9/1024 [00:00<00:11, 89.90it/s]"
     ]
    },
    {
     "name": "stdout",
     "output_type": "stream",
     "text": [
      "Decode ends at step 142\n",
      "/home/qihao/MelodyBot/octuple/output/melody_20250519:121116/安和桥_seg0_1_Seg1.mid\n",
      "Generating 167/387, Name: 安和桥_seg0_1_Seg1\n",
      "Expected decode length: 111\n",
      "Sampling strategy: temperature-1.5, top-5\n"
     ]
    },
    {
     "name": "stderr",
     "output_type": "stream",
     "text": [
      " 11%|█         | 109/1024 [00:01<00:10, 86.08it/s]\n",
      "  1%|          | 10/1024 [00:00<00:11, 90.40it/s]"
     ]
    },
    {
     "name": "stdout",
     "output_type": "stream",
     "text": [
      "Decode ends at step 109\n",
      "/home/qihao/MelodyBot/octuple/output/melody_20250519:121116/wikifonia_3128_seg0_1_Seg1.mid\n",
      "Generating 168/387, Name: wikifonia_3128_seg0_1_Seg1\n",
      "Expected decode length: 158\n",
      "Sampling strategy: temperature-1.5, top-5\n"
     ]
    },
    {
     "name": "stderr",
     "output_type": "stream",
     "text": [
      " 15%|█▌        | 156/1024 [00:01<00:09, 87.58it/s]\n",
      "  1%|          | 9/1024 [00:00<00:11, 89.86it/s]"
     ]
    },
    {
     "name": "stdout",
     "output_type": "stream",
     "text": [
      "Decode ends at step 156\n",
      "/home/qihao/MelodyBot/octuple/output/melody_20250519:121116/算了_seg0_1_Seg2.mid\n",
      "Generating 169/387, Name: 算了_seg0_1_Seg2\n",
      "Expected decode length: 120\n",
      "Sampling strategy: temperature-1.5, top-5\n"
     ]
    },
    {
     "name": "stderr",
     "output_type": "stream",
     "text": [
      " 12%|█▏        | 118/1024 [00:01<00:10, 86.10it/s]\n",
      "  1%|          | 10/1024 [00:00<00:11, 90.60it/s]"
     ]
    },
    {
     "name": "stdout",
     "output_type": "stream",
     "text": [
      "Decode ends at step 118\n",
      "/home/qihao/MelodyBot/octuple/output/melody_20250519:121116/wikifonia_139_seg0_1_Seg1.mid\n",
      "Generating 170/387, Name: wikifonia_139_seg0_1_Seg1\n",
      "Expected decode length: 161\n",
      "Sampling strategy: temperature-1.5, top-5\n"
     ]
    },
    {
     "name": "stderr",
     "output_type": "stream",
     "text": [
      " 16%|█▌        | 159/1024 [00:01<00:09, 87.70it/s]\n",
      "  1%|          | 10/1024 [00:00<00:11, 90.40it/s]"
     ]
    },
    {
     "name": "stdout",
     "output_type": "stream",
     "text": [
      "Decode ends at step 159\n",
      "/home/qihao/MelodyBot/octuple/output/melody_20250519:121116/哥有老婆_seg0_1_Seg1.mid\n",
      "Generating 171/387, Name: 哥有老婆_seg0_1_Seg1\n",
      "Expected decode length: 199\n",
      "Sampling strategy: temperature-1.5, top-5\n"
     ]
    },
    {
     "name": "stderr",
     "output_type": "stream",
     "text": [
      " 19%|█▉        | 197/1024 [00:02<00:09, 87.99it/s]\n",
      "  1%|          | 9/1024 [00:00<00:12, 83.94it/s]"
     ]
    },
    {
     "name": "stdout",
     "output_type": "stream",
     "text": [
      "Decode ends at step 197\n",
      "/home/qihao/MelodyBot/octuple/output/melody_20250519:121116/wikifonia_3092_seg0_1_Seg1.mid\n",
      "Generating 172/387, Name: wikifonia_3092_seg0_1_Seg1\n",
      "Expected decode length: 395\n",
      "Sampling strategy: temperature-1.5, top-5\n"
     ]
    },
    {
     "name": "stderr",
     "output_type": "stream",
     "text": [
      " 38%|███▊      | 393/1024 [00:04<00:07, 79.35it/s]\n",
      "  1%|          | 9/1024 [00:00<00:11, 89.75it/s]"
     ]
    },
    {
     "name": "stdout",
     "output_type": "stream",
     "text": [
      "Decode ends at step 393\n",
      "/home/qihao/MelodyBot/octuple/output/melody_20250519:121116/孤单坠爱_seg0_1_Seg1.mid\n",
      "Generating 173/387, Name: 孤单坠爱_seg0_1_Seg1\n",
      "Expected decode length: 91\n",
      "Sampling strategy: temperature-1.5, top-5\n"
     ]
    },
    {
     "name": "stderr",
     "output_type": "stream",
     "text": [
      "  9%|▊         | 89/1024 [00:01<00:10, 85.83it/s]\n",
      "  1%|          | 9/1024 [00:00<00:11, 89.32it/s]"
     ]
    },
    {
     "name": "stdout",
     "output_type": "stream",
     "text": [
      "Decode ends at step 89\n",
      "/home/qihao/MelodyBot/octuple/output/melody_20250519:121116/wikifonia_614_seg0_1_Seg1.mid\n",
      "Generating 174/387, Name: wikifonia_614_seg0_1_Seg1\n",
      "Expected decode length: 81\n",
      "Sampling strategy: temperature-1.5, top-5\n"
     ]
    },
    {
     "name": "stderr",
     "output_type": "stream",
     "text": [
      "  8%|▊         | 79/1024 [00:00<00:10, 86.11it/s]\n",
      "  1%|          | 9/1024 [00:00<00:11, 89.58it/s]"
     ]
    },
    {
     "name": "stdout",
     "output_type": "stream",
     "text": [
      "Decode ends at step 79\n",
      "/home/qihao/MelodyBot/octuple/output/melody_20250519:121116/wikifonia_1544_seg0_1_Seg1.mid\n",
      "Generating 175/387, Name: wikifonia_1544_seg0_1_Seg1\n",
      "Expected decode length: 168\n",
      "Sampling strategy: temperature-1.5, top-5\n"
     ]
    },
    {
     "name": "stderr",
     "output_type": "stream",
     "text": [
      " 16%|█▌        | 166/1024 [00:01<00:09, 86.83it/s]\n",
      "  1%|          | 9/1024 [00:00<00:11, 89.49it/s]"
     ]
    },
    {
     "name": "stdout",
     "output_type": "stream",
     "text": [
      "Decode ends at step 166\n",
      "/home/qihao/MelodyBot/octuple/output/melody_20250519:121116/wikifonia_2031_seg0_1_Seg1.mid\n",
      "Generating 176/387, Name: wikifonia_2031_seg0_1_Seg1\n",
      "Expected decode length: 95\n",
      "Sampling strategy: temperature-1.5, top-5\n"
     ]
    },
    {
     "name": "stderr",
     "output_type": "stream",
     "text": [
      "  9%|▉         | 93/1024 [00:01<00:10, 86.34it/s]\n",
      "  1%|          | 9/1024 [00:00<00:11, 89.68it/s]"
     ]
    },
    {
     "name": "stdout",
     "output_type": "stream",
     "text": [
      "Decode ends at step 93\n",
      "/home/qihao/MelodyBot/octuple/output/melody_20250519:121116/wikifonia_1655_seg0_1_Seg1.mid\n",
      "Generating 177/387, Name: wikifonia_1655_seg0_1_Seg1\n",
      "Expected decode length: 98\n",
      "Sampling strategy: temperature-1.5, top-5\n"
     ]
    },
    {
     "name": "stderr",
     "output_type": "stream",
     "text": [
      "  9%|▉         | 96/1024 [00:01<00:10, 86.06it/s]\n",
      "  1%|          | 10/1024 [00:00<00:11, 90.26it/s]"
     ]
    },
    {
     "name": "stdout",
     "output_type": "stream",
     "text": [
      "Decode ends at step 96\n",
      "/home/qihao/MelodyBot/octuple/output/melody_20250519:121116/Lovelovelove_seg0_1_Seg2.mid\n",
      "Generating 178/387, Name: Lovelovelove_seg0_1_Seg2\n",
      "Expected decode length: 138\n",
      "Sampling strategy: temperature-1.5, top-5\n"
     ]
    },
    {
     "name": "stderr",
     "output_type": "stream",
     "text": [
      " 13%|█▎        | 136/1024 [00:01<00:10, 87.49it/s]\n",
      "  1%|          | 10/1024 [00:00<00:11, 90.74it/s]"
     ]
    },
    {
     "name": "stdout",
     "output_type": "stream",
     "text": [
      "Decode ends at step 136\n",
      "/home/qihao/MelodyBot/octuple/output/melody_20250519:121116/wikifonia_2896_seg0_1_Seg1.mid\n",
      "Generating 179/387, Name: wikifonia_2896_seg0_1_Seg1\n",
      "Expected decode length: 132\n",
      "Sampling strategy: temperature-1.5, top-5\n"
     ]
    },
    {
     "name": "stderr",
     "output_type": "stream",
     "text": [
      " 13%|█▎        | 130/1024 [00:01<00:10, 87.42it/s]\n",
      "  1%|          | 10/1024 [00:00<00:11, 90.66it/s]"
     ]
    },
    {
     "name": "stdout",
     "output_type": "stream",
     "text": [
      "Decode ends at step 130\n",
      "/home/qihao/MelodyBot/octuple/output/melody_20250519:121116/wikifonia_1900_seg0_1_Seg1.mid\n",
      "Generating 180/387, Name: wikifonia_1900_seg0_1_Seg1\n",
      "Expected decode length: 56\n",
      "Sampling strategy: temperature-1.5, top-5\n"
     ]
    },
    {
     "name": "stderr",
     "output_type": "stream",
     "text": [
      "  7%|▋         | 69/1024 [00:00<00:10, 87.12it/s]\n",
      "  1%|          | 10/1024 [00:00<00:11, 90.55it/s]"
     ]
    },
    {
     "name": "stdout",
     "output_type": "stream",
     "text": [
      "Decode ends at step 69\n",
      "/home/qihao/MelodyBot/octuple/output/melody_20250519:121116/wikifonia_3242_seg0_1_Seg1.mid\n",
      "Generating 181/387, Name: wikifonia_3242_seg0_1_Seg1\n",
      "Expected decode length: 46\n",
      "Sampling strategy: temperature-1.5, top-5\n"
     ]
    },
    {
     "name": "stderr",
     "output_type": "stream",
     "text": [
      "  4%|▍         | 44/1024 [00:00<00:11, 86.98it/s]\n",
      "  1%|          | 10/1024 [00:00<00:11, 90.94it/s]"
     ]
    },
    {
     "name": "stdout",
     "output_type": "stream",
     "text": [
      "Decode ends at step 44\n",
      "/home/qihao/MelodyBot/octuple/output/melody_20250519:121116/wikifonia_940_seg0_1_Seg1.mid\n",
      "Generating 182/387, Name: wikifonia_940_seg0_1_Seg1\n",
      "Expected decode length: 132\n",
      "Sampling strategy: temperature-1.5, top-5\n"
     ]
    },
    {
     "name": "stderr",
     "output_type": "stream",
     "text": [
      " 13%|█▎        | 130/1024 [00:01<00:10, 87.36it/s]\n",
      "  1%|          | 9/1024 [00:00<00:11, 89.60it/s]"
     ]
    },
    {
     "name": "stdout",
     "output_type": "stream",
     "text": [
      "Decode ends at step 130\n",
      "/home/qihao/MelodyBot/octuple/output/melody_20250519:121116/wikifonia_2745_seg0_1_Seg1.mid\n",
      "Generating 183/387, Name: wikifonia_2745_seg0_1_Seg1\n",
      "Expected decode length: 94\n",
      "Sampling strategy: temperature-1.5, top-5\n"
     ]
    },
    {
     "name": "stderr",
     "output_type": "stream",
     "text": [
      "  9%|▉         | 91/1024 [00:01<00:10, 86.25it/s]\n",
      "  1%|          | 9/1024 [00:00<00:11, 89.49it/s]"
     ]
    },
    {
     "name": "stdout",
     "output_type": "stream",
     "text": [
      "Decode ends at step 91\n",
      "/home/qihao/MelodyBot/octuple/output/melody_20250519:121116/wikifonia_1792_seg0_1_Seg1.mid\n",
      "Generating 184/387, Name: wikifonia_1792_seg0_1_Seg1\n",
      "Expected decode length: 116\n",
      "Sampling strategy: temperature-1.5, top-5\n"
     ]
    },
    {
     "name": "stderr",
     "output_type": "stream",
     "text": [
      "  7%|▋         | 68/1024 [00:00<00:11, 86.02it/s]\n",
      "  1%|          | 9/1024 [00:00<00:11, 89.47it/s]"
     ]
    },
    {
     "name": "stdout",
     "output_type": "stream",
     "text": [
      "Decode ends at step 68\n",
      "/home/qihao/MelodyBot/octuple/output/melody_20250519:121116/长相依_seg0_1_Seg3.mid\n",
      "Generating 185/387, Name: 长相依_seg0_1_Seg3\n",
      "Expected decode length: 233\n",
      "Sampling strategy: temperature-1.5, top-5\n"
     ]
    },
    {
     "name": "stderr",
     "output_type": "stream",
     "text": [
      " 23%|██▎       | 231/1024 [00:02<00:09, 87.41it/s]\n",
      "  1%|          | 10/1024 [00:00<00:11, 90.58it/s]"
     ]
    },
    {
     "name": "stdout",
     "output_type": "stream",
     "text": [
      "Decode ends at step 231\n",
      "/home/qihao/MelodyBot/octuple/output/melody_20250519:121116/wikifonia_2070_seg0_1_Seg1.mid\n",
      "Generating 186/387, Name: wikifonia_2070_seg0_1_Seg1\n",
      "Expected decode length: 130\n",
      "Sampling strategy: temperature-1.5, top-5\n"
     ]
    },
    {
     "name": "stderr",
     "output_type": "stream",
     "text": [
      " 12%|█▎        | 128/1024 [00:01<00:10, 87.64it/s]\n",
      "  1%|          | 9/1024 [00:00<00:11, 89.13it/s]"
     ]
    },
    {
     "name": "stdout",
     "output_type": "stream",
     "text": [
      "Decode ends at step 128\n",
      "/home/qihao/MelodyBot/octuple/output/melody_20250519:121116/wikifonia_1109_seg0_1_Seg1.mid\n",
      "Generating 187/387, Name: wikifonia_1109_seg0_1_Seg1\n",
      "Expected decode length: 270\n",
      "Sampling strategy: temperature-1.5, top-5\n"
     ]
    },
    {
     "name": "stderr",
     "output_type": "stream",
     "text": [
      " 26%|██▌       | 268/1024 [00:03<00:08, 86.51it/s]\n",
      "  1%|          | 9/1024 [00:00<00:11, 89.39it/s]"
     ]
    },
    {
     "name": "stdout",
     "output_type": "stream",
     "text": [
      "Decode ends at step 268\n",
      "/home/qihao/MelodyBot/octuple/output/melody_20250519:121116/神奇的九寨_seg0_1_Seg2.mid\n",
      "Generating 188/387, Name: 神奇的九寨_seg0_1_Seg2\n",
      "Expected decode length: 111\n",
      "Sampling strategy: temperature-1.5, top-5\n"
     ]
    },
    {
     "name": "stderr",
     "output_type": "stream",
     "text": [
      " 11%|█         | 109/1024 [00:01<00:10, 86.33it/s]\n",
      "  1%|          | 9/1024 [00:00<00:11, 89.91it/s]"
     ]
    },
    {
     "name": "stdout",
     "output_type": "stream",
     "text": [
      "Decode ends at step 109\n",
      "/home/qihao/MelodyBot/octuple/output/melody_20250519:121116/wikifonia_3304_seg0_1_Seg1.mid\n",
      "Generating 189/387, Name: wikifonia_3304_seg0_1_Seg1\n",
      "Expected decode length: 167\n",
      "Sampling strategy: temperature-1.5, top-5\n"
     ]
    },
    {
     "name": "stderr",
     "output_type": "stream",
     "text": [
      " 16%|█▌        | 165/1024 [00:01<00:09, 86.58it/s]\n",
      "  1%|          | 9/1024 [00:00<00:11, 89.85it/s]"
     ]
    },
    {
     "name": "stdout",
     "output_type": "stream",
     "text": [
      "Decode ends at step 165\n",
      "/home/qihao/MelodyBot/octuple/output/melody_20250519:121116/wikifonia_3153_seg0_1_Seg1.mid\n",
      "Generating 190/387, Name: wikifonia_3153_seg0_1_Seg1\n",
      "Expected decode length: 76\n",
      "Sampling strategy: temperature-1.5, top-5\n"
     ]
    },
    {
     "name": "stderr",
     "output_type": "stream",
     "text": [
      "  7%|▋         | 74/1024 [00:00<00:11, 86.29it/s]\n",
      "  1%|          | 9/1024 [00:00<00:11, 89.83it/s]"
     ]
    },
    {
     "name": "stdout",
     "output_type": "stream",
     "text": [
      "Decode ends at step 74\n",
      "/home/qihao/MelodyBot/octuple/output/melody_20250519:121116/wikifonia_1756_seg0_1_Seg1.mid\n",
      "Generating 191/387, Name: wikifonia_1756_seg0_1_Seg1\n",
      "Expected decode length: 167\n",
      "Sampling strategy: temperature-1.5, top-5\n"
     ]
    },
    {
     "name": "stderr",
     "output_type": "stream",
     "text": [
      " 16%|█▌        | 165/1024 [00:01<00:09, 86.83it/s]\n",
      "  1%|          | 9/1024 [00:00<00:12, 83.38it/s]"
     ]
    },
    {
     "name": "stdout",
     "output_type": "stream",
     "text": [
      "Decode ends at step 165\n",
      "/home/qihao/MelodyBot/octuple/output/melody_20250519:121116/回忆那么伤_seg0_1_Seg1.mid\n",
      "Generating 192/387, Name: 回忆那么伤_seg0_1_Seg1\n",
      "Expected decode length: 391\n",
      "Sampling strategy: temperature-1.5, top-5\n"
     ]
    },
    {
     "name": "stderr",
     "output_type": "stream",
     "text": [
      " 38%|███▊      | 389/1024 [00:04<00:07, 79.62it/s]\n",
      "  1%|          | 9/1024 [00:00<00:11, 89.19it/s]"
     ]
    },
    {
     "name": "stdout",
     "output_type": "stream",
     "text": [
      "Decode ends at step 389\n",
      "/home/qihao/MelodyBot/octuple/output/melody_20250519:121116/说爱我_seg0_1_Seg1.mid\n",
      "Generating 193/387, Name: 说爱我_seg0_1_Seg1\n",
      "Expected decode length: 105\n",
      "Sampling strategy: temperature-1.5, top-5\n"
     ]
    },
    {
     "name": "stderr",
     "output_type": "stream",
     "text": [
      " 10%|█         | 103/1024 [00:01<00:10, 86.00it/s]\n",
      "  1%|          | 10/1024 [00:00<00:11, 90.39it/s]"
     ]
    },
    {
     "name": "stdout",
     "output_type": "stream",
     "text": [
      "Decode ends at step 103\n",
      "/home/qihao/MelodyBot/octuple/output/melody_20250519:121116/春泥_seg0_1_Seg2.mid\n",
      "Generating 194/387, Name: 春泥_seg0_1_Seg2\n",
      "Expected decode length: 216\n",
      "Sampling strategy: temperature-1.5, top-5\n"
     ]
    },
    {
     "name": "stderr",
     "output_type": "stream",
     "text": [
      " 21%|██        | 214/1024 [00:02<00:09, 87.62it/s]\n",
      "  1%|          | 9/1024 [00:00<00:11, 89.76it/s]"
     ]
    },
    {
     "name": "stdout",
     "output_type": "stream",
     "text": [
      "Decode ends at step 214\n",
      "/home/qihao/MelodyBot/octuple/output/melody_20250519:121116/wikifonia_3114_seg0_1_Seg1.mid\n",
      "Generating 195/387, Name: wikifonia_3114_seg0_1_Seg1\n",
      "Expected decode length: 106\n",
      "Sampling strategy: temperature-1.5, top-5\n"
     ]
    },
    {
     "name": "stderr",
     "output_type": "stream",
     "text": [
      "  9%|▉         | 90/1024 [00:01<00:10, 86.34it/s]\n",
      "  1%|          | 10/1024 [00:00<00:11, 90.88it/s]"
     ]
    },
    {
     "name": "stdout",
     "output_type": "stream",
     "text": [
      "Decode ends at step 90\n",
      "/home/qihao/MelodyBot/octuple/output/melody_20250519:121116/wikifonia_230_seg0_1_Seg1.mid\n",
      "Generating 196/387, Name: wikifonia_230_seg0_1_Seg1\n",
      "Expected decode length: 133\n",
      "Sampling strategy: temperature-1.5, top-5\n"
     ]
    },
    {
     "name": "stderr",
     "output_type": "stream",
     "text": [
      " 13%|█▎        | 131/1024 [00:01<00:10, 87.83it/s]\n",
      "  1%|          | 10/1024 [00:00<00:11, 90.67it/s]"
     ]
    },
    {
     "name": "stdout",
     "output_type": "stream",
     "text": [
      "Decode ends at step 131\n",
      "/home/qihao/MelodyBot/octuple/output/melody_20250519:121116/wikifonia_2397_seg0_1_Seg1.mid\n",
      "Generating 197/387, Name: wikifonia_2397_seg0_1_Seg1\n",
      "Expected decode length: 149\n",
      "Sampling strategy: temperature-1.5, top-5\n"
     ]
    },
    {
     "name": "stderr",
     "output_type": "stream",
     "text": [
      " 14%|█▍        | 147/1024 [00:01<00:09, 87.78it/s]\n",
      "  1%|          | 9/1024 [00:00<00:11, 89.69it/s]"
     ]
    },
    {
     "name": "stdout",
     "output_type": "stream",
     "text": [
      "Decode ends at step 147\n",
      "/home/qihao/MelodyBot/octuple/output/melody_20250519:121116/最长的电影_seg0_1_Seg1.mid\n",
      "Generating 198/387, Name: 最长的电影_seg0_1_Seg1\n",
      "Expected decode length: 174\n",
      "Sampling strategy: temperature-1.5, top-5\n"
     ]
    },
    {
     "name": "stderr",
     "output_type": "stream",
     "text": [
      " 17%|█▋        | 172/1024 [00:01<00:09, 86.93it/s]\n",
      "  1%|          | 10/1024 [00:00<00:11, 90.51it/s]"
     ]
    },
    {
     "name": "stdout",
     "output_type": "stream",
     "text": [
      "Decode ends at step 172\n",
      "/home/qihao/MelodyBot/octuple/output/melody_20250519:121116/wikifonia_2220_seg0_1_Seg1.mid\n",
      "Generating 199/387, Name: wikifonia_2220_seg0_1_Seg1\n",
      "Expected decode length: 158\n",
      "Sampling strategy: temperature-1.5, top-5\n"
     ]
    },
    {
     "name": "stderr",
     "output_type": "stream",
     "text": [
      " 15%|█▌        | 156/1024 [00:01<00:09, 87.66it/s]\n",
      "  1%|          | 10/1024 [00:00<00:11, 90.74it/s]"
     ]
    },
    {
     "name": "stdout",
     "output_type": "stream",
     "text": [
      "Decode ends at step 156\n",
      "/home/qihao/MelodyBot/octuple/output/melody_20250519:121116/为你我受冷风吹_seg0_1_Seg1.mid\n",
      "Generating 200/387, Name: 为你我受冷风吹_seg0_1_Seg1\n",
      "Expected decode length: 160\n",
      "Sampling strategy: temperature-1.5, top-5\n"
     ]
    },
    {
     "name": "stderr",
     "output_type": "stream",
     "text": [
      " 15%|█▌        | 158/1024 [00:01<00:09, 87.54it/s]\n",
      "  1%|          | 10/1024 [00:00<00:11, 90.70it/s]"
     ]
    },
    {
     "name": "stdout",
     "output_type": "stream",
     "text": [
      "Decode ends at step 158\n",
      "/home/qihao/MelodyBot/octuple/output/melody_20250519:121116/忘情水_seg0_1_Seg1.mid\n",
      "Generating 201/387, Name: 忘情水_seg0_1_Seg1\n",
      "Expected decode length: 64\n",
      "Sampling strategy: temperature-1.5, top-5\n"
     ]
    },
    {
     "name": "stderr",
     "output_type": "stream",
     "text": [
      "  6%|▌         | 62/1024 [00:00<00:11, 87.03it/s]\n",
      "  1%|          | 9/1024 [00:00<00:11, 89.89it/s]"
     ]
    },
    {
     "name": "stdout",
     "output_type": "stream",
     "text": [
      "Decode ends at step 62\n",
      "/home/qihao/MelodyBot/octuple/output/melody_20250519:121116/wikifonia_2826_seg0_1_Seg1.mid\n",
      "Generating 202/387, Name: wikifonia_2826_seg0_1_Seg1\n",
      "Expected decode length: 110\n",
      "Sampling strategy: temperature-1.5, top-5\n"
     ]
    },
    {
     "name": "stderr",
     "output_type": "stream",
     "text": [
      " 11%|█         | 108/1024 [00:01<00:10, 86.41it/s]\n",
      "  1%|          | 9/1024 [00:00<00:11, 89.76it/s]"
     ]
    },
    {
     "name": "stdout",
     "output_type": "stream",
     "text": [
      "Decode ends at step 108\n",
      "/home/qihao/MelodyBot/octuple/output/melody_20250519:121116/wikifonia_1211_seg0_1_Seg1.mid\n",
      "Generating 203/387, Name: wikifonia_1211_seg0_1_Seg1\n",
      "Expected decode length: 171\n",
      "Sampling strategy: temperature-1.5, top-5\n"
     ]
    },
    {
     "name": "stderr",
     "output_type": "stream",
     "text": [
      " 17%|█▋        | 169/1024 [00:01<00:09, 86.72it/s]\n",
      "  1%|          | 9/1024 [00:00<00:11, 89.95it/s]"
     ]
    },
    {
     "name": "stdout",
     "output_type": "stream",
     "text": [
      "Decode ends at step 169\n",
      "/home/qihao/MelodyBot/octuple/output/melody_20250519:121116/wikifonia_1725_seg0_1_Seg1.mid\n",
      "Generating 204/387, Name: wikifonia_1725_seg0_1_Seg1\n",
      "Expected decode length: 77\n",
      "Sampling strategy: temperature-1.5, top-5\n"
     ]
    },
    {
     "name": "stderr",
     "output_type": "stream",
     "text": [
      "  6%|▌         | 57/1024 [00:00<00:11, 85.80it/s]\n",
      "  1%|          | 9/1024 [00:00<00:11, 89.69it/s]"
     ]
    },
    {
     "name": "stdout",
     "output_type": "stream",
     "text": [
      "Decode ends at step 57\n",
      "/home/qihao/MelodyBot/octuple/output/melody_20250519:121116/wikifonia_1506_seg0_1_Seg1.mid\n",
      "Generating 205/387, Name: wikifonia_1506_seg0_1_Seg1\n",
      "Expected decode length: 103\n",
      "Sampling strategy: temperature-1.5, top-5\n"
     ]
    },
    {
     "name": "stderr",
     "output_type": "stream",
     "text": [
      " 10%|▉         | 101/1024 [00:01<00:10, 86.27it/s]\n",
      "  1%|          | 9/1024 [00:00<00:12, 82.93it/s]"
     ]
    },
    {
     "name": "stdout",
     "output_type": "stream",
     "text": [
      "Decode ends at step 101\n",
      "/home/qihao/MelodyBot/octuple/output/melody_20250519:121116/wikifonia_793_seg0_1_Seg1.mid\n",
      "Generating 206/387, Name: wikifonia_793_seg0_1_Seg1\n",
      "Expected decode length: 433\n",
      "Sampling strategy: temperature-1.5, top-5\n"
     ]
    },
    {
     "name": "stderr",
     "output_type": "stream",
     "text": [
      " 42%|████▏     | 431/1024 [00:05<00:07, 78.02it/s]\n",
      "  1%|          | 10/1024 [00:00<00:11, 90.07it/s]"
     ]
    },
    {
     "name": "stdout",
     "output_type": "stream",
     "text": [
      "Decode ends at step 431\n",
      "/home/qihao/MelodyBot/octuple/output/melody_20250519:121116/wikifonia_482_seg0_1_Seg1.mid\n",
      "Generating 207/387, Name: wikifonia_482_seg0_1_Seg1\n",
      "Expected decode length: 235\n",
      "Sampling strategy: temperature-1.5, top-5\n"
     ]
    },
    {
     "name": "stderr",
     "output_type": "stream",
     "text": [
      " 23%|██▎       | 233/1024 [00:02<00:09, 87.63it/s]\n",
      "  1%|          | 10/1024 [00:00<00:11, 90.99it/s]"
     ]
    },
    {
     "name": "stdout",
     "output_type": "stream",
     "text": [
      "Decode ends at step 233\n",
      "/home/qihao/MelodyBot/octuple/output/melody_20250519:121116/wikifonia_1185_seg0_1_Seg1.mid\n",
      "Generating 208/387, Name: wikifonia_1185_seg0_1_Seg1\n",
      "Expected decode length: 65\n",
      "Sampling strategy: temperature-1.5, top-5\n"
     ]
    },
    {
     "name": "stderr",
     "output_type": "stream",
     "text": [
      "  6%|▌         | 63/1024 [00:00<00:10, 87.50it/s]\n",
      "  1%|          | 9/1024 [00:00<00:11, 89.49it/s]"
     ]
    },
    {
     "name": "stdout",
     "output_type": "stream",
     "text": [
      "Decode ends at step 63\n",
      "/home/qihao/MelodyBot/octuple/output/melody_20250519:121116/wikifonia_298_seg0_1_Seg1.mid\n",
      "Generating 209/387, Name: wikifonia_298_seg0_1_Seg1\n",
      "Expected decode length: 107\n",
      "Sampling strategy: temperature-1.5, top-5\n"
     ]
    },
    {
     "name": "stderr",
     "output_type": "stream",
     "text": [
      " 10%|█         | 105/1024 [00:01<00:10, 86.38it/s]\n",
      "  1%|          | 10/1024 [00:00<00:11, 90.64it/s]"
     ]
    },
    {
     "name": "stdout",
     "output_type": "stream",
     "text": [
      "Decode ends at step 105\n",
      "/home/qihao/MelodyBot/octuple/output/melody_20250519:121116/wikifonia_2459_seg0_1_Seg1.mid\n",
      "Generating 210/387, Name: wikifonia_2459_seg0_1_Seg1\n",
      "Expected decode length: 198\n",
      "Sampling strategy: temperature-1.5, top-5\n"
     ]
    },
    {
     "name": "stderr",
     "output_type": "stream",
     "text": [
      " 19%|█▉        | 196/1024 [00:02<00:09, 87.75it/s]\n",
      "  1%|          | 9/1024 [00:00<00:11, 89.74it/s]"
     ]
    },
    {
     "name": "stdout",
     "output_type": "stream",
     "text": [
      "Decode ends at step 196\n",
      "/home/qihao/MelodyBot/octuple/output/melody_20250519:121116/wikifonia_2285_seg0_1_Seg1.mid\n",
      "Generating 211/387, Name: wikifonia_2285_seg0_1_Seg1\n",
      "Expected decode length: 117\n",
      "Sampling strategy: temperature-1.5, top-5\n"
     ]
    },
    {
     "name": "stderr",
     "output_type": "stream",
     "text": [
      " 11%|█         | 115/1024 [00:01<00:10, 86.47it/s]\n",
      "  1%|          | 10/1024 [00:00<00:11, 90.69it/s]"
     ]
    },
    {
     "name": "stdout",
     "output_type": "stream",
     "text": [
      "Decode ends at step 115\n",
      "/home/qihao/MelodyBot/octuple/output/melody_20250519:121116/wikifonia_3015_seg0_1_Seg1.mid\n",
      "Generating 212/387, Name: wikifonia_3015_seg0_1_Seg1\n",
      "Expected decode length: 151\n",
      "Sampling strategy: temperature-1.5, top-5\n"
     ]
    },
    {
     "name": "stderr",
     "output_type": "stream",
     "text": [
      " 15%|█▍        | 149/1024 [00:01<00:09, 87.87it/s]\n",
      "  1%|          | 10/1024 [00:00<00:11, 90.83it/s]"
     ]
    },
    {
     "name": "stdout",
     "output_type": "stream",
     "text": [
      "Decode ends at step 149\n",
      "/home/qihao/MelodyBot/octuple/output/melody_20250519:121116/wikifonia_1596_seg0_1_Seg1.mid\n",
      "Generating 213/387, Name: wikifonia_1596_seg0_1_Seg1\n",
      "Expected decode length: 52\n",
      "Sampling strategy: temperature-1.5, top-5\n"
     ]
    },
    {
     "name": "stderr",
     "output_type": "stream",
     "text": [
      "  5%|▍         | 50/1024 [00:00<00:11, 87.20it/s]\n",
      "  1%|          | 9/1024 [00:00<00:11, 89.41it/s]"
     ]
    },
    {
     "name": "stdout",
     "output_type": "stream",
     "text": [
      "Decode ends at step 50\n",
      "/home/qihao/MelodyBot/octuple/output/melody_20250519:121116/小燕子_seg0_1_Seg2.mid\n",
      "Generating 214/387, Name: 小燕子_seg0_1_Seg2\n",
      "Expected decode length: 112\n",
      "Sampling strategy: temperature-1.5, top-5\n"
     ]
    },
    {
     "name": "stderr",
     "output_type": "stream",
     "text": [
      " 11%|█         | 110/1024 [00:01<00:10, 86.01it/s]\n",
      "  1%|          | 9/1024 [00:00<00:11, 89.31it/s]"
     ]
    },
    {
     "name": "stdout",
     "output_type": "stream",
     "text": [
      "Decode ends at step 110\n",
      "/home/qihao/MelodyBot/octuple/output/melody_20250519:121116/小毛驴_seg0_1_Seg1.mid\n",
      "Generating 215/387, Name: 小毛驴_seg0_1_Seg1\n",
      "Expected decode length: 123\n",
      "Sampling strategy: temperature-1.5, top-5\n"
     ]
    },
    {
     "name": "stderr",
     "output_type": "stream",
     "text": [
      " 12%|█▏        | 121/1024 [00:01<00:10, 86.24it/s]\n",
      "  1%|          | 10/1024 [00:00<00:11, 90.24it/s]"
     ]
    },
    {
     "name": "stdout",
     "output_type": "stream",
     "text": [
      "Decode ends at step 121\n",
      "/home/qihao/MelodyBot/octuple/output/melody_20250519:121116/wikifonia_1439_seg0_1_Seg1.mid\n",
      "Generating 216/387, Name: wikifonia_1439_seg0_1_Seg1\n",
      "Expected decode length: 256\n",
      "Sampling strategy: temperature-1.5, top-5\n"
     ]
    },
    {
     "name": "stderr",
     "output_type": "stream",
     "text": [
      " 25%|██▍       | 254/1024 [00:02<00:08, 87.76it/s]\n",
      "  1%|          | 9/1024 [00:00<00:11, 89.91it/s]"
     ]
    },
    {
     "name": "stdout",
     "output_type": "stream",
     "text": [
      "Decode ends at step 254\n",
      "/home/qihao/MelodyBot/octuple/output/melody_20250519:121116/wikifonia_1500_seg0_1_Seg1.mid\n",
      "Generating 217/387, Name: wikifonia_1500_seg0_1_Seg1\n",
      "Expected decode length: 73\n",
      "Sampling strategy: temperature-1.5, top-5\n"
     ]
    },
    {
     "name": "stderr",
     "output_type": "stream",
     "text": [
      "  7%|▋         | 71/1024 [00:00<00:11, 86.48it/s]\n",
      "  1%|          | 9/1024 [00:00<00:11, 89.42it/s]"
     ]
    },
    {
     "name": "stdout",
     "output_type": "stream",
     "text": [
      "Decode ends at step 71\n",
      "/home/qihao/MelodyBot/octuple/output/melody_20250519:121116/wikifonia_1761_seg0_1_Seg1.mid\n",
      "Generating 218/387, Name: wikifonia_1761_seg0_1_Seg1\n",
      "Expected decode length: 112\n",
      "Sampling strategy: temperature-1.5, top-5\n"
     ]
    },
    {
     "name": "stderr",
     "output_type": "stream",
     "text": [
      " 11%|█         | 110/1024 [00:01<00:10, 86.48it/s]\n",
      "  1%|          | 9/1024 [00:00<00:11, 89.13it/s]"
     ]
    },
    {
     "name": "stdout",
     "output_type": "stream",
     "text": [
      "Decode ends at step 110\n",
      "/home/qihao/MelodyBot/octuple/output/melody_20250519:121116/wikifonia_771_seg0_1_Seg1.mid\n",
      "Generating 219/387, Name: wikifonia_771_seg0_1_Seg1\n",
      "Expected decode length: 304\n",
      "Sampling strategy: temperature-1.5, top-5\n"
     ]
    },
    {
     "name": "stderr",
     "output_type": "stream",
     "text": [
      " 29%|██▉       | 302/1024 [00:03<00:08, 86.19it/s]\n",
      "  1%|          | 10/1024 [00:00<00:11, 90.46it/s]"
     ]
    },
    {
     "name": "stdout",
     "output_type": "stream",
     "text": [
      "Decode ends at step 302\n",
      "/home/qihao/MelodyBot/octuple/output/melody_20250519:121116/wikifonia_636_seg0_1_Seg1.mid\n",
      "Generating 220/387, Name: wikifonia_636_seg0_1_Seg1\n",
      "Expected decode length: 58\n",
      "Sampling strategy: temperature-1.5, top-5\n"
     ]
    },
    {
     "name": "stderr",
     "output_type": "stream",
     "text": [
      "  5%|▌         | 56/1024 [00:00<00:11, 86.86it/s]\n",
      "  1%|          | 10/1024 [00:00<00:11, 90.44it/s]"
     ]
    },
    {
     "name": "stdout",
     "output_type": "stream",
     "text": [
      "Decode ends at step 56\n",
      "/home/qihao/MelodyBot/octuple/output/melody_20250519:121116/wikifonia_1924_seg0_1_Seg1.mid\n",
      "Generating 221/387, Name: wikifonia_1924_seg0_1_Seg1\n",
      "Expected decode length: 192\n",
      "Sampling strategy: temperature-1.5, top-5\n"
     ]
    },
    {
     "name": "stderr",
     "output_type": "stream",
     "text": [
      " 19%|█▊        | 190/1024 [00:02<00:09, 87.78it/s]\n",
      "  1%|          | 10/1024 [00:00<00:11, 90.67it/s]"
     ]
    },
    {
     "name": "stdout",
     "output_type": "stream",
     "text": [
      "Decode ends at step 190\n",
      "/home/qihao/MelodyBot/octuple/output/melody_20250519:121116/wikifonia_723_seg0_1_Seg1.mid\n",
      "Generating 222/387, Name: wikifonia_723_seg0_1_Seg1\n",
      "Expected decode length: 64\n",
      "Sampling strategy: temperature-1.5, top-5\n"
     ]
    },
    {
     "name": "stderr",
     "output_type": "stream",
     "text": [
      "  6%|▌         | 62/1024 [00:00<00:11, 87.14it/s]\n",
      "  1%|          | 9/1024 [00:00<00:11, 89.48it/s]"
     ]
    },
    {
     "name": "stdout",
     "output_type": "stream",
     "text": [
      "Decode ends at step 62\n",
      "/home/qihao/MelodyBot/octuple/output/melody_20250519:121116/wikifonia_1301_seg0_1_Seg1.mid\n",
      "Generating 223/387, Name: wikifonia_1301_seg0_1_Seg1\n",
      "Expected decode length: 97\n",
      "Sampling strategy: temperature-1.5, top-5\n"
     ]
    },
    {
     "name": "stderr",
     "output_type": "stream",
     "text": [
      "  9%|▉         | 95/1024 [00:01<00:10, 86.15it/s]\n",
      "  1%|          | 9/1024 [00:00<00:11, 89.54it/s]"
     ]
    },
    {
     "name": "stdout",
     "output_type": "stream",
     "text": [
      "Decode ends at step 95\n",
      "/home/qihao/MelodyBot/octuple/output/melody_20250519:121116/wikifonia_626_seg0_1_Seg1.mid\n",
      "Generating 224/387, Name: wikifonia_626_seg0_1_Seg1\n",
      "Expected decode length: 93\n",
      "Sampling strategy: temperature-1.5, top-5\n"
     ]
    },
    {
     "name": "stderr",
     "output_type": "stream",
     "text": [
      "  9%|▉         | 91/1024 [00:01<00:10, 86.16it/s]\n",
      "  1%|          | 9/1024 [00:00<00:11, 89.59it/s]"
     ]
    },
    {
     "name": "stdout",
     "output_type": "stream",
     "text": [
      "Decode ends at step 91\n",
      "/home/qihao/MelodyBot/octuple/output/melody_20250519:121116/wikifonia_3099_seg0_1_Seg1.mid\n",
      "Generating 225/387, Name: wikifonia_3099_seg0_1_Seg1\n",
      "Expected decode length: 112\n",
      "Sampling strategy: temperature-1.5, top-5\n"
     ]
    },
    {
     "name": "stderr",
     "output_type": "stream",
     "text": [
      " 11%|█         | 110/1024 [00:01<00:10, 86.34it/s]\n",
      "  1%|          | 10/1024 [00:00<00:11, 90.47it/s]"
     ]
    },
    {
     "name": "stdout",
     "output_type": "stream",
     "text": [
      "Decode ends at step 110\n",
      "/home/qihao/MelodyBot/octuple/output/melody_20250519:121116/wikifonia_1136_seg0_1_Seg1.mid\n",
      "Generating 226/387, Name: wikifonia_1136_seg0_1_Seg1\n",
      "Expected decode length: 236\n",
      "Sampling strategy: temperature-1.5, top-5\n"
     ]
    },
    {
     "name": "stderr",
     "output_type": "stream",
     "text": [
      " 23%|██▎       | 234/1024 [00:02<00:09, 87.45it/s]\n",
      "  1%|          | 10/1024 [00:00<00:11, 90.43it/s]"
     ]
    },
    {
     "name": "stdout",
     "output_type": "stream",
     "text": [
      "Decode ends at step 234\n",
      "/home/qihao/MelodyBot/octuple/output/melody_20250519:121116/容易受伤的女人_seg0_1_Seg2.mid\n",
      "Generating 227/387, Name: 容易受伤的女人_seg0_1_Seg2\n",
      "Expected decode length: 148\n",
      "Sampling strategy: temperature-1.5, top-5\n"
     ]
    },
    {
     "name": "stderr",
     "output_type": "stream",
     "text": [
      " 14%|█▍        | 146/1024 [00:01<00:10, 87.46it/s]\n",
      "  1%|          | 9/1024 [00:00<00:11, 89.49it/s]"
     ]
    },
    {
     "name": "stdout",
     "output_type": "stream",
     "text": [
      "Decode ends at step 146\n",
      "/home/qihao/MelodyBot/octuple/output/melody_20250519:121116/wikifonia_1571_seg0_1_Seg1.mid\n",
      "Generating 228/387, Name: wikifonia_1571_seg0_1_Seg1\n",
      "Expected decode length: 169\n",
      "Sampling strategy: temperature-1.5, top-5\n"
     ]
    },
    {
     "name": "stderr",
     "output_type": "stream",
     "text": [
      " 16%|█▋        | 167/1024 [00:01<00:09, 86.64it/s]\n",
      "  1%|          | 10/1024 [00:00<00:11, 90.65it/s]"
     ]
    },
    {
     "name": "stdout",
     "output_type": "stream",
     "text": [
      "Decode ends at step 167\n",
      "/home/qihao/MelodyBot/octuple/output/melody_20250519:121116/味道_seg0_1_Seg2.mid\n",
      "Generating 229/387, Name: 味道_seg0_1_Seg2\n",
      "Expected decode length: 184\n",
      "Sampling strategy: temperature-1.5, top-5\n"
     ]
    },
    {
     "name": "stderr",
     "output_type": "stream",
     "text": [
      " 18%|█▊        | 182/1024 [00:02<00:09, 87.72it/s]\n",
      "  1%|          | 10/1024 [00:00<00:11, 90.68it/s]"
     ]
    },
    {
     "name": "stdout",
     "output_type": "stream",
     "text": [
      "Decode ends at step 182\n",
      "/home/qihao/MelodyBot/octuple/output/melody_20250519:121116/wikifonia_57_seg0_1_Seg1.mid\n",
      "Generating 230/387, Name: wikifonia_57_seg0_1_Seg1\n",
      "Expected decode length: 42\n",
      "Sampling strategy: temperature-1.5, top-5\n"
     ]
    },
    {
     "name": "stderr",
     "output_type": "stream",
     "text": [
      "  4%|▍         | 40/1024 [00:00<00:11, 86.92it/s]\n",
      "  1%|          | 10/1024 [00:00<00:11, 90.63it/s]"
     ]
    },
    {
     "name": "stdout",
     "output_type": "stream",
     "text": [
      "Decode ends at step 40\n",
      "/home/qihao/MelodyBot/octuple/output/melody_20250519:121116/wikifonia_892_seg0_1_Seg1.mid\n",
      "Generating 231/387, Name: wikifonia_892_seg0_1_Seg1\n",
      "Expected decode length: 142\n",
      "Sampling strategy: temperature-1.5, top-5\n"
     ]
    },
    {
     "name": "stderr",
     "output_type": "stream",
     "text": [
      " 14%|█▎        | 140/1024 [00:01<00:10, 87.52it/s]\n",
      "  1%|          | 10/1024 [00:00<00:11, 90.31it/s]"
     ]
    },
    {
     "name": "stdout",
     "output_type": "stream",
     "text": [
      "Decode ends at step 140\n",
      "/home/qihao/MelodyBot/octuple/output/melody_20250519:121116/wikifonia_2514_seg0_1_Seg1.mid\n",
      "Generating 232/387, Name: wikifonia_2514_seg0_1_Seg1\n",
      "Expected decode length: 144\n",
      "Sampling strategy: temperature-1.5, top-5\n"
     ]
    },
    {
     "name": "stderr",
     "output_type": "stream",
     "text": [
      " 14%|█▍        | 142/1024 [00:01<00:10, 87.34it/s]\n",
      "  1%|          | 9/1024 [00:00<00:11, 89.61it/s]"
     ]
    },
    {
     "name": "stdout",
     "output_type": "stream",
     "text": [
      "Decode ends at step 142\n",
      "/home/qihao/MelodyBot/octuple/output/melody_20250519:121116/wikifonia_2068_seg0_1_Seg1.mid\n",
      "Generating 233/387, Name: wikifonia_2068_seg0_1_Seg1\n",
      "Expected decode length: 98\n",
      "Sampling strategy: temperature-1.5, top-5\n"
     ]
    },
    {
     "name": "stderr",
     "output_type": "stream",
     "text": [
      "  9%|▉         | 96/1024 [00:01<00:10, 86.58it/s]\n",
      "  1%|          | 10/1024 [00:00<00:11, 90.34it/s]"
     ]
    },
    {
     "name": "stdout",
     "output_type": "stream",
     "text": [
      "Decode ends at step 96\n",
      "/home/qihao/MelodyBot/octuple/output/melody_20250519:121116/wikifonia_695_seg0_1_Seg1.mid\n",
      "Generating 234/387, Name: wikifonia_695_seg0_1_Seg1\n",
      "Expected decode length: 148\n",
      "Sampling strategy: temperature-1.5, top-5\n"
     ]
    },
    {
     "name": "stderr",
     "output_type": "stream",
     "text": [
      " 14%|█▍        | 146/1024 [00:01<00:10, 87.58it/s]\n",
      "  1%|          | 10/1024 [00:00<00:11, 90.73it/s]"
     ]
    },
    {
     "name": "stdout",
     "output_type": "stream",
     "text": [
      "Decode ends at step 146\n",
      "/home/qihao/MelodyBot/octuple/output/melody_20250519:121116/wikifonia_1589_seg0_1_Seg1.mid\n",
      "Generating 235/387, Name: wikifonia_1589_seg0_1_Seg1\n",
      "Expected decode length: 144\n",
      "Sampling strategy: temperature-1.5, top-5\n"
     ]
    },
    {
     "name": "stderr",
     "output_type": "stream",
     "text": [
      " 14%|█▍        | 142/1024 [00:01<00:10, 87.69it/s]\n",
      "  1%|          | 9/1024 [00:00<00:11, 88.65it/s]"
     ]
    },
    {
     "name": "stdout",
     "output_type": "stream",
     "text": [
      "Decode ends at step 142\n",
      "/home/qihao/MelodyBot/octuple/output/melody_20250519:121116/wikifonia_2516_seg0_1_Seg1.mid\n",
      "Generating 236/387, Name: wikifonia_2516_seg0_1_Seg1\n",
      "Expected decode length: 156\n",
      "Sampling strategy: temperature-1.5, top-5\n"
     ]
    },
    {
     "name": "stderr",
     "output_type": "stream",
     "text": [
      " 15%|█▌        | 154/1024 [00:01<00:09, 88.17it/s]\n",
      "  1%|          | 10/1024 [00:00<00:11, 90.10it/s]"
     ]
    },
    {
     "name": "stdout",
     "output_type": "stream",
     "text": [
      "Decode ends at step 154\n",
      "/home/qihao/MelodyBot/octuple/output/melody_20250519:121116/wikifonia_3108_seg0_1_Seg1.mid\n",
      "Generating 237/387, Name: wikifonia_3108_seg0_1_Seg1\n",
      "Expected decode length: 89\n",
      "Sampling strategy: temperature-1.5, top-5\n"
     ]
    },
    {
     "name": "stderr",
     "output_type": "stream",
     "text": [
      "  8%|▊         | 86/1024 [00:00<00:10, 87.12it/s]\n",
      "  1%|          | 10/1024 [00:00<00:11, 90.02it/s]"
     ]
    },
    {
     "name": "stdout",
     "output_type": "stream",
     "text": [
      "Decode ends at step 86\n",
      "/home/qihao/MelodyBot/octuple/output/melody_20250519:121116/wikifonia_2953_seg0_1_Seg1.mid\n",
      "Generating 238/387, Name: wikifonia_2953_seg0_1_Seg1\n",
      "Expected decode length: 108\n",
      "Sampling strategy: temperature-1.5, top-5\n"
     ]
    },
    {
     "name": "stderr",
     "output_type": "stream",
     "text": [
      " 10%|█         | 106/1024 [00:01<00:10, 86.87it/s]\n",
      "  1%|          | 10/1024 [00:00<00:11, 91.61it/s]"
     ]
    },
    {
     "name": "stdout",
     "output_type": "stream",
     "text": [
      "Decode ends at step 106\n",
      "/home/qihao/MelodyBot/octuple/output/melody_20250519:121116/说句心里话_seg0_1_Seg1.mid\n",
      "Generating 239/387, Name: 说句心里话_seg0_1_Seg1\n",
      "Expected decode length: 190\n",
      "Sampling strategy: temperature-1.5, top-5\n"
     ]
    },
    {
     "name": "stderr",
     "output_type": "stream",
     "text": [
      " 18%|█▊        | 188/1024 [00:02<00:09, 89.01it/s]\n",
      "  1%|          | 10/1024 [00:00<00:11, 91.67it/s]"
     ]
    },
    {
     "name": "stdout",
     "output_type": "stream",
     "text": [
      "Decode ends at step 188\n",
      "/home/qihao/MelodyBot/octuple/output/melody_20250519:121116/wikifonia_64_seg0_1_Seg1.mid\n",
      "Generating 240/387, Name: wikifonia_64_seg0_1_Seg1\n",
      "Expected decode length: 149\n",
      "Sampling strategy: temperature-1.5, top-5\n"
     ]
    },
    {
     "name": "stderr",
     "output_type": "stream",
     "text": [
      " 14%|█▍        | 147/1024 [00:01<00:09, 89.18it/s]\n",
      "  1%|          | 9/1024 [00:00<00:12, 82.55it/s]"
     ]
    },
    {
     "name": "stdout",
     "output_type": "stream",
     "text": [
      "Decode ends at step 147\n",
      "/home/qihao/MelodyBot/octuple/output/melody_20250519:121116/wikifonia_2211_seg0_1_Seg1.mid\n",
      "Generating 241/387, Name: wikifonia_2211_seg0_1_Seg1\n",
      "Expected decode length: 390\n",
      "Sampling strategy: temperature-1.5, top-5\n"
     ]
    },
    {
     "name": "stderr",
     "output_type": "stream",
     "text": [
      " 38%|███▊      | 388/1024 [00:04<00:07, 80.06it/s]\n",
      "  1%|          | 10/1024 [00:00<00:11, 90.48it/s]"
     ]
    },
    {
     "name": "stdout",
     "output_type": "stream",
     "text": [
      "Decode ends at step 388\n",
      "/home/qihao/MelodyBot/octuple/output/melody_20250519:121116/退_seg0_1_Seg1.mid\n",
      "Generating 242/387, Name: 退_seg0_1_Seg1\n",
      "Expected decode length: 104\n",
      "Sampling strategy: temperature-1.5, top-5\n"
     ]
    },
    {
     "name": "stderr",
     "output_type": "stream",
     "text": [
      " 10%|▉         | 102/1024 [00:01<00:10, 87.86it/s]\n",
      "  1%|          | 9/1024 [00:00<00:11, 88.01it/s]"
     ]
    },
    {
     "name": "stdout",
     "output_type": "stream",
     "text": [
      "Decode ends at step 102\n",
      "/home/qihao/MelodyBot/octuple/output/melody_20250519:121116/可念不可说_seg0_1_Seg2.mid\n",
      "Generating 243/387, Name: 可念不可说_seg0_1_Seg2\n",
      "Expected decode length: 194\n",
      "Sampling strategy: temperature-1.5, top-5\n"
     ]
    },
    {
     "name": "stderr",
     "output_type": "stream",
     "text": [
      " 19%|█▉        | 192/1024 [00:02<00:09, 88.20it/s]\n",
      "  1%|          | 10/1024 [00:00<00:11, 91.63it/s]"
     ]
    },
    {
     "name": "stdout",
     "output_type": "stream",
     "text": [
      "Decode ends at step 192\n",
      "/home/qihao/MelodyBot/octuple/output/melody_20250519:121116/风飞沙_seg0_1_Seg2.mid\n",
      "Generating 244/387, Name: 风飞沙_seg0_1_Seg2\n",
      "Expected decode length: 186\n",
      "Sampling strategy: temperature-1.5, top-5\n"
     ]
    },
    {
     "name": "stderr",
     "output_type": "stream",
     "text": [
      " 18%|█▊        | 184/1024 [00:02<00:09, 87.30it/s]\n",
      "  1%|          | 9/1024 [00:00<00:11, 87.21it/s]"
     ]
    },
    {
     "name": "stdout",
     "output_type": "stream",
     "text": [
      "Decode ends at step 184\n",
      "/home/qihao/MelodyBot/octuple/output/melody_20250519:121116/wikifonia_227_seg0_1_Seg1.mid\n",
      "Generating 245/387, Name: wikifonia_227_seg0_1_Seg1\n",
      "Expected decode length: 184\n",
      "Sampling strategy: temperature-1.5, top-5\n"
     ]
    },
    {
     "name": "stderr",
     "output_type": "stream",
     "text": [
      " 18%|█▊        | 182/1024 [00:02<00:09, 88.69it/s]\n",
      "  1%|          | 9/1024 [00:00<00:12, 83.55it/s]"
     ]
    },
    {
     "name": "stdout",
     "output_type": "stream",
     "text": [
      "Decode ends at step 182\n",
      "/home/qihao/MelodyBot/octuple/output/melody_20250519:121116/wikifonia_2245_seg0_1_Seg1.mid\n",
      "Generating 246/387, Name: wikifonia_2245_seg0_1_Seg1\n",
      "Expected decode length: 412\n",
      "Sampling strategy: temperature-1.5, top-5\n"
     ]
    },
    {
     "name": "stderr",
     "output_type": "stream",
     "text": [
      " 40%|████      | 410/1024 [00:05<00:07, 79.17it/s]\n",
      "  1%|          | 10/1024 [00:00<00:10, 92.77it/s]"
     ]
    },
    {
     "name": "stdout",
     "output_type": "stream",
     "text": [
      "Decode ends at step 410\n",
      "/home/qihao/MelodyBot/octuple/output/melody_20250519:121116/wikifonia_3239_seg0_1_Seg1.mid\n",
      "Generating 247/387, Name: wikifonia_3239_seg0_1_Seg1\n",
      "Expected decode length: 232\n",
      "Sampling strategy: temperature-1.5, top-5\n"
     ]
    },
    {
     "name": "stderr",
     "output_type": "stream",
     "text": [
      " 22%|██▏       | 230/1024 [00:02<00:08, 89.03it/s]\n",
      "  1%|          | 10/1024 [00:00<00:11, 91.67it/s]"
     ]
    },
    {
     "name": "stdout",
     "output_type": "stream",
     "text": [
      "Decode ends at step 230\n",
      "/home/qihao/MelodyBot/octuple/output/melody_20250519:121116/追梦人_seg0_1_Seg1.mid\n",
      "Generating 248/387, Name: 追梦人_seg0_1_Seg1\n",
      "Expected decode length: 158\n",
      "Sampling strategy: temperature-1.5, top-5\n"
     ]
    },
    {
     "name": "stderr",
     "output_type": "stream",
     "text": [
      " 15%|█▌        | 156/1024 [00:01<00:09, 88.94it/s]\n",
      "  0%|          | 1/1024 [00:00<00:21, 48.39it/s]\n",
      "  1%|          | 10/1024 [00:00<00:11, 90.48it/s]"
     ]
    },
    {
     "name": "stdout",
     "output_type": "stream",
     "text": [
      "Decode ends at step 156\n",
      "/home/qihao/MelodyBot/octuple/output/melody_20250519:121116/wikifonia_385_seg0_1_Seg1.mid\n",
      "Generating 249/387, Name: wikifonia_385_seg0_1_Seg1\n",
      "Expected decode length: 206\n",
      "Sampling strategy: temperature-1.5, top-5\n",
      "Decode ends at step 1\n",
      "/home/qihao/MelodyBot/octuple/output/melody_20250519:121116/wikifonia_424_seg0_1_Seg1.mid\n",
      "Generating 250/387, Name: wikifonia_424_seg0_1_Seg1\n",
      "Expected decode length: 126\n",
      "Sampling strategy: temperature-1.5, top-5\n"
     ]
    },
    {
     "name": "stderr",
     "output_type": "stream",
     "text": [
      " 12%|█▏        | 124/1024 [00:01<00:10, 87.44it/s]\n",
      "  1%|          | 10/1024 [00:00<00:11, 90.18it/s]"
     ]
    },
    {
     "name": "stdout",
     "output_type": "stream",
     "text": [
      "Decode ends at step 124\n",
      "/home/qihao/MelodyBot/octuple/output/melody_20250519:121116/wikifonia_2574_seg0_1_Seg1.mid\n",
      "Generating 251/387, Name: wikifonia_2574_seg0_1_Seg1\n",
      "Expected decode length: 69\n",
      "Sampling strategy: temperature-1.5, top-5\n"
     ]
    },
    {
     "name": "stderr",
     "output_type": "stream",
     "text": [
      "  7%|▋         | 67/1024 [00:00<00:10, 88.03it/s]\n",
      "  1%|          | 10/1024 [00:00<00:11, 91.44it/s]"
     ]
    },
    {
     "name": "stdout",
     "output_type": "stream",
     "text": [
      "Decode ends at step 67\n",
      "/home/qihao/MelodyBot/octuple/output/melody_20250519:121116/wikifonia_1751_seg0_1_Seg1.mid\n",
      "Generating 252/387, Name: wikifonia_1751_seg0_1_Seg1\n",
      "Expected decode length: 178\n",
      "Sampling strategy: temperature-1.5, top-5\n"
     ]
    },
    {
     "name": "stderr",
     "output_type": "stream",
     "text": [
      " 17%|█▋        | 176/1024 [00:01<00:09, 88.12it/s]\n",
      "  1%|          | 10/1024 [00:00<00:11, 91.33it/s]"
     ]
    },
    {
     "name": "stdout",
     "output_type": "stream",
     "text": [
      "Decode ends at step 176\n",
      "/home/qihao/MelodyBot/octuple/output/melody_20250519:121116/wikifonia_2735_seg0_1_Seg1.mid\n",
      "Generating 253/387, Name: wikifonia_2735_seg0_1_Seg1\n",
      "Expected decode length: 224\n",
      "Sampling strategy: temperature-1.5, top-5\n"
     ]
    },
    {
     "name": "stderr",
     "output_type": "stream",
     "text": [
      " 22%|██▏       | 222/1024 [00:02<00:09, 88.92it/s]\n",
      "  1%|          | 10/1024 [00:00<00:11, 91.45it/s]"
     ]
    },
    {
     "name": "stdout",
     "output_type": "stream",
     "text": [
      "Decode ends at step 222\n",
      "/home/qihao/MelodyBot/octuple/output/melody_20250519:121116/wikifonia_2868_seg0_1_Seg1.mid\n",
      "Generating 254/387, Name: wikifonia_2868_seg0_1_Seg1\n",
      "Expected decode length: 221\n",
      "Sampling strategy: temperature-1.5, top-5\n"
     ]
    },
    {
     "name": "stderr",
     "output_type": "stream",
     "text": [
      " 21%|██▏       | 219/1024 [00:02<00:09, 88.96it/s]\n",
      "  1%|          | 10/1024 [00:00<00:11, 91.87it/s]"
     ]
    },
    {
     "name": "stdout",
     "output_type": "stream",
     "text": [
      "Decode ends at step 219\n",
      "/home/qihao/MelodyBot/octuple/output/melody_20250519:121116/wikifonia_2877_seg0_1_Seg1.mid\n",
      "Generating 255/387, Name: wikifonia_2877_seg0_1_Seg1\n",
      "Expected decode length: 155\n",
      "Sampling strategy: temperature-1.5, top-5\n"
     ]
    },
    {
     "name": "stderr",
     "output_type": "stream",
     "text": [
      " 15%|█▍        | 153/1024 [00:01<00:09, 89.11it/s]\n",
      "  1%|          | 10/1024 [00:00<00:11, 90.74it/s]"
     ]
    },
    {
     "name": "stdout",
     "output_type": "stream",
     "text": [
      "Decode ends at step 153\n",
      "/home/qihao/MelodyBot/octuple/output/melody_20250519:121116/wikifonia_2355_seg0_1_Seg1.mid\n",
      "Generating 256/387, Name: wikifonia_2355_seg0_1_Seg1\n",
      "Expected decode length: 94\n",
      "Sampling strategy: temperature-1.5, top-5\n"
     ]
    },
    {
     "name": "stderr",
     "output_type": "stream",
     "text": [
      "  9%|▉         | 92/1024 [00:01<00:10, 87.44it/s]\n",
      "  1%|          | 10/1024 [00:00<00:11, 90.55it/s]"
     ]
    },
    {
     "name": "stdout",
     "output_type": "stream",
     "text": [
      "Decode ends at step 92\n",
      "/home/qihao/MelodyBot/octuple/output/melody_20250519:121116/wikifonia_1906_seg0_1_Seg1.mid\n",
      "Generating 257/387, Name: wikifonia_1906_seg0_1_Seg1\n",
      "Expected decode length: 114\n",
      "Sampling strategy: temperature-1.5, top-5\n"
     ]
    },
    {
     "name": "stderr",
     "output_type": "stream",
     "text": [
      " 11%|█         | 112/1024 [00:01<00:10, 87.46it/s]\n",
      "  1%|          | 10/1024 [00:00<00:11, 90.68it/s]"
     ]
    },
    {
     "name": "stdout",
     "output_type": "stream",
     "text": [
      "Decode ends at step 112\n",
      "/home/qihao/MelodyBot/octuple/output/melody_20250519:121116/wikifonia_1681_seg0_1_Seg1.mid\n",
      "Generating 258/387, Name: wikifonia_1681_seg0_1_Seg1\n",
      "Expected decode length: 125\n",
      "Sampling strategy: temperature-1.5, top-5\n"
     ]
    },
    {
     "name": "stderr",
     "output_type": "stream",
     "text": [
      " 12%|█▏        | 123/1024 [00:01<00:10, 87.56it/s]\n",
      "  1%|          | 9/1024 [00:00<00:11, 86.78it/s]"
     ]
    },
    {
     "name": "stdout",
     "output_type": "stream",
     "text": [
      "Decode ends at step 123\n",
      "/home/qihao/MelodyBot/octuple/output/melody_20250519:121116/wikifonia_2646_seg0_1_Seg1.mid\n",
      "Generating 259/387, Name: wikifonia_2646_seg0_1_Seg1\n",
      "Expected decode length: 330\n",
      "Sampling strategy: temperature-1.5, top-5\n"
     ]
    },
    {
     "name": "stderr",
     "output_type": "stream",
     "text": [
      " 32%|███▏      | 328/1024 [00:03<00:08, 83.36it/s]\n",
      "  1%|          | 10/1024 [00:00<00:11, 90.62it/s]"
     ]
    },
    {
     "name": "stdout",
     "output_type": "stream",
     "text": [
      "Decode ends at step 328\n",
      "/home/qihao/MelodyBot/octuple/output/melody_20250519:121116/wikifonia_352_seg0_1_Seg1.mid\n",
      "Generating 260/387, Name: wikifonia_352_seg0_1_Seg1\n",
      "Expected decode length: 81\n",
      "Sampling strategy: temperature-1.5, top-5\n"
     ]
    },
    {
     "name": "stderr",
     "output_type": "stream",
     "text": [
      "  8%|▊         | 79/1024 [00:00<00:10, 87.48it/s]\n",
      "  1%|          | 10/1024 [00:00<00:11, 90.87it/s]"
     ]
    },
    {
     "name": "stdout",
     "output_type": "stream",
     "text": [
      "Decode ends at step 79\n",
      "/home/qihao/MelodyBot/octuple/output/melody_20250519:121116/wikifonia_959_seg0_1_Seg1.mid\n",
      "Generating 261/387, Name: wikifonia_959_seg0_1_Seg1\n",
      "Expected decode length: 111\n",
      "Sampling strategy: temperature-1.5, top-5\n"
     ]
    },
    {
     "name": "stderr",
     "output_type": "stream",
     "text": [
      " 11%|█         | 109/1024 [00:01<00:10, 87.48it/s]\n",
      "  1%|          | 10/1024 [00:00<00:11, 91.11it/s]"
     ]
    },
    {
     "name": "stdout",
     "output_type": "stream",
     "text": [
      "Decode ends at step 109\n",
      "/home/qihao/MelodyBot/octuple/output/melody_20250519:121116/wikifonia_554_seg0_1_Seg1.mid\n",
      "Generating 262/387, Name: wikifonia_554_seg0_1_Seg1\n",
      "Expected decode length: 206\n",
      "Sampling strategy: temperature-1.5, top-5\n"
     ]
    },
    {
     "name": "stderr",
     "output_type": "stream",
     "text": [
      " 20%|█▉        | 204/1024 [00:02<00:09, 88.67it/s]\n",
      "  1%|          | 10/1024 [00:00<00:11, 91.42it/s]"
     ]
    },
    {
     "name": "stdout",
     "output_type": "stream",
     "text": [
      "Decode ends at step 204\n",
      "/home/qihao/MelodyBot/octuple/output/melody_20250519:121116/wikifonia_2308_seg0_1_Seg1.mid\n",
      "Generating 263/387, Name: wikifonia_2308_seg0_1_Seg1\n",
      "Expected decode length: 213\n",
      "Sampling strategy: temperature-1.5, top-5\n"
     ]
    },
    {
     "name": "stderr",
     "output_type": "stream",
     "text": [
      " 21%|██        | 211/1024 [00:02<00:09, 88.63it/s]\n",
      "  1%|          | 10/1024 [00:00<00:11, 91.97it/s]"
     ]
    },
    {
     "name": "stdout",
     "output_type": "stream",
     "text": [
      "Decode ends at step 211\n",
      "/home/qihao/MelodyBot/octuple/output/melody_20250519:121116/醉相思_seg0_1_Seg2.mid\n",
      "Generating 264/387, Name: 醉相思_seg0_1_Seg2\n",
      "Expected decode length: 161\n",
      "Sampling strategy: temperature-1.5, top-5\n"
     ]
    },
    {
     "name": "stderr",
     "output_type": "stream",
     "text": [
      " 16%|█▌        | 159/1024 [00:01<00:09, 88.78it/s]\n",
      "  1%|          | 10/1024 [00:00<00:11, 91.77it/s]"
     ]
    },
    {
     "name": "stdout",
     "output_type": "stream",
     "text": [
      "Decode ends at step 159\n",
      "/home/qihao/MelodyBot/octuple/output/melody_20250519:121116/心如刀割_seg0_1_Seg1.mid\n",
      "Generating 265/387, Name: 心如刀割_seg0_1_Seg1\n",
      "Expected decode length: 134\n",
      "Sampling strategy: temperature-1.5, top-5\n"
     ]
    },
    {
     "name": "stderr",
     "output_type": "stream",
     "text": [
      " 13%|█▎        | 132/1024 [00:01<00:10, 88.75it/s]\n",
      "  1%|          | 10/1024 [00:00<00:11, 91.38it/s]"
     ]
    },
    {
     "name": "stdout",
     "output_type": "stream",
     "text": [
      "Decode ends at step 132\n",
      "/home/qihao/MelodyBot/octuple/output/melody_20250519:121116/wikifonia_1608_seg0_1_Seg1.mid\n",
      "Generating 266/387, Name: wikifonia_1608_seg0_1_Seg1\n",
      "Expected decode length: 186\n",
      "Sampling strategy: temperature-1.5, top-5\n"
     ]
    },
    {
     "name": "stderr",
     "output_type": "stream",
     "text": [
      " 18%|█▊        | 184/1024 [00:02<00:09, 88.71it/s]\n",
      "  1%|          | 10/1024 [00:00<00:11, 90.40it/s]"
     ]
    },
    {
     "name": "stdout",
     "output_type": "stream",
     "text": [
      "Decode ends at step 184\n",
      "/home/qihao/MelodyBot/octuple/output/melody_20250519:121116/wikifonia_1548_seg0_1_Seg1.mid\n",
      "Generating 267/387, Name: wikifonia_1548_seg0_1_Seg1\n",
      "Expected decode length: 121\n",
      "Sampling strategy: temperature-1.5, top-5\n"
     ]
    },
    {
     "name": "stderr",
     "output_type": "stream",
     "text": [
      " 12%|█▏        | 119/1024 [00:01<00:10, 87.33it/s]\n",
      "  1%|          | 10/1024 [00:00<00:11, 91.34it/s]"
     ]
    },
    {
     "name": "stdout",
     "output_type": "stream",
     "text": [
      "Decode ends at step 119\n",
      "/home/qihao/MelodyBot/octuple/output/melody_20250519:121116/wikifonia_2041_seg0_1_Seg1.mid\n",
      "Generating 268/387, Name: wikifonia_2041_seg0_1_Seg1\n",
      "Expected decode length: 198\n",
      "Sampling strategy: temperature-1.5, top-5\n"
     ]
    },
    {
     "name": "stderr",
     "output_type": "stream",
     "text": [
      " 19%|█▉        | 196/1024 [00:02<00:09, 88.45it/s]\n",
      "  1%|          | 10/1024 [00:00<00:11, 91.42it/s]"
     ]
    },
    {
     "name": "stdout",
     "output_type": "stream",
     "text": [
      "Decode ends at step 196\n",
      "/home/qihao/MelodyBot/octuple/output/melody_20250519:121116/wikifonia_201_seg0_1_Seg1.mid\n",
      "Generating 269/387, Name: wikifonia_201_seg0_1_Seg1\n",
      "Expected decode length: 252\n",
      "Sampling strategy: temperature-1.5, top-5\n"
     ]
    },
    {
     "name": "stderr",
     "output_type": "stream",
     "text": [
      " 24%|██▍       | 250/1024 [00:02<00:08, 88.80it/s]\n",
      "  1%|          | 10/1024 [00:00<00:11, 90.83it/s]"
     ]
    },
    {
     "name": "stdout",
     "output_type": "stream",
     "text": [
      "Decode ends at step 250\n",
      "/home/qihao/MelodyBot/octuple/output/melody_20250519:121116/尽头_seg0_1_Seg1.mid\n",
      "Generating 270/387, Name: 尽头_seg0_1_Seg1\n",
      "Expected decode length: 74\n",
      "Sampling strategy: temperature-1.5, top-5\n"
     ]
    },
    {
     "name": "stderr",
     "output_type": "stream",
     "text": [
      "  7%|▋         | 72/1024 [00:00<00:10, 87.76it/s]\n",
      "  0%|          | 1/1024 [00:00<00:21, 47.41it/s]\n",
      "  1%|          | 10/1024 [00:00<00:11, 90.85it/s]"
     ]
    },
    {
     "name": "stdout",
     "output_type": "stream",
     "text": [
      "Decode ends at step 72\n",
      "/home/qihao/MelodyBot/octuple/output/melody_20250519:121116/wikifonia_46_seg0_1_Seg1.mid\n",
      "Generating 271/387, Name: wikifonia_46_seg0_1_Seg1\n",
      "Expected decode length: 76\n",
      "Sampling strategy: temperature-1.5, top-5\n",
      "Decode ends at step 1\n",
      "/home/qihao/MelodyBot/octuple/output/melody_20250519:121116/wikifonia_3120_seg0_1_Seg1.mid\n",
      "Generating 272/387, Name: wikifonia_3120_seg0_1_Seg1\n",
      "Expected decode length: 104\n",
      "Sampling strategy: temperature-1.5, top-5\n"
     ]
    },
    {
     "name": "stderr",
     "output_type": "stream",
     "text": [
      " 10%|▉         | 102/1024 [00:01<00:10, 87.12it/s]\n",
      "  1%|          | 10/1024 [00:00<00:11, 91.36it/s]"
     ]
    },
    {
     "name": "stdout",
     "output_type": "stream",
     "text": [
      "Decode ends at step 102\n",
      "/home/qihao/MelodyBot/octuple/output/melody_20250519:121116/wikifonia_1520_seg0_1_Seg1.mid\n",
      "Generating 273/387, Name: wikifonia_1520_seg0_1_Seg1\n",
      "Expected decode length: 207\n",
      "Sampling strategy: temperature-1.5, top-5\n"
     ]
    },
    {
     "name": "stderr",
     "output_type": "stream",
     "text": [
      " 20%|██        | 205/1024 [00:02<00:09, 88.57it/s]\n",
      "  1%|          | 10/1024 [00:00<00:11, 91.82it/s]"
     ]
    },
    {
     "name": "stdout",
     "output_type": "stream",
     "text": [
      "Decode ends at step 205\n",
      "/home/qihao/MelodyBot/octuple/output/melody_20250519:121116/wikifonia_901_seg0_1_Seg1.mid\n",
      "Generating 274/387, Name: wikifonia_901_seg0_1_Seg1\n",
      "Expected decode length: 132\n",
      "Sampling strategy: temperature-1.5, top-5\n"
     ]
    },
    {
     "name": "stderr",
     "output_type": "stream",
     "text": [
      " 13%|█▎        | 130/1024 [00:01<00:10, 88.01it/s]\n",
      "  1%|          | 10/1024 [00:00<00:11, 90.82it/s]"
     ]
    },
    {
     "name": "stdout",
     "output_type": "stream",
     "text": [
      "Decode ends at step 130\n",
      "/home/qihao/MelodyBot/octuple/output/melody_20250519:121116/wikifonia_1949_seg0_1_Seg1.mid\n",
      "Generating 275/387, Name: wikifonia_1949_seg0_1_Seg1\n",
      "Expected decode length: 128\n",
      "Sampling strategy: temperature-1.5, top-5\n"
     ]
    },
    {
     "name": "stderr",
     "output_type": "stream",
     "text": [
      " 12%|█▏        | 126/1024 [00:01<00:10, 84.47it/s]\n",
      "  1%|          | 9/1024 [00:00<00:11, 84.83it/s]"
     ]
    },
    {
     "name": "stdout",
     "output_type": "stream",
     "text": [
      "Decode ends at step 126\n",
      "/home/qihao/MelodyBot/octuple/output/melody_20250519:121116/wikifonia_2321_seg0_1_Seg1.mid\n",
      "Generating 276/387, Name: wikifonia_2321_seg0_1_Seg1\n",
      "Expected decode length: 178\n",
      "Sampling strategy: temperature-1.5, top-5\n"
     ]
    },
    {
     "name": "stderr",
     "output_type": "stream",
     "text": [
      " 17%|█▋        | 176/1024 [00:02<00:09, 86.40it/s]\n",
      "  1%|          | 10/1024 [00:00<00:11, 90.72it/s]"
     ]
    },
    {
     "name": "stdout",
     "output_type": "stream",
     "text": [
      "Decode ends at step 176\n",
      "/home/qihao/MelodyBot/octuple/output/melody_20250519:121116/如果当时_seg0_1_Seg1.mid\n",
      "Generating 277/387, Name: 如果当时_seg0_1_Seg1\n",
      "Expected decode length: 109\n",
      "Sampling strategy: temperature-1.5, top-5\n"
     ]
    },
    {
     "name": "stderr",
     "output_type": "stream",
     "text": [
      " 10%|█         | 107/1024 [00:01<00:10, 87.59it/s]\n",
      "  1%|          | 10/1024 [00:00<00:11, 90.81it/s]"
     ]
    },
    {
     "name": "stdout",
     "output_type": "stream",
     "text": [
      "Decode ends at step 107\n",
      "/home/qihao/MelodyBot/octuple/output/melody_20250519:121116/wikifonia_927_seg0_1_Seg1.mid\n",
      "Generating 278/387, Name: wikifonia_927_seg0_1_Seg1\n",
      "Expected decode length: 108\n",
      "Sampling strategy: temperature-1.5, top-5\n"
     ]
    },
    {
     "name": "stderr",
     "output_type": "stream",
     "text": [
      " 10%|█         | 106/1024 [00:01<00:10, 87.67it/s]\n",
      "  1%|          | 10/1024 [00:00<00:11, 90.48it/s]"
     ]
    },
    {
     "name": "stdout",
     "output_type": "stream",
     "text": [
      "Decode ends at step 106\n",
      "/home/qihao/MelodyBot/octuple/output/melody_20250519:121116/wikifonia_3075_seg0_1_Seg1.mid\n",
      "Generating 279/387, Name: wikifonia_3075_seg0_1_Seg1\n",
      "Expected decode length: 84\n",
      "Sampling strategy: temperature-1.5, top-5\n"
     ]
    },
    {
     "name": "stderr",
     "output_type": "stream",
     "text": [
      "  8%|▊         | 82/1024 [00:00<00:10, 87.28it/s]\n",
      "  1%|          | 9/1024 [00:00<00:11, 89.94it/s]"
     ]
    },
    {
     "name": "stdout",
     "output_type": "stream",
     "text": [
      "Decode ends at step 82\n",
      "/home/qihao/MelodyBot/octuple/output/melody_20250519:121116/wikifonia_996_seg0_1_Seg1.mid\n",
      "Generating 280/387, Name: wikifonia_996_seg0_1_Seg1\n",
      "Expected decode length: 300\n",
      "Sampling strategy: temperature-1.5, top-5\n"
     ]
    },
    {
     "name": "stderr",
     "output_type": "stream",
     "text": [
      " 29%|██▉       | 298/1024 [00:03<00:08, 86.86it/s]\n",
      "  1%|          | 10/1024 [00:00<00:11, 91.38it/s]"
     ]
    },
    {
     "name": "stdout",
     "output_type": "stream",
     "text": [
      "Decode ends at step 298\n",
      "/home/qihao/MelodyBot/octuple/output/melody_20250519:121116/祝我生日快乐_seg0_1_Seg1.mid\n",
      "Generating 281/387, Name: 祝我生日快乐_seg0_1_Seg1\n",
      "Expected decode length: 134\n",
      "Sampling strategy: temperature-1.5, top-5\n"
     ]
    },
    {
     "name": "stderr",
     "output_type": "stream",
     "text": [
      " 13%|█▎        | 132/1024 [00:01<00:10, 88.62it/s]\n",
      "  1%|          | 10/1024 [00:00<00:11, 90.31it/s]"
     ]
    },
    {
     "name": "stdout",
     "output_type": "stream",
     "text": [
      "Decode ends at step 132\n",
      "/home/qihao/MelodyBot/octuple/output/melody_20250519:121116/wikifonia_2955_seg0_1_Seg1.mid\n",
      "Generating 282/387, Name: wikifonia_2955_seg0_1_Seg1\n",
      "Expected decode length: 96\n",
      "Sampling strategy: temperature-1.5, top-5\n"
     ]
    },
    {
     "name": "stderr",
     "output_type": "stream",
     "text": [
      "  9%|▉         | 94/1024 [00:01<00:10, 86.95it/s]\n",
      "  1%|          | 9/1024 [00:00<00:11, 85.49it/s]"
     ]
    },
    {
     "name": "stdout",
     "output_type": "stream",
     "text": [
      "Decode ends at step 94\n",
      "/home/qihao/MelodyBot/octuple/output/melody_20250519:121116/wikifonia_2562_seg0_1_Seg1.mid\n",
      "Generating 283/387, Name: wikifonia_2562_seg0_1_Seg1\n",
      "Expected decode length: 84\n",
      "Sampling strategy: temperature-1.5, top-5\n"
     ]
    },
    {
     "name": "stderr",
     "output_type": "stream",
     "text": [
      "  8%|▊         | 82/1024 [00:00<00:10, 86.76it/s]\n",
      "  1%|          | 10/1024 [00:00<00:11, 90.50it/s]"
     ]
    },
    {
     "name": "stdout",
     "output_type": "stream",
     "text": [
      "Decode ends at step 82\n",
      "/home/qihao/MelodyBot/octuple/output/melody_20250519:121116/wikifonia_2362_seg0_1_Seg1.mid\n",
      "Generating 284/387, Name: wikifonia_2362_seg0_1_Seg1\n",
      "Expected decode length: 174\n",
      "Sampling strategy: temperature-1.5, top-5\n"
     ]
    },
    {
     "name": "stderr",
     "output_type": "stream",
     "text": [
      " 17%|█▋        | 172/1024 [00:01<00:09, 87.81it/s]\n",
      "  1%|          | 10/1024 [00:00<00:11, 91.90it/s]"
     ]
    },
    {
     "name": "stdout",
     "output_type": "stream",
     "text": [
      "Decode ends at step 172\n",
      "/home/qihao/MelodyBot/octuple/output/melody_20250519:121116/在心里从此永远有个你_seg0_1_Seg1.mid\n",
      "Generating 285/387, Name: 在心里从此永远有个你_seg0_1_Seg1\n",
      "Expected decode length: 155\n",
      "Sampling strategy: temperature-1.5, top-5\n"
     ]
    },
    {
     "name": "stderr",
     "output_type": "stream",
     "text": [
      " 15%|█▍        | 153/1024 [00:01<00:09, 88.70it/s]\n",
      "  1%|          | 10/1024 [00:00<00:11, 90.86it/s]"
     ]
    },
    {
     "name": "stdout",
     "output_type": "stream",
     "text": [
      "Decode ends at step 153\n",
      "/home/qihao/MelodyBot/octuple/output/melody_20250519:121116/康美之恋_seg0_1_Seg1.mid\n",
      "Generating 286/387, Name: 康美之恋_seg0_1_Seg1\n",
      "Expected decode length: 109\n",
      "Sampling strategy: temperature-1.5, top-5\n"
     ]
    },
    {
     "name": "stderr",
     "output_type": "stream",
     "text": [
      " 10%|█         | 107/1024 [00:01<00:10, 87.66it/s]\n",
      "  1%|          | 10/1024 [00:00<00:11, 90.32it/s]"
     ]
    },
    {
     "name": "stdout",
     "output_type": "stream",
     "text": [
      "Decode ends at step 107\n",
      "/home/qihao/MelodyBot/octuple/output/melody_20250519:121116/wikifonia_3133_seg0_1_Seg1.mid\n",
      "Generating 287/387, Name: wikifonia_3133_seg0_1_Seg1\n",
      "Expected decode length: 88\n",
      "Sampling strategy: temperature-1.5, top-5\n"
     ]
    },
    {
     "name": "stderr",
     "output_type": "stream",
     "text": [
      "  8%|▊         | 86/1024 [00:00<00:10, 87.37it/s]\n",
      "  1%|          | 10/1024 [00:00<00:11, 90.61it/s]"
     ]
    },
    {
     "name": "stdout",
     "output_type": "stream",
     "text": [
      "Decode ends at step 86\n",
      "/home/qihao/MelodyBot/octuple/output/melody_20250519:121116/wikifonia_1819_seg0_1_Seg1.mid\n",
      "Generating 288/387, Name: wikifonia_1819_seg0_1_Seg1\n",
      "Expected decode length: 120\n",
      "Sampling strategy: temperature-1.5, top-5\n"
     ]
    },
    {
     "name": "stderr",
     "output_type": "stream",
     "text": [
      " 12%|█▏        | 118/1024 [00:01<00:10, 87.39it/s]\n",
      "  1%|          | 9/1024 [00:00<00:11, 86.67it/s]"
     ]
    },
    {
     "name": "stdout",
     "output_type": "stream",
     "text": [
      "Decode ends at step 118\n",
      "/home/qihao/MelodyBot/octuple/output/melody_20250519:121116/wikifonia_2904_seg0_1_Seg1.mid\n",
      "Generating 289/387, Name: wikifonia_2904_seg0_1_Seg1\n",
      "Expected decode length: 364\n",
      "Sampling strategy: temperature-1.5, top-5\n"
     ]
    },
    {
     "name": "stderr",
     "output_type": "stream",
     "text": [
      " 35%|███▌      | 362/1024 [00:04<00:08, 82.49it/s]\n",
      "  1%|          | 10/1024 [00:00<00:11, 91.86it/s]"
     ]
    },
    {
     "name": "stdout",
     "output_type": "stream",
     "text": [
      "Decode ends at step 362\n",
      "/home/qihao/MelodyBot/octuple/output/melody_20250519:121116/wikifonia_1631_seg0_1_Seg1.mid\n",
      "Generating 290/387, Name: wikifonia_1631_seg0_1_Seg1\n",
      "Expected decode length: 133\n",
      "Sampling strategy: temperature-1.5, top-5\n"
     ]
    },
    {
     "name": "stderr",
     "output_type": "stream",
     "text": [
      " 13%|█▎        | 130/1024 [00:01<00:10, 88.73it/s]\n",
      "  1%|          | 10/1024 [00:00<00:11, 90.70it/s]"
     ]
    },
    {
     "name": "stdout",
     "output_type": "stream",
     "text": [
      "Decode ends at step 130\n",
      "/home/qihao/MelodyBot/octuple/output/melody_20250519:121116/wikifonia_521_seg0_1_Seg1.mid\n",
      "Generating 291/387, Name: wikifonia_521_seg0_1_Seg1\n",
      "Expected decode length: 123\n",
      "Sampling strategy: temperature-1.5, top-5\n"
     ]
    },
    {
     "name": "stderr",
     "output_type": "stream",
     "text": [
      " 12%|█▏        | 121/1024 [00:01<00:10, 87.66it/s]\n",
      "  1%|          | 10/1024 [00:00<00:11, 90.52it/s]"
     ]
    },
    {
     "name": "stdout",
     "output_type": "stream",
     "text": [
      "Decode ends at step 121\n",
      "/home/qihao/MelodyBot/octuple/output/melody_20250519:121116/wikifonia_2716_seg0_1_Seg1.mid\n",
      "Generating 292/387, Name: wikifonia_2716_seg0_1_Seg1\n",
      "Expected decode length: 66\n",
      "Sampling strategy: temperature-1.5, top-5\n"
     ]
    },
    {
     "name": "stderr",
     "output_type": "stream",
     "text": [
      "  6%|▋         | 64/1024 [00:00<00:10, 87.43it/s]\n",
      "  1%|          | 10/1024 [00:00<00:11, 90.47it/s]"
     ]
    },
    {
     "name": "stdout",
     "output_type": "stream",
     "text": [
      "Decode ends at step 64\n",
      "/home/qihao/MelodyBot/octuple/output/melody_20250519:121116/wikifonia_1060_seg0_1_Seg1.mid\n",
      "Generating 293/387, Name: wikifonia_1060_seg0_1_Seg1\n",
      "Expected decode length: 113\n",
      "Sampling strategy: temperature-1.5, top-5\n"
     ]
    },
    {
     "name": "stderr",
     "output_type": "stream",
     "text": [
      " 11%|█         | 111/1024 [00:01<00:10, 87.76it/s]\n",
      "  1%|          | 10/1024 [00:00<00:11, 90.92it/s]"
     ]
    },
    {
     "name": "stdout",
     "output_type": "stream",
     "text": [
      "Decode ends at step 111\n",
      "/home/qihao/MelodyBot/octuple/output/melody_20250519:121116/wikifonia_620_seg0_1_Seg1.mid\n",
      "Generating 294/387, Name: wikifonia_620_seg0_1_Seg1\n",
      "Expected decode length: 115\n",
      "Sampling strategy: temperature-1.5, top-5\n"
     ]
    },
    {
     "name": "stderr",
     "output_type": "stream",
     "text": [
      " 11%|█         | 113/1024 [00:01<00:10, 87.80it/s]\n",
      "  1%|          | 10/1024 [00:00<00:11, 91.17it/s]"
     ]
    },
    {
     "name": "stdout",
     "output_type": "stream",
     "text": [
      "Decode ends at step 113\n",
      "/home/qihao/MelodyBot/octuple/output/melody_20250519:121116/wikifonia_1459_seg0_1_Seg1.mid\n",
      "Generating 295/387, Name: wikifonia_1459_seg0_1_Seg1\n",
      "Expected decode length: 194\n",
      "Sampling strategy: temperature-1.5, top-5\n"
     ]
    },
    {
     "name": "stderr",
     "output_type": "stream",
     "text": [
      " 19%|█▉        | 192/1024 [00:02<00:09, 88.55it/s]\n",
      "  1%|          | 10/1024 [00:00<00:11, 90.82it/s]"
     ]
    },
    {
     "name": "stdout",
     "output_type": "stream",
     "text": [
      "Decode ends at step 192\n",
      "/home/qihao/MelodyBot/octuple/output/melody_20250519:121116/飘雪_seg0_1_Seg1.mid\n",
      "Generating 296/387, Name: 飘雪_seg0_1_Seg1\n",
      "Expected decode length: 106\n",
      "Sampling strategy: temperature-1.5, top-5\n"
     ]
    },
    {
     "name": "stderr",
     "output_type": "stream",
     "text": [
      " 10%|█         | 104/1024 [00:01<00:10, 87.57it/s]\n",
      "  1%|          | 10/1024 [00:00<00:11, 90.58it/s]"
     ]
    },
    {
     "name": "stdout",
     "output_type": "stream",
     "text": [
      "Decode ends at step 104\n",
      "/home/qihao/MelodyBot/octuple/output/melody_20250519:121116/wikifonia_1831_seg0_1_Seg1.mid\n",
      "Generating 297/387, Name: wikifonia_1831_seg0_1_Seg1\n",
      "Expected decode length: 99\n",
      "Sampling strategy: temperature-1.5, top-5\n"
     ]
    },
    {
     "name": "stderr",
     "output_type": "stream",
     "text": [
      "  9%|▉         | 97/1024 [00:01<00:10, 87.56it/s]\n",
      "  1%|          | 9/1024 [00:00<00:11, 89.68it/s]"
     ]
    },
    {
     "name": "stdout",
     "output_type": "stream",
     "text": [
      "Decode ends at step 97\n",
      "/home/qihao/MelodyBot/octuple/output/melody_20250519:121116/wikifonia_594_seg0_1_Seg1.mid\n",
      "Generating 298/387, Name: wikifonia_594_seg0_1_Seg1\n",
      "Expected decode length: 309\n",
      "Sampling strategy: temperature-1.5, top-5\n"
     ]
    },
    {
     "name": "stderr",
     "output_type": "stream",
     "text": [
      " 30%|██▉       | 307/1024 [00:03<00:08, 86.61it/s]\n",
      "  1%|          | 10/1024 [00:00<00:11, 92.03it/s]"
     ]
    },
    {
     "name": "stdout",
     "output_type": "stream",
     "text": [
      "Decode ends at step 307\n",
      "/home/qihao/MelodyBot/octuple/output/melody_20250519:121116/龙卷风_seg0_1_Seg1.mid\n",
      "Generating 299/387, Name: 龙卷风_seg0_1_Seg1\n",
      "Expected decode length: 131\n",
      "Sampling strategy: temperature-1.5, top-5\n"
     ]
    },
    {
     "name": "stderr",
     "output_type": "stream",
     "text": [
      " 13%|█▎        | 129/1024 [00:01<00:10, 88.93it/s]\n",
      "  1%|          | 10/1024 [00:00<00:11, 90.99it/s]"
     ]
    },
    {
     "name": "stdout",
     "output_type": "stream",
     "text": [
      "Decode ends at step 129\n",
      "/home/qihao/MelodyBot/octuple/output/melody_20250519:121116/wikifonia_240_seg0_1_Seg1.mid\n",
      "Generating 300/387, Name: wikifonia_240_seg0_1_Seg1\n",
      "Expected decode length: 214\n",
      "Sampling strategy: temperature-1.5, top-5\n"
     ]
    },
    {
     "name": "stderr",
     "output_type": "stream",
     "text": [
      " 21%|██        | 212/1024 [00:02<00:09, 88.65it/s]\n",
      "  1%|          | 10/1024 [00:00<00:11, 91.23it/s]"
     ]
    },
    {
     "name": "stdout",
     "output_type": "stream",
     "text": [
      "Decode ends at step 212\n",
      "/home/qihao/MelodyBot/octuple/output/melody_20250519:121116/你的样子_seg0_1_Seg2.mid\n",
      "Generating 301/387, Name: 你的样子_seg0_1_Seg2\n",
      "Expected decode length: 219\n",
      "Sampling strategy: temperature-1.5, top-5\n"
     ]
    },
    {
     "name": "stderr",
     "output_type": "stream",
     "text": [
      " 21%|██        | 217/1024 [00:02<00:09, 88.60it/s]\n",
      "  1%|          | 10/1024 [00:00<00:11, 90.72it/s]"
     ]
    },
    {
     "name": "stdout",
     "output_type": "stream",
     "text": [
      "Decode ends at step 217\n",
      "/home/qihao/MelodyBot/octuple/output/melody_20250519:121116/wikifonia_2722_seg0_1_Seg1.mid\n",
      "Generating 302/387, Name: wikifonia_2722_seg0_1_Seg1\n",
      "Expected decode length: 105\n",
      "Sampling strategy: temperature-1.5, top-5\n"
     ]
    },
    {
     "name": "stderr",
     "output_type": "stream",
     "text": [
      " 10%|▉         | 101/1024 [00:01<00:10, 87.51it/s]\n",
      "  1%|          | 10/1024 [00:00<00:11, 90.60it/s]"
     ]
    },
    {
     "name": "stdout",
     "output_type": "stream",
     "text": [
      "Decode ends at step 101\n",
      "/home/qihao/MelodyBot/octuple/output/melody_20250519:121116/wikifonia_1930_seg0_1_Seg1.mid\n",
      "Generating 303/387, Name: wikifonia_1930_seg0_1_Seg1\n",
      "Expected decode length: 86\n",
      "Sampling strategy: temperature-1.5, top-5\n"
     ]
    },
    {
     "name": "stderr",
     "output_type": "stream",
     "text": [
      "  8%|▊         | 84/1024 [00:00<00:10, 87.48it/s]\n",
      "  1%|          | 10/1024 [00:00<00:11, 91.29it/s]"
     ]
    },
    {
     "name": "stdout",
     "output_type": "stream",
     "text": [
      "Decode ends at step 84\n",
      "/home/qihao/MelodyBot/octuple/output/melody_20250519:121116/wikifonia_1592_seg0_1_Seg1.mid\n",
      "Generating 304/387, Name: wikifonia_1592_seg0_1_Seg1\n",
      "Expected decode length: 199\n",
      "Sampling strategy: temperature-1.5, top-5\n"
     ]
    },
    {
     "name": "stderr",
     "output_type": "stream",
     "text": [
      " 19%|█▉        | 197/1024 [00:02<00:09, 88.65it/s]\n",
      "  1%|          | 10/1024 [00:00<00:11, 90.37it/s]"
     ]
    },
    {
     "name": "stdout",
     "output_type": "stream",
     "text": [
      "Decode ends at step 197\n",
      "/home/qihao/MelodyBot/octuple/output/melody_20250519:121116/wikifonia_1609_seg0_1_Seg1.mid\n",
      "Generating 305/387, Name: wikifonia_1609_seg0_1_Seg1\n",
      "Expected decode length: 82\n",
      "Sampling strategy: temperature-1.5, top-5\n"
     ]
    },
    {
     "name": "stderr",
     "output_type": "stream",
     "text": [
      "  8%|▊         | 77/1024 [00:00<00:10, 87.30it/s]\n",
      "  1%|          | 10/1024 [00:00<00:11, 91.26it/s]"
     ]
    },
    {
     "name": "stdout",
     "output_type": "stream",
     "text": [
      "Decode ends at step 77\n",
      "/home/qihao/MelodyBot/octuple/output/melody_20250519:121116/wikifonia_859_seg0_1_Seg1.mid\n",
      "Generating 306/387, Name: wikifonia_859_seg0_1_Seg1\n",
      "Expected decode length: 188\n",
      "Sampling strategy: temperature-1.5, top-5\n"
     ]
    },
    {
     "name": "stderr",
     "output_type": "stream",
     "text": [
      " 18%|█▊        | 186/1024 [00:02<00:09, 88.64it/s]\n",
      "  1%|          | 10/1024 [00:00<00:11, 90.40it/s]"
     ]
    },
    {
     "name": "stdout",
     "output_type": "stream",
     "text": [
      "Decode ends at step 186\n",
      "/home/qihao/MelodyBot/octuple/output/melody_20250519:121116/多想做你最爱的人_seg0_1_Seg1.mid\n",
      "Generating 307/387, Name: 多想做你最爱的人_seg0_1_Seg1\n",
      "Expected decode length: 101\n",
      "Sampling strategy: temperature-1.5, top-5\n"
     ]
    },
    {
     "name": "stderr",
     "output_type": "stream",
     "text": [
      " 10%|▉         | 99/1024 [00:01<00:10, 87.46it/s]\n",
      "  1%|          | 10/1024 [00:00<00:11, 90.55it/s]"
     ]
    },
    {
     "name": "stdout",
     "output_type": "stream",
     "text": [
      "Decode ends at step 99\n",
      "/home/qihao/MelodyBot/octuple/output/melody_20250519:121116/wikifonia_1234_seg0_1_Seg1.mid\n",
      "Generating 308/387, Name: wikifonia_1234_seg0_1_Seg1\n",
      "Expected decode length: 102\n",
      "Sampling strategy: temperature-1.5, top-5\n"
     ]
    },
    {
     "name": "stderr",
     "output_type": "stream",
     "text": [
      " 10%|▉         | 99/1024 [00:01<00:10, 87.58it/s]\n",
      "  1%|          | 10/1024 [00:00<00:11, 90.98it/s]"
     ]
    },
    {
     "name": "stdout",
     "output_type": "stream",
     "text": [
      "Decode ends at step 99\n",
      "/home/qihao/MelodyBot/octuple/output/melody_20250519:121116/wikifonia_2532_seg0_1_Seg1.mid\n",
      "Generating 309/387, Name: wikifonia_2532_seg0_1_Seg1\n",
      "Expected decode length: 229\n",
      "Sampling strategy: temperature-1.5, top-5\n"
     ]
    },
    {
     "name": "stderr",
     "output_type": "stream",
     "text": [
      " 22%|██▏       | 227/1024 [00:02<00:09, 88.50it/s]\n",
      "  1%|          | 10/1024 [00:00<00:11, 90.54it/s]"
     ]
    },
    {
     "name": "stdout",
     "output_type": "stream",
     "text": [
      "Decode ends at step 227\n",
      "/home/qihao/MelodyBot/octuple/output/melody_20250519:121116/wikifonia_607_seg0_1_Seg1.mid\n",
      "Generating 310/387, Name: wikifonia_607_seg0_1_Seg1\n",
      "Expected decode length: 164\n",
      "Sampling strategy: temperature-1.5, top-5\n"
     ]
    },
    {
     "name": "stderr",
     "output_type": "stream",
     "text": [
      " 16%|█▌        | 162/1024 [00:01<00:09, 87.89it/s]\n",
      "  1%|          | 10/1024 [00:00<00:11, 90.46it/s]"
     ]
    },
    {
     "name": "stdout",
     "output_type": "stream",
     "text": [
      "Decode ends at step 162\n",
      "/home/qihao/MelodyBot/octuple/output/melody_20250519:121116/wikifonia_1688_seg0_1_Seg1.mid\n",
      "Generating 311/387, Name: wikifonia_1688_seg0_1_Seg1\n",
      "Expected decode length: 102\n",
      "Sampling strategy: temperature-1.5, top-5\n"
     ]
    },
    {
     "name": "stderr",
     "output_type": "stream",
     "text": [
      " 10%|▉         | 100/1024 [00:01<00:10, 87.50it/s]\n",
      "  1%|          | 10/1024 [00:00<00:11, 91.27it/s]"
     ]
    },
    {
     "name": "stdout",
     "output_type": "stream",
     "text": [
      "Decode ends at step 100\n",
      "/home/qihao/MelodyBot/octuple/output/melody_20250519:121116/wikifonia_963_seg0_1_Seg1.mid\n",
      "Generating 312/387, Name: wikifonia_963_seg0_1_Seg1\n",
      "Expected decode length: 219\n",
      "Sampling strategy: temperature-1.5, top-5\n"
     ]
    },
    {
     "name": "stderr",
     "output_type": "stream",
     "text": [
      " 21%|██        | 217/1024 [00:02<00:09, 88.72it/s]\n",
      "  1%|          | 10/1024 [00:00<00:11, 90.59it/s]"
     ]
    },
    {
     "name": "stdout",
     "output_type": "stream",
     "text": [
      "Decode ends at step 217\n",
      "/home/qihao/MelodyBot/octuple/output/melody_20250519:121116/出卖_seg0_1_Seg1.mid\n",
      "Generating 313/387, Name: 出卖_seg0_1_Seg1\n",
      "Expected decode length: 98\n",
      "Sampling strategy: temperature-1.5, top-5\n"
     ]
    },
    {
     "name": "stderr",
     "output_type": "stream",
     "text": [
      "  9%|▉         | 96/1024 [00:01<00:10, 87.63it/s]\n",
      "  1%|          | 10/1024 [00:00<00:11, 91.72it/s]"
     ]
    },
    {
     "name": "stdout",
     "output_type": "stream",
     "text": [
      "Decode ends at step 96\n",
      "/home/qihao/MelodyBot/octuple/output/melody_20250519:121116/wikifonia_1152_seg0_1_Seg1.mid\n",
      "Generating 314/387, Name: wikifonia_1152_seg0_1_Seg1\n",
      "Expected decode length: 133\n",
      "Sampling strategy: temperature-1.5, top-5\n"
     ]
    },
    {
     "name": "stderr",
     "output_type": "stream",
     "text": [
      " 13%|█▎        | 131/1024 [00:01<00:10, 88.73it/s]\n",
      "  1%|          | 10/1024 [00:00<00:11, 90.40it/s]"
     ]
    },
    {
     "name": "stdout",
     "output_type": "stream",
     "text": [
      "Decode ends at step 131\n",
      "/home/qihao/MelodyBot/octuple/output/melody_20250519:121116/wikifonia_2981_seg0_1_Seg1.mid\n",
      "Generating 315/387, Name: wikifonia_2981_seg0_1_Seg1\n",
      "Expected decode length: 78\n",
      "Sampling strategy: temperature-1.5, top-5\n"
     ]
    },
    {
     "name": "stderr",
     "output_type": "stream",
     "text": [
      "  7%|▋         | 76/1024 [00:00<00:10, 87.38it/s]\n",
      "  1%|          | 10/1024 [00:00<00:11, 91.65it/s]"
     ]
    },
    {
     "name": "stdout",
     "output_type": "stream",
     "text": [
      "Decode ends at step 76\n",
      "/home/qihao/MelodyBot/octuple/output/melody_20250519:121116/wikifonia_2132_seg0_1_Seg1.mid\n",
      "Generating 316/387, Name: wikifonia_2132_seg0_1_Seg1\n",
      "Expected decode length: 138\n",
      "Sampling strategy: temperature-1.5, top-5\n"
     ]
    },
    {
     "name": "stderr",
     "output_type": "stream",
     "text": [
      " 13%|█▎        | 136/1024 [00:01<00:10, 88.68it/s]\n",
      "  1%|          | 10/1024 [00:00<00:11, 91.58it/s]"
     ]
    },
    {
     "name": "stdout",
     "output_type": "stream",
     "text": [
      "Decode ends at step 136\n",
      "/home/qihao/MelodyBot/octuple/output/melody_20250519:121116/wikifonia_519_seg0_1_Seg1.mid\n",
      "Generating 317/387, Name: wikifonia_519_seg0_1_Seg1\n",
      "Expected decode length: 218\n",
      "Sampling strategy: temperature-1.5, top-5\n"
     ]
    },
    {
     "name": "stderr",
     "output_type": "stream",
     "text": [
      " 21%|██        | 216/1024 [00:02<00:09, 88.80it/s]\n",
      "  1%|          | 10/1024 [00:00<00:11, 89.95it/s]"
     ]
    },
    {
     "name": "stdout",
     "output_type": "stream",
     "text": [
      "Decode ends at step 216\n",
      "/home/qihao/MelodyBot/octuple/output/melody_20250519:121116/今生缘_seg0_1_Seg2.mid\n",
      "Generating 318/387, Name: 今生缘_seg0_1_Seg2\n",
      "Expected decode length: 77\n",
      "Sampling strategy: temperature-1.5, top-5\n"
     ]
    },
    {
     "name": "stderr",
     "output_type": "stream",
     "text": [
      "  7%|▋         | 75/1024 [00:00<00:10, 87.45it/s]\n",
      "  1%|          | 10/1024 [00:00<00:11, 91.22it/s]"
     ]
    },
    {
     "name": "stdout",
     "output_type": "stream",
     "text": [
      "Decode ends at step 75\n",
      "/home/qihao/MelodyBot/octuple/output/melody_20250519:121116/wikifonia_2294_seg0_1_Seg1.mid\n",
      "Generating 319/387, Name: wikifonia_2294_seg0_1_Seg1\n",
      "Expected decode length: 122\n",
      "Sampling strategy: temperature-1.5, top-5\n"
     ]
    },
    {
     "name": "stderr",
     "output_type": "stream",
     "text": [
      " 12%|█▏        | 120/1024 [00:01<00:10, 87.73it/s]\n",
      "  1%|          | 10/1024 [00:00<00:11, 90.66it/s]"
     ]
    },
    {
     "name": "stdout",
     "output_type": "stream",
     "text": [
      "Decode ends at step 120\n",
      "/home/qihao/MelodyBot/octuple/output/melody_20250519:121116/wikifonia_1600_seg0_1_Seg1.mid\n",
      "Generating 320/387, Name: wikifonia_1600_seg0_1_Seg1\n",
      "Expected decode length: 167\n",
      "Sampling strategy: temperature-1.5, top-5\n"
     ]
    },
    {
     "name": "stderr",
     "output_type": "stream",
     "text": [
      " 16%|█▌        | 165/1024 [00:01<00:09, 87.76it/s]\n",
      "  1%|          | 9/1024 [00:00<00:12, 83.83it/s]"
     ]
    },
    {
     "name": "stdout",
     "output_type": "stream",
     "text": [
      "Decode ends at step 165\n",
      "/home/qihao/MelodyBot/octuple/output/melody_20250519:121116/wikifonia_1566_seg0_1_Seg1.mid\n",
      "Generating 321/387, Name: wikifonia_1566_seg0_1_Seg1\n",
      "Expected decode length: 414\n",
      "Sampling strategy: temperature-1.5, top-5\n"
     ]
    },
    {
     "name": "stderr",
     "output_type": "stream",
     "text": [
      " 40%|████      | 412/1024 [00:05<00:07, 78.74it/s]\n",
      "  1%|          | 10/1024 [00:00<00:11, 91.28it/s]"
     ]
    },
    {
     "name": "stdout",
     "output_type": "stream",
     "text": [
      "Decode ends at step 412\n",
      "/home/qihao/MelodyBot/octuple/output/melody_20250519:121116/wikifonia_565_seg0_1_Seg1.mid\n",
      "Generating 322/387, Name: wikifonia_565_seg0_1_Seg1\n",
      "Expected decode length: 233\n",
      "Sampling strategy: temperature-1.5, top-5\n"
     ]
    },
    {
     "name": "stderr",
     "output_type": "stream",
     "text": [
      " 23%|██▎       | 231/1024 [00:02<00:08, 88.36it/s]\n",
      "  1%|          | 10/1024 [00:00<00:11, 90.44it/s]"
     ]
    },
    {
     "name": "stdout",
     "output_type": "stream",
     "text": [
      "Decode ends at step 231\n",
      "/home/qihao/MelodyBot/octuple/output/melody_20250519:121116/wikifonia_2089_seg0_1_Seg1.mid\n",
      "Generating 323/387, Name: wikifonia_2089_seg0_1_Seg1\n",
      "Expected decode length: 100\n",
      "Sampling strategy: temperature-1.5, top-5\n"
     ]
    },
    {
     "name": "stderr",
     "output_type": "stream",
     "text": [
      " 10%|▉         | 98/1024 [00:01<00:10, 87.16it/s]\n",
      "  1%|          | 10/1024 [00:00<00:11, 90.86it/s]"
     ]
    },
    {
     "name": "stdout",
     "output_type": "stream",
     "text": [
      "Decode ends at step 98\n",
      "/home/qihao/MelodyBot/octuple/output/melody_20250519:121116/wikifonia_3264_seg0_1_Seg1.mid\n",
      "Generating 324/387, Name: wikifonia_3264_seg0_1_Seg1\n",
      "Expected decode length: 92\n",
      "Sampling strategy: temperature-1.5, top-5\n"
     ]
    },
    {
     "name": "stderr",
     "output_type": "stream",
     "text": [
      "  9%|▉         | 90/1024 [00:01<00:10, 86.09it/s]\n",
      "  1%|          | 9/1024 [00:00<00:11, 89.79it/s]"
     ]
    },
    {
     "name": "stdout",
     "output_type": "stream",
     "text": [
      "Decode ends at step 90\n",
      "/home/qihao/MelodyBot/octuple/output/melody_20250519:121116/wikifonia_2648_seg0_1_Seg1.mid\n",
      "Generating 325/387, Name: wikifonia_2648_seg0_1_Seg1\n",
      "Expected decode length: 96\n",
      "Sampling strategy: temperature-1.5, top-5\n"
     ]
    },
    {
     "name": "stderr",
     "output_type": "stream",
     "text": [
      "  9%|▉         | 94/1024 [00:01<00:10, 88.14it/s]\n",
      "  1%|          | 10/1024 [00:00<00:11, 91.75it/s]"
     ]
    },
    {
     "name": "stdout",
     "output_type": "stream",
     "text": [
      "Decode ends at step 94\n",
      "/home/qihao/MelodyBot/octuple/output/melody_20250519:121116/wikifonia_2146_seg0_1_Seg1.mid\n",
      "Generating 326/387, Name: wikifonia_2146_seg0_1_Seg1\n",
      "Expected decode length: 66\n",
      "Sampling strategy: temperature-1.5, top-5\n"
     ]
    },
    {
     "name": "stderr",
     "output_type": "stream",
     "text": [
      "  6%|▋         | 64/1024 [00:00<00:10, 87.50it/s]\n",
      "  1%|          | 10/1024 [00:00<00:11, 90.60it/s]"
     ]
    },
    {
     "name": "stdout",
     "output_type": "stream",
     "text": [
      "Decode ends at step 64\n",
      "/home/qihao/MelodyBot/octuple/output/melody_20250519:121116/wikifonia_1308_seg0_1_Seg1.mid\n",
      "Generating 327/387, Name: wikifonia_1308_seg0_1_Seg1\n",
      "Expected decode length: 71\n",
      "Sampling strategy: temperature-1.5, top-5\n"
     ]
    },
    {
     "name": "stderr",
     "output_type": "stream",
     "text": [
      "  7%|▋         | 69/1024 [00:00<00:10, 87.18it/s]\n",
      "  1%|          | 9/1024 [00:00<00:11, 89.19it/s]"
     ]
    },
    {
     "name": "stdout",
     "output_type": "stream",
     "text": [
      "Decode ends at step 69\n",
      "/home/qihao/MelodyBot/octuple/output/melody_20250519:121116/wikifonia_1935_seg0_1_Seg1.mid\n",
      "Generating 328/387, Name: wikifonia_1935_seg0_1_Seg1\n",
      "Expected decode length: 108\n",
      "Sampling strategy: temperature-1.5, top-5\n"
     ]
    },
    {
     "name": "stderr",
     "output_type": "stream",
     "text": [
      " 10%|█         | 106/1024 [00:01<00:10, 86.96it/s]\n",
      "  1%|          | 10/1024 [00:00<00:11, 90.49it/s]"
     ]
    },
    {
     "name": "stdout",
     "output_type": "stream",
     "text": [
      "Decode ends at step 106\n",
      "/home/qihao/MelodyBot/octuple/output/melody_20250519:121116/wikifonia_3180_seg0_1_Seg1.mid\n",
      "Generating 329/387, Name: wikifonia_3180_seg0_1_Seg1\n",
      "Expected decode length: 82\n",
      "Sampling strategy: temperature-1.5, top-5\n"
     ]
    },
    {
     "name": "stderr",
     "output_type": "stream",
     "text": [
      "  8%|▊         | 80/1024 [00:00<00:10, 86.93it/s]\n",
      "  1%|          | 10/1024 [00:00<00:11, 91.94it/s]"
     ]
    },
    {
     "name": "stdout",
     "output_type": "stream",
     "text": [
      "Decode ends at step 80\n",
      "/home/qihao/MelodyBot/octuple/output/melody_20250519:121116/一瞬间_seg0_1_Seg2.mid\n",
      "Generating 330/387, Name: 一瞬间_seg0_1_Seg2\n",
      "Expected decode length: 139\n",
      "Sampling strategy: temperature-1.5, top-5\n"
     ]
    },
    {
     "name": "stderr",
     "output_type": "stream",
     "text": [
      " 13%|█▎        | 135/1024 [00:01<00:10, 87.81it/s]\n",
      "  1%|          | 10/1024 [00:00<00:11, 90.64it/s]"
     ]
    },
    {
     "name": "stdout",
     "output_type": "stream",
     "text": [
      "Decode ends at step 135\n",
      "/home/qihao/MelodyBot/octuple/output/melody_20250519:121116/wikifonia_1119_seg0_1_Seg1.mid\n",
      "Generating 331/387, Name: wikifonia_1119_seg0_1_Seg1\n",
      "Expected decode length: 113\n",
      "Sampling strategy: temperature-1.5, top-5\n"
     ]
    },
    {
     "name": "stderr",
     "output_type": "stream",
     "text": [
      " 11%|█         | 111/1024 [00:01<00:10, 87.34it/s]\n",
      "  1%|          | 10/1024 [00:00<00:11, 90.94it/s]"
     ]
    },
    {
     "name": "stdout",
     "output_type": "stream",
     "text": [
      "Decode ends at step 111\n",
      "/home/qihao/MelodyBot/octuple/output/melody_20250519:121116/wikifonia_2125_seg0_1_Seg1.mid\n",
      "Generating 332/387, Name: wikifonia_2125_seg0_1_Seg1\n",
      "Expected decode length: 167\n",
      "Sampling strategy: temperature-1.5, top-5\n"
     ]
    },
    {
     "name": "stderr",
     "output_type": "stream",
     "text": [
      " 16%|█▌        | 165/1024 [00:01<00:09, 87.70it/s]\n",
      "  1%|          | 10/1024 [00:00<00:11, 90.53it/s]"
     ]
    },
    {
     "name": "stdout",
     "output_type": "stream",
     "text": [
      "Decode ends at step 165\n",
      "/home/qihao/MelodyBot/octuple/output/melody_20250519:121116/wikifonia_2184_seg0_1_Seg1.mid\n",
      "Generating 333/387, Name: wikifonia_2184_seg0_1_Seg1\n",
      "Expected decode length: 90\n",
      "Sampling strategy: temperature-1.5, top-5\n"
     ]
    },
    {
     "name": "stderr",
     "output_type": "stream",
     "text": [
      "  9%|▊         | 88/1024 [00:01<00:10, 87.38it/s]\n",
      "  1%|          | 10/1024 [00:00<00:11, 90.75it/s]"
     ]
    },
    {
     "name": "stdout",
     "output_type": "stream",
     "text": [
      "Decode ends at step 88\n",
      "/home/qihao/MelodyBot/octuple/output/melody_20250519:121116/wikifonia_3223_seg0_1_Seg1.mid\n",
      "Generating 334/387, Name: wikifonia_3223_seg0_1_Seg1\n",
      "Expected decode length: 173\n",
      "Sampling strategy: temperature-1.5, top-5\n"
     ]
    },
    {
     "name": "stderr",
     "output_type": "stream",
     "text": [
      " 17%|█▋        | 171/1024 [00:01<00:09, 87.91it/s]\n",
      "  1%|          | 10/1024 [00:00<00:11, 91.69it/s]"
     ]
    },
    {
     "name": "stdout",
     "output_type": "stream",
     "text": [
      "Decode ends at step 171\n",
      "/home/qihao/MelodyBot/octuple/output/melody_20250519:121116/wikifonia_2048_seg0_1_Seg1.mid\n",
      "Generating 335/387, Name: wikifonia_2048_seg0_1_Seg1\n",
      "Expected decode length: 145\n",
      "Sampling strategy: temperature-1.5, top-5\n"
     ]
    },
    {
     "name": "stderr",
     "output_type": "stream",
     "text": [
      " 14%|█▍        | 143/1024 [00:01<00:09, 88.94it/s]\n",
      "  1%|          | 10/1024 [00:00<00:11, 90.65it/s]"
     ]
    },
    {
     "name": "stdout",
     "output_type": "stream",
     "text": [
      "Decode ends at step 143\n",
      "/home/qihao/MelodyBot/octuple/output/melody_20250519:121116/wikifonia_2579_seg0_1_Seg1.mid\n",
      "Generating 336/387, Name: wikifonia_2579_seg0_1_Seg1\n",
      "Expected decode length: 95\n",
      "Sampling strategy: temperature-1.5, top-5\n"
     ]
    },
    {
     "name": "stderr",
     "output_type": "stream",
     "text": [
      "  7%|▋         | 69/1024 [00:00<00:10, 87.23it/s]\n",
      "  1%|          | 10/1024 [00:00<00:11, 89.86it/s]"
     ]
    },
    {
     "name": "stdout",
     "output_type": "stream",
     "text": [
      "Decode ends at step 69\n",
      "/home/qihao/MelodyBot/octuple/output/melody_20250519:121116/wikifonia_2017_seg0_1_Seg1.mid\n",
      "Generating 337/387, Name: wikifonia_2017_seg0_1_Seg1\n",
      "Expected decode length: 308\n",
      "Sampling strategy: temperature-1.5, top-5\n"
     ]
    },
    {
     "name": "stderr",
     "output_type": "stream",
     "text": [
      " 30%|██▉       | 306/1024 [00:03<00:08, 86.98it/s]\n",
      "  1%|          | 10/1024 [00:00<00:11, 90.73it/s]"
     ]
    },
    {
     "name": "stdout",
     "output_type": "stream",
     "text": [
      "Decode ends at step 306\n",
      "/home/qihao/MelodyBot/octuple/output/melody_20250519:121116/wikifonia_1752_seg0_1_Seg1.mid\n",
      "Generating 338/387, Name: wikifonia_1752_seg0_1_Seg1\n",
      "Expected decode length: 112\n",
      "Sampling strategy: temperature-1.5, top-5\n"
     ]
    },
    {
     "name": "stderr",
     "output_type": "stream",
     "text": [
      " 11%|█         | 110/1024 [00:01<00:10, 87.56it/s]\n",
      "  1%|          | 10/1024 [00:00<00:11, 92.15it/s]"
     ]
    },
    {
     "name": "stdout",
     "output_type": "stream",
     "text": [
      "Decode ends at step 110\n",
      "/home/qihao/MelodyBot/octuple/output/melody_20250519:121116/wikifonia_3200_seg0_1_Seg1.mid\n",
      "Generating 339/387, Name: wikifonia_3200_seg0_1_Seg1\n",
      "Expected decode length: 132\n",
      "Sampling strategy: temperature-1.5, top-5\n"
     ]
    },
    {
     "name": "stderr",
     "output_type": "stream",
     "text": [
      " 13%|█▎        | 130/1024 [00:01<00:10, 88.99it/s]\n",
      "  1%|          | 10/1024 [00:00<00:11, 90.83it/s]"
     ]
    },
    {
     "name": "stdout",
     "output_type": "stream",
     "text": [
      "Decode ends at step 130\n",
      "/home/qihao/MelodyBot/octuple/output/melody_20250519:121116/带走_seg0_1_Seg2.mid\n",
      "Generating 340/387, Name: 带走_seg0_1_Seg2\n",
      "Expected decode length: 104\n",
      "Sampling strategy: temperature-1.5, top-5\n"
     ]
    },
    {
     "name": "stderr",
     "output_type": "stream",
     "text": [
      " 10%|▉         | 102/1024 [00:01<00:10, 87.60it/s]\n",
      "  1%|          | 10/1024 [00:00<00:11, 91.67it/s]"
     ]
    },
    {
     "name": "stdout",
     "output_type": "stream",
     "text": [
      "Decode ends at step 102\n",
      "/home/qihao/MelodyBot/octuple/output/melody_20250519:121116/wikifonia_2183_seg0_1_Seg1.mid\n",
      "Generating 341/387, Name: wikifonia_2183_seg0_1_Seg1\n",
      "Expected decode length: 184\n",
      "Sampling strategy: temperature-1.5, top-5\n"
     ]
    },
    {
     "name": "stderr",
     "output_type": "stream",
     "text": [
      " 18%|█▊        | 182/1024 [00:02<00:09, 88.72it/s]\n",
      "  1%|          | 10/1024 [00:00<00:11, 91.58it/s]"
     ]
    },
    {
     "name": "stdout",
     "output_type": "stream",
     "text": [
      "Decode ends at step 182\n",
      "/home/qihao/MelodyBot/octuple/output/melody_20250519:121116/wikifonia_792_seg0_1_Seg1.mid\n",
      "Generating 342/387, Name: wikifonia_792_seg0_1_Seg1\n",
      "Expected decode length: 242\n",
      "Sampling strategy: temperature-1.5, top-5\n"
     ]
    },
    {
     "name": "stderr",
     "output_type": "stream",
     "text": [
      " 23%|██▎       | 240/1024 [00:02<00:08, 88.39it/s]\n",
      "  1%|          | 10/1024 [00:00<00:11, 90.76it/s]"
     ]
    },
    {
     "name": "stdout",
     "output_type": "stream",
     "text": [
      "Decode ends at step 240\n",
      "/home/qihao/MelodyBot/octuple/output/melody_20250519:121116/wikifonia_480_seg0_1_Seg1.mid\n",
      "Generating 343/387, Name: wikifonia_480_seg0_1_Seg1\n",
      "Expected decode length: 125\n",
      "Sampling strategy: temperature-1.5, top-5\n"
     ]
    },
    {
     "name": "stderr",
     "output_type": "stream",
     "text": [
      " 12%|█▏        | 123/1024 [00:01<00:10, 87.53it/s]\n",
      "  1%|          | 10/1024 [00:00<00:11, 90.48it/s]"
     ]
    },
    {
     "name": "stdout",
     "output_type": "stream",
     "text": [
      "Decode ends at step 123\n",
      "/home/qihao/MelodyBot/octuple/output/melody_20250519:121116/wikifonia_1584_seg0_1_Seg1.mid\n",
      "Generating 344/387, Name: wikifonia_1584_seg0_1_Seg1\n",
      "Expected decode length: 90\n",
      "Sampling strategy: temperature-1.5, top-5\n"
     ]
    },
    {
     "name": "stderr",
     "output_type": "stream",
     "text": [
      "  9%|▊         | 88/1024 [00:01<00:10, 87.34it/s]\n",
      "  1%|          | 10/1024 [00:00<00:11, 91.74it/s]"
     ]
    },
    {
     "name": "stdout",
     "output_type": "stream",
     "text": [
      "Decode ends at step 88\n",
      "/home/qihao/MelodyBot/octuple/output/melody_20250519:121116/wikifonia_2650_seg0_1_Seg1.mid\n",
      "Generating 345/387, Name: wikifonia_2650_seg0_1_Seg1\n",
      "Expected decode length: 144\n",
      "Sampling strategy: temperature-1.5, top-5\n"
     ]
    },
    {
     "name": "stderr",
     "output_type": "stream",
     "text": [
      " 14%|█▍        | 142/1024 [00:01<00:09, 88.63it/s]\n",
      "  1%|          | 10/1024 [00:00<00:11, 90.69it/s]"
     ]
    },
    {
     "name": "stdout",
     "output_type": "stream",
     "text": [
      "Decode ends at step 142\n",
      "/home/qihao/MelodyBot/octuple/output/melody_20250519:121116/wikifonia_2977_seg0_1_Seg1.mid\n",
      "Generating 346/387, Name: wikifonia_2977_seg0_1_Seg1\n",
      "Expected decode length: 110\n",
      "Sampling strategy: temperature-1.5, top-5\n"
     ]
    },
    {
     "name": "stderr",
     "output_type": "stream",
     "text": [
      " 10%|▉         | 102/1024 [00:01<00:10, 87.50it/s]\n",
      "  1%|          | 10/1024 [00:00<00:11, 90.60it/s]"
     ]
    },
    {
     "name": "stdout",
     "output_type": "stream",
     "text": [
      "Decode ends at step 102\n",
      "/home/qihao/MelodyBot/octuple/output/melody_20250519:121116/wikifonia_1588_seg0_1_Seg1.mid\n",
      "Generating 347/387, Name: wikifonia_1588_seg0_1_Seg1\n",
      "Expected decode length: 112\n",
      "Sampling strategy: temperature-1.5, top-5\n"
     ]
    },
    {
     "name": "stderr",
     "output_type": "stream",
     "text": [
      " 11%|█         | 110/1024 [00:01<00:10, 87.46it/s]\n",
      "  1%|          | 10/1024 [00:00<00:11, 90.86it/s]"
     ]
    },
    {
     "name": "stdout",
     "output_type": "stream",
     "text": [
      "Decode ends at step 110\n",
      "/home/qihao/MelodyBot/octuple/output/melody_20250519:121116/wikifonia_3292_seg0_1_Seg1.mid\n",
      "Generating 348/387, Name: wikifonia_3292_seg0_1_Seg1\n",
      "Expected decode length: 106\n",
      "Sampling strategy: temperature-1.5, top-5\n"
     ]
    },
    {
     "name": "stderr",
     "output_type": "stream",
     "text": [
      " 10%|█         | 104/1024 [00:01<00:10, 87.69it/s]\n",
      "  1%|          | 10/1024 [00:00<00:11, 91.70it/s]"
     ]
    },
    {
     "name": "stdout",
     "output_type": "stream",
     "text": [
      "Decode ends at step 104\n",
      "/home/qihao/MelodyBot/octuple/output/melody_20250519:121116/wikifonia_100_seg0_1_Seg1.mid\n",
      "Generating 349/387, Name: wikifonia_100_seg0_1_Seg1\n",
      "Expected decode length: 147\n",
      "Sampling strategy: temperature-1.5, top-5\n"
     ]
    },
    {
     "name": "stderr",
     "output_type": "stream",
     "text": [
      " 14%|█▍        | 145/1024 [00:01<00:09, 88.82it/s]\n",
      "  1%|          | 10/1024 [00:00<00:11, 90.51it/s]"
     ]
    },
    {
     "name": "stdout",
     "output_type": "stream",
     "text": [
      "Decode ends at step 145\n",
      "/home/qihao/MelodyBot/octuple/output/melody_20250519:121116/wikifonia_2921_seg0_1_Seg1.mid\n",
      "Generating 350/387, Name: wikifonia_2921_seg0_1_Seg1\n",
      "Expected decode length: 111\n",
      "Sampling strategy: temperature-1.5, top-5\n"
     ]
    },
    {
     "name": "stderr",
     "output_type": "stream",
     "text": [
      " 11%|█         | 109/1024 [00:01<00:10, 87.44it/s]\n",
      "  1%|          | 10/1024 [00:00<00:11, 90.64it/s]"
     ]
    },
    {
     "name": "stdout",
     "output_type": "stream",
     "text": [
      "Decode ends at step 109\n",
      "/home/qihao/MelodyBot/octuple/output/melody_20250519:121116/wikifonia_2440_seg0_1_Seg1.mid\n",
      "Generating 351/387, Name: wikifonia_2440_seg0_1_Seg1\n",
      "Expected decode length: 163\n",
      "Sampling strategy: temperature-1.5, top-5\n"
     ]
    },
    {
     "name": "stderr",
     "output_type": "stream",
     "text": [
      " 16%|█▌        | 161/1024 [00:01<00:09, 87.82it/s]\n",
      "  1%|          | 10/1024 [00:00<00:11, 90.60it/s]"
     ]
    },
    {
     "name": "stdout",
     "output_type": "stream",
     "text": [
      "Decode ends at step 161\n",
      "/home/qihao/MelodyBot/octuple/output/melody_20250519:121116/牵丝戏_seg0_1_Seg2.mid\n",
      "Generating 352/387, Name: 牵丝戏_seg0_1_Seg2\n",
      "Expected decode length: 117\n",
      "Sampling strategy: temperature-1.5, top-5\n"
     ]
    },
    {
     "name": "stderr",
     "output_type": "stream",
     "text": [
      " 11%|█         | 115/1024 [00:01<00:10, 87.50it/s]\n",
      "  1%|          | 10/1024 [00:00<00:11, 90.69it/s]"
     ]
    },
    {
     "name": "stdout",
     "output_type": "stream",
     "text": [
      "Decode ends at step 115\n",
      "/home/qihao/MelodyBot/octuple/output/melody_20250519:121116/wikifonia_2587_seg0_1_Seg1.mid\n",
      "Generating 353/387, Name: wikifonia_2587_seg0_1_Seg1\n",
      "Expected decode length: 107\n",
      "Sampling strategy: temperature-1.5, top-5\n"
     ]
    },
    {
     "name": "stderr",
     "output_type": "stream",
     "text": [
      " 10%|█         | 105/1024 [00:01<00:10, 87.71it/s]\n",
      "  1%|          | 10/1024 [00:00<00:11, 91.78it/s]"
     ]
    },
    {
     "name": "stdout",
     "output_type": "stream",
     "text": [
      "Decode ends at step 105\n",
      "/home/qihao/MelodyBot/octuple/output/melody_20250519:121116/wikifonia_2664_seg0_1_Seg1.mid\n",
      "Generating 354/387, Name: wikifonia_2664_seg0_1_Seg1\n",
      "Expected decode length: 197\n",
      "Sampling strategy: temperature-1.5, top-5\n"
     ]
    },
    {
     "name": "stderr",
     "output_type": "stream",
     "text": [
      " 19%|█▉        | 195/1024 [00:02<00:09, 88.64it/s]\n",
      "  1%|          | 10/1024 [00:00<00:11, 91.81it/s]"
     ]
    },
    {
     "name": "stdout",
     "output_type": "stream",
     "text": [
      "Decode ends at step 195\n",
      "/home/qihao/MelodyBot/octuple/output/melody_20250519:121116/wikifonia_402_seg0_1_Seg1.mid\n",
      "Generating 355/387, Name: wikifonia_402_seg0_1_Seg1\n",
      "Expected decode length: 63\n",
      "Sampling strategy: temperature-1.5, top-5\n"
     ]
    },
    {
     "name": "stderr",
     "output_type": "stream",
     "text": [
      "  6%|▌         | 61/1024 [00:00<00:10, 88.53it/s]\n",
      "  1%|          | 10/1024 [00:00<00:11, 91.16it/s]"
     ]
    },
    {
     "name": "stdout",
     "output_type": "stream",
     "text": [
      "Decode ends at step 61\n",
      "/home/qihao/MelodyBot/octuple/output/melody_20250519:121116/wikifonia_3215_seg0_1_Seg1.mid\n",
      "Generating 356/387, Name: wikifonia_3215_seg0_1_Seg1\n",
      "Expected decode length: 110\n",
      "Sampling strategy: temperature-1.5, top-5\n"
     ]
    },
    {
     "name": "stderr",
     "output_type": "stream",
     "text": [
      " 11%|█         | 108/1024 [00:01<00:10, 87.81it/s]\n",
      "  1%|          | 10/1024 [00:00<00:11, 91.92it/s]"
     ]
    },
    {
     "name": "stdout",
     "output_type": "stream",
     "text": [
      "Decode ends at step 108\n",
      "/home/qihao/MelodyBot/octuple/output/melody_20250519:121116/wikifonia_1829_seg0_1_Seg1.mid\n",
      "Generating 357/387, Name: wikifonia_1829_seg0_1_Seg1\n",
      "Expected decode length: 55\n",
      "Sampling strategy: temperature-1.5, top-5\n"
     ]
    },
    {
     "name": "stderr",
     "output_type": "stream",
     "text": [
      "  5%|▌         | 53/1024 [00:00<00:11, 88.08it/s]\n",
      "  1%|          | 10/1024 [00:00<00:11, 91.30it/s]"
     ]
    },
    {
     "name": "stdout",
     "output_type": "stream",
     "text": [
      "Decode ends at step 53\n",
      "/home/qihao/MelodyBot/octuple/output/melody_20250519:121116/wikifonia_2859_seg0_1_Seg1.mid\n",
      "Generating 358/387, Name: wikifonia_2859_seg0_1_Seg1\n",
      "Expected decode length: 187\n",
      "Sampling strategy: temperature-1.5, top-5\n"
     ]
    },
    {
     "name": "stderr",
     "output_type": "stream",
     "text": [
      " 18%|█▊        | 185/1024 [00:02<00:09, 88.90it/s]\n",
      "  1%|          | 10/1024 [00:00<00:11, 90.08it/s]"
     ]
    },
    {
     "name": "stdout",
     "output_type": "stream",
     "text": [
      "Decode ends at step 185\n",
      "/home/qihao/MelodyBot/octuple/output/melody_20250519:121116/wikifonia_477_seg0_1_Seg1.mid\n",
      "Generating 359/387, Name: wikifonia_477_seg0_1_Seg1\n",
      "Expected decode length: 272\n",
      "Sampling strategy: temperature-1.5, top-5\n"
     ]
    },
    {
     "name": "stderr",
     "output_type": "stream",
     "text": [
      " 26%|██▋       | 270/1024 [00:03<00:08, 87.52it/s]\n",
      "  1%|          | 10/1024 [00:00<00:11, 90.61it/s]"
     ]
    },
    {
     "name": "stdout",
     "output_type": "stream",
     "text": [
      "Decode ends at step 270\n",
      "/home/qihao/MelodyBot/octuple/output/melody_20250519:121116/wikifonia_931_seg0_1_Seg1.mid\n",
      "Generating 360/387, Name: wikifonia_931_seg0_1_Seg1\n",
      "Expected decode length: 71\n",
      "Sampling strategy: temperature-1.5, top-5\n"
     ]
    },
    {
     "name": "stderr",
     "output_type": "stream",
     "text": [
      "  7%|▋         | 68/1024 [00:00<00:10, 87.45it/s]\n",
      "  1%|          | 9/1024 [00:00<00:11, 88.67it/s]"
     ]
    },
    {
     "name": "stdout",
     "output_type": "stream",
     "text": [
      "Decode ends at step 68\n",
      "/home/qihao/MelodyBot/octuple/output/melody_20250519:121116/wikifonia_65_seg0_1_Seg1.mid\n",
      "Generating 361/387, Name: wikifonia_65_seg0_1_Seg1\n",
      "Expected decode length: 94\n",
      "Sampling strategy: temperature-1.5, top-5\n"
     ]
    },
    {
     "name": "stderr",
     "output_type": "stream",
     "text": [
      "  9%|▉         | 91/1024 [00:01<00:10, 87.27it/s]\n",
      "  1%|          | 10/1024 [00:00<00:11, 90.59it/s]"
     ]
    },
    {
     "name": "stdout",
     "output_type": "stream",
     "text": [
      "Decode ends at step 91\n",
      "/home/qihao/MelodyBot/octuple/output/melody_20250519:121116/wikifonia_621_seg0_1_Seg1.mid\n",
      "Generating 362/387, Name: wikifonia_621_seg0_1_Seg1\n",
      "Expected decode length: 105\n",
      "Sampling strategy: temperature-1.5, top-5\n"
     ]
    },
    {
     "name": "stderr",
     "output_type": "stream",
     "text": [
      " 10%|█         | 103/1024 [00:01<00:10, 87.55it/s]\n",
      "  1%|          | 10/1024 [00:00<00:11, 91.88it/s]"
     ]
    },
    {
     "name": "stdout",
     "output_type": "stream",
     "text": [
      "Decode ends at step 103\n",
      "/home/qihao/MelodyBot/octuple/output/melody_20250519:121116/wikifonia_1421_seg0_1_Seg1.mid\n",
      "Generating 363/387, Name: wikifonia_1421_seg0_1_Seg1\n",
      "Expected decode length: 131\n",
      "Sampling strategy: temperature-1.5, top-5\n"
     ]
    },
    {
     "name": "stderr",
     "output_type": "stream",
     "text": [
      " 13%|█▎        | 129/1024 [00:01<00:10, 88.84it/s]\n",
      "  1%|          | 10/1024 [00:00<00:11, 92.04it/s]"
     ]
    },
    {
     "name": "stdout",
     "output_type": "stream",
     "text": [
      "Decode ends at step 129\n",
      "/home/qihao/MelodyBot/octuple/output/melody_20250519:121116/勇气_seg0_1_Seg1.mid\n",
      "Generating 364/387, Name: 勇气_seg0_1_Seg1\n",
      "Expected decode length: 156\n",
      "Sampling strategy: temperature-1.5, top-5\n"
     ]
    },
    {
     "name": "stderr",
     "output_type": "stream",
     "text": [
      " 15%|█▌        | 154/1024 [00:01<00:09, 88.81it/s]\n",
      "  0%|          | 1/1024 [00:00<00:20, 48.87it/s]\n",
      "  1%|          | 10/1024 [00:00<00:11, 90.34it/s]"
     ]
    },
    {
     "name": "stdout",
     "output_type": "stream",
     "text": [
      "Decode ends at step 154\n",
      "/home/qihao/MelodyBot/octuple/output/melody_20250519:121116/岁月神偷_seg0_1_Seg1.mid\n",
      "Generating 365/387, Name: 岁月神偷_seg0_1_Seg1\n",
      "Expected decode length: 64\n",
      "Sampling strategy: temperature-1.5, top-5\n",
      "Decode ends at step 1\n",
      "/home/qihao/MelodyBot/octuple/output/melody_20250519:121116/wikifonia_1707_seg0_1_Seg1.mid\n",
      "Generating 366/387, Name: wikifonia_1707_seg0_1_Seg1\n",
      "Expected decode length: 85\n",
      "Sampling strategy: temperature-1.5, top-5\n"
     ]
    },
    {
     "name": "stderr",
     "output_type": "stream",
     "text": [
      "  8%|▊         | 83/1024 [00:00<00:10, 87.37it/s]\n",
      "  1%|          | 10/1024 [00:00<00:11, 90.79it/s]"
     ]
    },
    {
     "name": "stdout",
     "output_type": "stream",
     "text": [
      "Decode ends at step 83\n",
      "/home/qihao/MelodyBot/octuple/output/melody_20250519:121116/wikifonia_3197_seg0_1_Seg1.mid\n",
      "Generating 367/387, Name: wikifonia_3197_seg0_1_Seg1\n",
      "Expected decode length: 122\n",
      "Sampling strategy: temperature-1.5, top-5\n"
     ]
    },
    {
     "name": "stderr",
     "output_type": "stream",
     "text": [
      " 12%|█▏        | 120/1024 [00:01<00:10, 87.77it/s]\n",
      "  1%|          | 10/1024 [00:00<00:11, 90.44it/s]"
     ]
    },
    {
     "name": "stdout",
     "output_type": "stream",
     "text": [
      "Decode ends at step 120\n",
      "/home/qihao/MelodyBot/octuple/output/melody_20250519:121116/wikifonia_2418_seg0_1_Seg1.mid\n",
      "Generating 368/387, Name: wikifonia_2418_seg0_1_Seg1\n",
      "Expected decode length: 90\n",
      "Sampling strategy: temperature-1.5, top-5\n"
     ]
    },
    {
     "name": "stderr",
     "output_type": "stream",
     "text": [
      "  9%|▊         | 88/1024 [00:01<00:10, 87.44it/s]\n",
      "  1%|          | 9/1024 [00:00<00:11, 89.91it/s]"
     ]
    },
    {
     "name": "stdout",
     "output_type": "stream",
     "text": [
      "Decode ends at step 88\n",
      "/home/qihao/MelodyBot/octuple/output/melody_20250519:121116/wikifonia_821_seg0_1_Seg1.mid\n",
      "Generating 369/387, Name: wikifonia_821_seg0_1_Seg1\n",
      "Expected decode length: 310\n",
      "Sampling strategy: temperature-1.5, top-5\n"
     ]
    },
    {
     "name": "stderr",
     "output_type": "stream",
     "text": [
      " 30%|███       | 308/1024 [00:03<00:08, 86.82it/s]\n",
      "  1%|          | 10/1024 [00:00<00:11, 90.55it/s]"
     ]
    },
    {
     "name": "stdout",
     "output_type": "stream",
     "text": [
      "Decode ends at step 308\n",
      "/home/qihao/MelodyBot/octuple/output/melody_20250519:121116/wikifonia_3289_seg0_1_Seg1.mid\n",
      "Generating 370/387, Name: wikifonia_3289_seg0_1_Seg1\n",
      "Expected decode length: 163\n",
      "Sampling strategy: temperature-1.5, top-5\n"
     ]
    },
    {
     "name": "stderr",
     "output_type": "stream",
     "text": [
      " 16%|█▌        | 161/1024 [00:01<00:09, 87.76it/s]\n",
      "  1%|          | 9/1024 [00:00<00:12, 82.67it/s]"
     ]
    },
    {
     "name": "stdout",
     "output_type": "stream",
     "text": [
      "Decode ends at step 161\n",
      "/home/qihao/MelodyBot/octuple/output/melody_20250519:121116/相思的债_seg0_1_Seg2.mid\n",
      "Generating 371/387, Name: 相思的债_seg0_1_Seg2\n",
      "Expected decode length: 368\n",
      "Sampling strategy: temperature-1.5, top-5\n"
     ]
    },
    {
     "name": "stderr",
     "output_type": "stream",
     "text": [
      " 36%|███▌      | 366/1024 [00:04<00:07, 82.33it/s]\n",
      "  1%|          | 10/1024 [00:00<00:10, 92.18it/s]"
     ]
    },
    {
     "name": "stdout",
     "output_type": "stream",
     "text": [
      "Decode ends at step 366\n",
      "/home/qihao/MelodyBot/octuple/output/melody_20250519:121116/Lovelovelove_seg0_1_Seg1.mid\n",
      "Generating 372/387, Name: Lovelovelove_seg0_1_Seg1\n",
      "Expected decode length: 153\n",
      "Sampling strategy: temperature-1.5, top-5\n"
     ]
    },
    {
     "name": "stderr",
     "output_type": "stream",
     "text": [
      " 15%|█▍        | 151/1024 [00:01<00:09, 88.95it/s]\n",
      "  1%|          | 10/1024 [00:00<00:11, 90.30it/s]"
     ]
    },
    {
     "name": "stdout",
     "output_type": "stream",
     "text": [
      "Decode ends at step 151\n",
      "/home/qihao/MelodyBot/octuple/output/melody_20250519:121116/wikifonia_1921_seg0_1_Seg1.mid\n",
      "Generating 373/387, Name: wikifonia_1921_seg0_1_Seg1\n",
      "Expected decode length: 95\n",
      "Sampling strategy: temperature-1.5, top-5\n"
     ]
    },
    {
     "name": "stderr",
     "output_type": "stream",
     "text": [
      "  9%|▉         | 93/1024 [00:01<00:10, 87.42it/s]\n",
      "  1%|          | 10/1024 [00:00<00:11, 90.27it/s]"
     ]
    },
    {
     "name": "stdout",
     "output_type": "stream",
     "text": [
      "Decode ends at step 93\n",
      "/home/qihao/MelodyBot/octuple/output/melody_20250519:121116/wikifonia_177_seg0_1_Seg1.mid\n",
      "Generating 374/387, Name: wikifonia_177_seg0_1_Seg1\n",
      "Expected decode length: 114\n",
      "Sampling strategy: temperature-1.5, top-5\n"
     ]
    },
    {
     "name": "stderr",
     "output_type": "stream",
     "text": [
      " 11%|█         | 112/1024 [00:01<00:10, 87.32it/s]\n",
      "  1%|          | 10/1024 [00:00<00:11, 90.47it/s]"
     ]
    },
    {
     "name": "stdout",
     "output_type": "stream",
     "text": [
      "Decode ends at step 112\n",
      "/home/qihao/MelodyBot/octuple/output/melody_20250519:121116/wikifonia_130_seg0_1_Seg1.mid\n",
      "Generating 375/387, Name: wikifonia_130_seg0_1_Seg1\n",
      "Expected decode length: 115\n",
      "Sampling strategy: temperature-1.5, top-5\n"
     ]
    },
    {
     "name": "stderr",
     "output_type": "stream",
     "text": [
      " 11%|█         | 113/1024 [00:01<00:10, 87.55it/s]\n",
      "  1%|          | 10/1024 [00:00<00:11, 90.53it/s]"
     ]
    },
    {
     "name": "stdout",
     "output_type": "stream",
     "text": [
      "Decode ends at step 113\n",
      "/home/qihao/MelodyBot/octuple/output/melody_20250519:121116/wikifonia_2380_seg0_1_Seg1.mid\n",
      "Generating 376/387, Name: wikifonia_2380_seg0_1_Seg1\n",
      "Expected decode length: 166\n",
      "Sampling strategy: temperature-1.5, top-5\n"
     ]
    },
    {
     "name": "stderr",
     "output_type": "stream",
     "text": [
      " 16%|█▌        | 164/1024 [00:01<00:09, 87.83it/s]\n",
      "  1%|          | 10/1024 [00:00<00:11, 91.76it/s]"
     ]
    },
    {
     "name": "stdout",
     "output_type": "stream",
     "text": [
      "Decode ends at step 164\n",
      "/home/qihao/MelodyBot/octuple/output/melody_20250519:121116/wikifonia_3147_seg0_1_Seg1.mid\n",
      "Generating 377/387, Name: wikifonia_3147_seg0_1_Seg1\n",
      "Expected decode length: 57\n",
      "Sampling strategy: temperature-1.5, top-5\n"
     ]
    },
    {
     "name": "stderr",
     "output_type": "stream",
     "text": [
      "  5%|▌         | 55/1024 [00:00<00:11, 88.07it/s]\n",
      "  1%|          | 10/1024 [00:00<00:11, 90.60it/s]"
     ]
    },
    {
     "name": "stdout",
     "output_type": "stream",
     "text": [
      "Decode ends at step 55\n",
      "/home/qihao/MelodyBot/octuple/output/melody_20250519:121116/wikifonia_2293_seg0_1_Seg1.mid\n",
      "Generating 378/387, Name: wikifonia_2293_seg0_1_Seg1\n",
      "Expected decode length: 124\n",
      "Sampling strategy: temperature-1.5, top-5\n"
     ]
    },
    {
     "name": "stderr",
     "output_type": "stream",
     "text": [
      " 12%|█▏        | 122/1024 [00:01<00:10, 87.11it/s]\n",
      "  1%|          | 10/1024 [00:00<00:11, 90.38it/s]"
     ]
    },
    {
     "name": "stdout",
     "output_type": "stream",
     "text": [
      "Decode ends at step 122\n",
      "/home/qihao/MelodyBot/octuple/output/melody_20250519:121116/wikifonia_1992_seg0_1_Seg1.mid\n",
      "Generating 379/387, Name: wikifonia_1992_seg0_1_Seg1\n",
      "Expected decode length: 88\n",
      "Sampling strategy: temperature-1.5, top-5\n"
     ]
    },
    {
     "name": "stderr",
     "output_type": "stream",
     "text": [
      "  8%|▊         | 86/1024 [00:00<00:10, 87.35it/s]\n",
      "  1%|          | 10/1024 [00:00<00:11, 90.48it/s]"
     ]
    },
    {
     "name": "stdout",
     "output_type": "stream",
     "text": [
      "Decode ends at step 86\n",
      "/home/qihao/MelodyBot/octuple/output/melody_20250519:121116/wikifonia_2554_seg0_1_Seg1.mid\n",
      "Generating 380/387, Name: wikifonia_2554_seg0_1_Seg1\n",
      "Expected decode length: 67\n",
      "Sampling strategy: temperature-1.5, top-5\n"
     ]
    },
    {
     "name": "stderr",
     "output_type": "stream",
     "text": [
      "  6%|▋         | 65/1024 [00:00<00:10, 87.42it/s]\n",
      "  1%|          | 10/1024 [00:00<00:11, 91.34it/s]"
     ]
    },
    {
     "name": "stdout",
     "output_type": "stream",
     "text": [
      "Decode ends at step 65\n",
      "/home/qihao/MelodyBot/octuple/output/melody_20250519:121116/wikifonia_86_seg0_1_Seg1.mid\n",
      "Generating 381/387, Name: wikifonia_86_seg0_1_Seg1\n",
      "Expected decode length: 190\n",
      "Sampling strategy: temperature-1.5, top-5\n"
     ]
    },
    {
     "name": "stderr",
     "output_type": "stream",
     "text": [
      " 18%|█▊        | 188/1024 [00:02<00:09, 88.74it/s]\n",
      "  1%|          | 10/1024 [00:00<00:11, 90.23it/s]"
     ]
    },
    {
     "name": "stdout",
     "output_type": "stream",
     "text": [
      "Decode ends at step 188\n",
      "/home/qihao/MelodyBot/octuple/output/melody_20250519:121116/wikifonia_645_seg0_1_Seg1.mid\n",
      "Generating 382/387, Name: wikifonia_645_seg0_1_Seg1\n",
      "Expected decode length: 116\n",
      "Sampling strategy: temperature-1.5, top-5\n"
     ]
    },
    {
     "name": "stderr",
     "output_type": "stream",
     "text": [
      " 11%|█         | 114/1024 [00:01<00:10, 87.53it/s]\n",
      "  1%|          | 10/1024 [00:00<00:11, 90.48it/s]"
     ]
    },
    {
     "name": "stdout",
     "output_type": "stream",
     "text": [
      "Decode ends at step 114\n",
      "/home/qihao/MelodyBot/octuple/output/melody_20250519:121116/wikifonia_475_seg0_1_Seg1.mid\n",
      "Generating 383/387, Name: wikifonia_475_seg0_1_Seg1\n",
      "Expected decode length: 128\n",
      "Sampling strategy: temperature-1.5, top-5\n"
     ]
    },
    {
     "name": "stderr",
     "output_type": "stream",
     "text": [
      " 12%|█▏        | 126/1024 [00:01<00:10, 87.68it/s]\n",
      "  1%|          | 10/1024 [00:00<00:11, 90.63it/s]"
     ]
    },
    {
     "name": "stdout",
     "output_type": "stream",
     "text": [
      "Decode ends at step 126\n",
      "/home/qihao/MelodyBot/octuple/output/melody_20250519:121116/wikifonia_791_seg0_1_Seg1.mid\n",
      "Generating 384/387, Name: wikifonia_791_seg0_1_Seg1\n",
      "Expected decode length: 178\n",
      "Sampling strategy: temperature-1.5, top-5\n"
     ]
    },
    {
     "name": "stderr",
     "output_type": "stream",
     "text": [
      " 17%|█▋        | 176/1024 [00:02<00:10, 79.65it/s]\n",
      "  1%|          | 10/1024 [00:00<00:11, 91.58it/s]"
     ]
    },
    {
     "name": "stdout",
     "output_type": "stream",
     "text": [
      "Decode ends at step 176\n",
      "/home/qihao/MelodyBot/octuple/output/melody_20250519:121116/wikifonia_1767_seg0_1_Seg1.mid\n",
      "Generating 385/387, Name: wikifonia_1767_seg0_1_Seg1\n",
      "Expected decode length: 183\n",
      "Sampling strategy: temperature-1.5, top-5\n"
     ]
    },
    {
     "name": "stderr",
     "output_type": "stream",
     "text": [
      " 18%|█▊        | 181/1024 [00:02<00:09, 89.07it/s]\n",
      "  1%|          | 10/1024 [00:00<00:11, 90.96it/s]"
     ]
    },
    {
     "name": "stdout",
     "output_type": "stream",
     "text": [
      "Decode ends at step 181\n",
      "/home/qihao/MelodyBot/octuple/output/melody_20250519:121116/wikifonia_2906_seg0_1_Seg1.mid\n",
      "Generating 386/387, Name: wikifonia_2906_seg0_1_Seg1\n",
      "Expected decode length: 120\n",
      "Sampling strategy: temperature-1.5, top-5\n"
     ]
    },
    {
     "name": "stderr",
     "output_type": "stream",
     "text": [
      " 12%|█▏        | 118/1024 [00:01<00:10, 87.77it/s]\n"
     ]
    },
    {
     "name": "stdout",
     "output_type": "stream",
     "text": [
      "Decode ends at step 118\n",
      "/home/qihao/MelodyBot/octuple/output/melody_20250519:121116/wikifonia_445_seg0_1_Seg1.mid\n",
      "Generating 387/387, Name: wikifonia_445_seg0_1_Seg1\n"
     ]
    }
   ],
   "source": [
    "infer_l2m()"
   ]
  },
  {
   "cell_type": "code",
   "execution_count": 63,
   "id": "7c059b92-56bf-48be-b29d-fbb300da6f20",
   "metadata": {},
   "outputs": [],
   "source": [
    "tgt_dir = '/home/qihao/MelodyBot/octuple/output/melody_20250519:101740'\n",
    "src_dir = '/data1/qihao/cs6207/octuple/dataset_pop909/test'\n",
    "out_dir = '/home/qihao/MelodyBot/octuple/output/obj_metrics'"
   ]
  }
 ],
 "metadata": {
  "kernelspec": {
   "display_name": "xailyr",
   "language": "python",
   "name": "python3"
  },
  "language_info": {
   "codemirror_mode": {
    "name": "ipython",
    "version": 3
   },
   "file_extension": ".py",
   "mimetype": "text/x-python",
   "name": "python",
   "nbconvert_exporter": "python",
   "pygments_lexer": "ipython3",
   "version": "3.9.1"
  }
 },
 "nbformat": 4,
 "nbformat_minor": 5
}
