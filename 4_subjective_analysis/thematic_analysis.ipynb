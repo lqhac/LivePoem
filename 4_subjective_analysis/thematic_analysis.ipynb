{
 "cells": [
  {
   "cell_type": "code",
   "execution_count": 36,
   "id": "7c5643af-e267-44bf-b4cb-06d72bca310c",
   "metadata": {},
   "outputs": [],
   "source": [
    "import pandas as pd\n",
    "import numpy as np\n",
    "from sklearn.metrics import cohen_kappa_score"
   ]
  },
  {
   "cell_type": "code",
   "execution_count": 37,
   "id": "12fbaa33-fd71-4ab2-ace0-981566f9ed52",
   "metadata": {},
   "outputs": [],
   "source": [
    "df = pd.read_csv('response_coding.csv')"
   ]
  },
  {
   "cell_type": "code",
   "execution_count": 38,
   "id": "f987ddc6-f477-494b-88b0-cc38b25810f1",
   "metadata": {},
   "outputs": [],
   "source": [
    "coder_a = [3, 6, 9, 13, 17, 22, 26, 30, 34, 38, 42]\n",
    "theme_data = {}\n",
    "p_id = [str(i) for i in range(1,26)]"
   ]
  },
  {
   "cell_type": "code",
   "execution_count": 39,
   "id": "2b28aab2-7cc6-4904-a237-908634e2d5de",
   "metadata": {},
   "outputs": [
    {
     "name": "stdout",
     "output_type": "stream",
     "text": [
      "improved general understanding                    P1, P2, P3, P4, P6, P7, P8, P9, P10, P11, P13, P14, P15, P16, P17, P18, P19, P20, P21, P22, P23, P24, P25, \n",
      "enhanced understading through visuals             P1, P2, P3, P4, P6, P7, P8, P9, P10, P11, P13, P15, P16, P17, P18, P19, P20, P21, P24, P25, \n",
      "distracted by visuals                             P12, P15, \n",
      "enhanced understading through music               P5, P16, P21, \n",
      "distracted by music                               P3, P12, P24, \n",
      "Guided by storyboard                              P2, P3, P5, P6, P7, P9, P10, P11, P16, P17, P19, P20, P22, P25, \n",
      "Open to individual interpretation                 P13, P18, P23, \n",
      "Clarity for Storyboard                            P1, P2, P3, P4, P6, P7, P8, P10, P16, P17, P18, P19, P20, P22, P23, P24, \n",
      "Clarity of Traditional                            P3, P5, P12, P13, P15, P19, P21, P23, P25, \n",
      "Loss of attention, boredom                        P3, P5, P9, P17, P19, \n",
      "Ideal solution would be a blend of methods        P15, P18, P19, P23, \n"
     ]
    }
   ],
   "source": [
    "for idx in coder_a:\n",
    "    coder_a_row = idx-2\n",
    "    coder_b_row = idx-1\n",
    "    theme_row = coder_a_row-1\n",
    "    theme_value = df.iloc[theme_row]['Theme']\n",
    "    # print(theme_value)\n",
    "    if not pd.isna(theme_value):\n",
    "        theme = df.iloc[theme_row]['Theme']\n",
    "    sub_theme = df.iloc[theme_row]['Subtheme']\n",
    "    print(f\"{sub_theme:<50}\", end='')\n",
    "    for k in p_id:\n",
    "        if df.iloc[coder_a_row][k] == df.iloc[coder_b_row][k] and df.iloc[coder_a_row][k] == 1.0:\n",
    "            print(f\"P{k}\", end=', ')\n",
    "    print()"
   ]
  },
  {
   "cell_type": "code",
   "execution_count": 40,
   "id": "c09646e9-ada2-4510-9a90-b8924160a836",
   "metadata": {},
   "outputs": [],
   "source": [
    "for idx in coder_a:\n",
    "    coder_a_row = idx-2\n",
    "    coder_b_row = idx-1\n",
    "    theme_row = coder_a_row-1\n",
    "    theme_value = df.iloc[theme_row]['Theme']\n",
    "    # print(theme_value)\n",
    "    if not pd.isna(theme_value):\n",
    "        theme = df.iloc[theme_row]['Theme']\n",
    "    sub_theme = df.iloc[theme_row]['Subtheme']\n",
    "    coder_a_rating = [df.iloc[coder_a_row][k] for k in [str(i) for i in range(1, 26)]]\n",
    "    coder_b_rating = [df.iloc[coder_b_row][k] for k in [str(i) for i in range(1, 26)]]\n",
    "    assert len(coder_a_rating) == 25\n",
    "    assert len(coder_b_rating) == 25\n",
    "    theme_data[(theme, sub_theme)] = (coder_a_rating, coder_b_rating)"
   ]
  },
  {
   "cell_type": "code",
   "execution_count": 41,
   "id": "74719d76-8308-48ad-9933-fdec57f9065b",
   "metadata": {},
   "outputs": [
    {
     "name": "stdout",
     "output_type": "stream",
     "text": [
      "Coded Themes, Subthemes, and Cohen's Kappa Scores\n",
      "Themes                                  SubThemes                                         Cohen's Kappa Scores\n",
      "Understanding through Multimodality     improved general understanding                    1.0       \n",
      "Understanding through Multimodality     enhanced understading through visuals             0.8648648648648649\n",
      "Understanding through Multimodality     distracted by visuals                             1.0       \n",
      "Understanding through Multimodality     enhanced understading through music               1.0       \n",
      "Understanding through Multimodality     distracted by music                               1.0       \n",
      "Understanding through Multimodality     Guided by storyboard                              0.7457627118644068\n",
      "Understanding through Multimodality     Open to individual interpretation                 1.0       \n",
      "Understanding through Multimodality     Clarity for Storyboard                            0.6153846153846154\n",
      "Understanding through Multimodality     Clarity of Traditional                            1.0       \n",
      "Increased engagement of storyboards     Loss of attention, boredom                        1.0       \n",
      "Complementary methodologies             Ideal solution would be a blend of methods        1.0       \n",
      "\n",
      "Interpretations of Cohen's Kappa:\n",
      "values ≤ 0: indicating no agreement;\n",
      "0.01–0.20: none to slight;\n",
      "0.21–0.40: fair;\n",
      "0.41– 0.60: moderate;\n",
      "0.61–0.80: substantial;\n",
      "0.81–1.00: almost perfect agreement.\n",
      "\n",
      "Mean: 0.9296374720103535\n",
      "SD: 0.1266230478493836\n"
     ]
    }
   ],
   "source": [
    "print(\"Coded Themes, Subthemes, and Cohen's Kappa Scores\")\n",
    "kappa_for_themes = []\n",
    "print(f'''{'Themes':<40}{'SubThemes':<50}{\"Cohen's Kappa Scores\":<10}''')\n",
    "for st, ratings in theme_data.items():\n",
    "    score = cohen_kappa_score(ratings[0], ratings[1])\n",
    "    kappa_for_themes.append(score)\n",
    "    print(f\"{st[0].strip():<40}{st[1].strip():<50}{score:<10}\")\n",
    "\n",
    "print('''\\nInterpretations of Cohen's Kappa:\n",
    "values ≤ 0: indicating no agreement;\n",
    "0.01–0.20: none to slight;\n",
    "0.21–0.40: fair;\n",
    "0.41– 0.60: moderate;\n",
    "0.61–0.80: substantial;\n",
    "0.81–1.00: almost perfect agreement.''')\n",
    "\n",
    "print(f\"\\nMean: {np.mean(kappa_for_themes)}\\nSD: {np.std(kappa_for_themes)}\")"
   ]
  },
  {
   "cell_type": "code",
   "execution_count": 42,
   "id": "b0cfe2d4-72f8-4e78-a059-5d627de381ed",
   "metadata": {},
   "outputs": [
    {
     "name": "stdout",
     "output_type": "stream",
     "text": [
      "Cohen's Kappa on Aggregated Datapoints: 0.9386092197789931\n"
     ]
    }
   ],
   "source": [
    "rater_a_all = []\n",
    "rater_b_all = []\n",
    "for st, ratings in theme_data.items():\n",
    "    rater_a_all.extend(ratings[0])\n",
    "    rater_b_all.extend(ratings[1])\n",
    "score = cohen_kappa_score(rater_a_all, rater_b_all)\n",
    "print(f\"Cohen's Kappa on Aggregated Datapoints: {score:<10}\")"
   ]
  }
 ],
 "metadata": {
  "kernelspec": {
   "display_name": "myenv",
   "language": "python",
   "name": "python3"
  },
  "language_info": {
   "codemirror_mode": {
    "name": "ipython",
    "version": 3
   },
   "file_extension": ".py",
   "mimetype": "text/x-python",
   "name": "python",
   "nbconvert_exporter": "python",
   "pygments_lexer": "ipython3",
   "version": "3.9.20"
  }
 },
 "nbformat": 4,
 "nbformat_minor": 5
}
